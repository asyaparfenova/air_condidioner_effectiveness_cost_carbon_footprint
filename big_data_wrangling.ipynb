{
 "cells": [
  {
   "cell_type": "code",
   "execution_count": 1,
   "metadata": {},
   "outputs": [],
   "source": [
    "import pandas as pd\n",
    "import numpy as np\n",
    "from scipy import stats"
   ]
  },
  {
   "cell_type": "code",
   "execution_count": 2,
   "metadata": {},
   "outputs": [
    {
     "name": "stderr",
     "output_type": "stream",
     "text": [
      "C:\\Users\\asyap\\anaconda3\\lib\\site-packages\\numpy\\lib\\arraysetops.py:569: FutureWarning: elementwise comparison failed; returning scalar instead, but in the future will perform elementwise comparison\n",
      "  mask |= (ar1 == a)\n"
     ]
    }
   ],
   "source": [
    "data = pd.read_csv('big_data.csv', sep=',', index_col='Unnamed: 0')"
   ]
  },
  {
   "cell_type": "code",
   "execution_count": 3,
   "metadata": {
    "scrolled": false
   },
   "outputs": [
    {
     "data": {
      "text/html": [
       "<div>\n",
       "<style scoped>\n",
       "    .dataframe tbody tr th:only-of-type {\n",
       "        vertical-align: middle;\n",
       "    }\n",
       "\n",
       "    .dataframe tbody tr th {\n",
       "        vertical-align: top;\n",
       "    }\n",
       "\n",
       "    .dataframe thead th {\n",
       "        text-align: right;\n",
       "    }\n",
       "</style>\n",
       "<table border=\"1\" class=\"dataframe\">\n",
       "  <thead>\n",
       "    <tr style=\"text-align: right;\">\n",
       "      <th></th>\n",
       "      <th>state_id</th>\n",
       "      <th>entity_id</th>\n",
       "      <th>state</th>\n",
       "      <th>last_changed</th>\n",
       "      <th>last_updated</th>\n",
       "    </tr>\n",
       "  </thead>\n",
       "  <tbody>\n",
       "    <tr>\n",
       "      <th>0</th>\n",
       "      <td>1406062</td>\n",
       "      <td>sensor.room_temperature</td>\n",
       "      <td>21.7</td>\n",
       "      <td>2020-05-01 00:01:22</td>\n",
       "      <td>2020-05-01 00:01:22</td>\n",
       "    </tr>\n",
       "    <tr>\n",
       "      <th>1</th>\n",
       "      <td>1406063</td>\n",
       "      <td>sensor.room_humidity</td>\n",
       "      <td>52.6</td>\n",
       "      <td>2020-05-01 00:01:22</td>\n",
       "      <td>2020-05-01 00:01:22</td>\n",
       "    </tr>\n",
       "    <tr>\n",
       "      <th>2</th>\n",
       "      <td>1406064</td>\n",
       "      <td>sensor.bathroom_temperature</td>\n",
       "      <td>22.7</td>\n",
       "      <td>2020-05-01 00:01:22</td>\n",
       "      <td>2020-05-01 00:01:22</td>\n",
       "    </tr>\n",
       "    <tr>\n",
       "      <th>3</th>\n",
       "      <td>1406065</td>\n",
       "      <td>sensor.bathroom_humidity</td>\n",
       "      <td>56.0</td>\n",
       "      <td>2020-05-01 00:01:22</td>\n",
       "      <td>2020-05-01 00:01:22</td>\n",
       "    </tr>\n",
       "    <tr>\n",
       "      <th>4</th>\n",
       "      <td>1406066</td>\n",
       "      <td>sensor.fittonia_temperature</td>\n",
       "      <td>21.1</td>\n",
       "      <td>2020-05-01 00:01:22</td>\n",
       "      <td>2020-05-01 00:01:22</td>\n",
       "    </tr>\n",
       "  </tbody>\n",
       "</table>\n",
       "</div>"
      ],
      "text/plain": [
       "   state_id                    entity_id state         last_changed  \\\n",
       "0   1406062      sensor.room_temperature  21.7  2020-05-01 00:01:22   \n",
       "1   1406063         sensor.room_humidity  52.6  2020-05-01 00:01:22   \n",
       "2   1406064  sensor.bathroom_temperature  22.7  2020-05-01 00:01:22   \n",
       "3   1406065     sensor.bathroom_humidity  56.0  2020-05-01 00:01:22   \n",
       "4   1406066  sensor.fittonia_temperature  21.1  2020-05-01 00:01:22   \n",
       "\n",
       "          last_updated  \n",
       "0  2020-05-01 00:01:22  \n",
       "1  2020-05-01 00:01:22  \n",
       "2  2020-05-01 00:01:22  \n",
       "3  2020-05-01 00:01:22  \n",
       "4  2020-05-01 00:01:22  "
      ]
     },
     "execution_count": 3,
     "metadata": {},
     "output_type": "execute_result"
    }
   ],
   "source": [
    "data.head()"
   ]
  },
  {
   "cell_type": "code",
   "execution_count": 4,
   "metadata": {},
   "outputs": [
    {
     "data": {
      "text/plain": [
       "(2412216, 5)"
      ]
     },
     "execution_count": 4,
     "metadata": {},
     "output_type": "execute_result"
    }
   ],
   "source": [
    "data.shape"
   ]
  },
  {
   "cell_type": "code",
   "execution_count": 9,
   "metadata": {},
   "outputs": [
    {
     "data": {
      "text/plain": [
       "array(['sensor.room_temperature', 'sensor.room_humidity',\n",
       "       'sensor.bathroom_temperature', 'sensor.bathroom_humidity',\n",
       "       'sensor.fittonia_temperature', 'sensor.fittonia_moisture',\n",
       "       'sensor.fittonia_fertility', 'sensor.fittonia_lux',\n",
       "       'sensor.kitchen_temperature', 'sensor.kitchen_humidity',\n",
       "       'plant.fittonia', 'sensor.kitchen_thermostat_temperature',\n",
       "       'climate.kitchen_thermostat', 'binary_sensor.kitchen_window',\n",
       "       'sensor.equipment_temperature', 'binary_sensor.entrance_door',\n",
       "       'person.one', 'sensor.weather_temperature', 'light.balcony',\n",
       "       'sensor.weather_humidity', 'light.kitchen_rgb',\n",
       "       'sensor.bathroom_thermostat_temperature',\n",
       "       'climate.bathroom_thermostat',\n",
       "       'sensor.room_thermostat_temperature', 'climate.room_thermostat',\n",
       "       'light.hallway_rgb', 'binary_sensor.critical', 'light.bathroom',\n",
       "       'switch.raspberry_pi_fan', 'binary_sensor.balcony_door',\n",
       "       'light.bedside_lamp', 'light.hue_go', 'media_player.tv',\n",
       "       'cover.windows', 'cover.balcony', 'light.room_ceiling',\n",
       "       'light.desk_lamp', 'light.hallway_ceiling', 'light.room_corner',\n",
       "       'vacuum.roborock', 'person.two', 'light.kitchen_ceiling',\n",
       "       'switch.phone_charger', 'light.blaulicht',\n",
       "       'binary_sensor.room_window', 'climate.air_conditioner',\n",
       "       'binary_sensor.laptop', 'sensor.ac_power',\n",
       "       'binary_sensor.laptop_work', 'binary_sensor.printer',\n",
       "       'plant.calathea', 'sensor.calathea_temperature',\n",
       "       'sensor.calathea_moisture', 'sensor.calathea_lux',\n",
       "       'sensor.calathea_fertility', 'binary_sensor.warning',\n",
       "       'sensor.room_illuminance_lux', 'sensor.room_illuminance_lux_2',\n",
       "       'light.office_ceiling', 'sensor.atmospheric_pressure',\n",
       "       'sensor.room_temperature_2',\n",
       "       'sensor.fittonia_sunlight_accumulated',\n",
       "       'sensor.calathea_sunlight_accumulated',\n",
       "       'sensor.kitchen_temperature_2', 'sensor.bathroom_temperature_2',\n",
       "       'sensor.office_co2', 'sensor.kitchen_temperature_3',\n",
       "       'sensor.kitchen_illuminance_lux', 'sensor.hallway_temperature',\n",
       "       'sensor.washing_machine_vibration',\n",
       "       'sensor.washing_machine_vibration_strength', 'light.storage',\n",
       "       'sensor.sunlight_lux', 'climate.air_conditioner_old',\n",
       "       'sensor.sysmon_cpu_use', 'sensor.sysmon_cpu_temperature',\n",
       "       'fan.fan'], dtype=object)"
      ]
     },
     "execution_count": 9,
     "metadata": {},
     "output_type": "execute_result"
    }
   ],
   "source": [
    "data['entity_id'].unique()"
   ]
  },
  {
   "cell_type": "markdown",
   "metadata": {},
   "source": [
    "### 1) Dropping sensors we don't need and column 'state_id'"
   ]
  },
  {
   "cell_type": "code",
   "execution_count": 8,
   "metadata": {},
   "outputs": [],
   "source": [
    "sensors_to_drop = ['sensor.calathea_temperature',\n",
    "                   'plant.calathea',\n",
    "                   'sensor.fittonia_temperature',\n",
    "                   'plant.fittonia',\n",
    "                   'sensor.room_illuminance_lux',\n",
    "                   'sensor.room_illuminance_lux_2',\n",
    "                   'sensor.calathea_lux',\n",
    "                   'sensor.calathea_sunlight_accumulated',\n",
    "                   'sensor.calathea_fertility',\n",
    "                   'sensor.fittonia_fertility',\n",
    "                   'sensor.fittonia_lux',\n",
    "                   'sensor.fittonia_moisture',\n",
    "                   'sensor.fittonia_sunlight_accumulated',\n",
    "                   'binary_sensor.warning',\n",
    "                   'switch.raspberry_pi_fan',\n",
    "                   'media_player.tv',\n",
    "                   'binary_sensor.laptop_work',\n",
    "                   'binary_sensor.critical',\n",
    "                   'binary_sensor.laptop',\n",
    "                   'binary_sensor.printer',\n",
    "                   'vacuum.roborock',\n",
    "                   'switch.phone_charger',\n",
    "                   'sensor.calathea_moisture',\n",
    "                   'light.office_ceiling',\n",
    "                   'light.kitchen_rgb',\n",
    "                   'light.balcony',\n",
    "                   'light.hue_go',\n",
    "                   'light.kitchen_ceiling',\n",
    "                   'light.room_ceiling',\n",
    "                   'light.bathroom',\n",
    "                   'light.bedside_lamp',\n",
    "                   'light.desk_lamp',\n",
    "                   'light.hallway_rgb',\n",
    "                   'light.hallway_ceiling',\n",
    "                   'light.blaulicht',\n",
    "                   'binary_sensor.entrance_door',\n",
    "                   'light.room_corner',\n",
    "                   'light.storage',\n",
    "                   'sensor.washing_machine_vibration',\n",
    "                   'sensor.washing_machine_vibration_strength',\n",
    "                   'sensor.kitchen_thermostat_temperature',\n",
    "                   'climate.kitchen_thermostat',\n",
    "                   'sensor.bathroom_thermostat_temperature',\n",
    "                   'climate.bathroom_thermostat',\n",
    "                   'sensor.room_thermostat_temperature',\n",
    "                   'climate.room_thermostat',\n",
    "                   'sensor.kitchen_temperature_3',\n",
    "                   'sensor.kitchen_temperature_2',\n",
    "                   'sensor.kitchen_illuminance_lux',\n",
    "                   'sensor.hallway_temperature',\n",
    "                   'sensor.sunlight_lux',\n",
    "                   'sensor.sysmon_cpu_use',\n",
    "                   'sensor.sysmon_cpu_temperature',\n",
    "                   'fan.fan',\n",
    "                   'sensor.bathroom_temperature_2',\n",
    "                   'sensor.room_temperature_2']"
   ]
  },
  {
   "cell_type": "code",
   "execution_count": 9,
   "metadata": {},
   "outputs": [
    {
     "name": "stdout",
     "output_type": "stream",
     "text": [
      "Wall time: 21.2 s\n"
     ]
    }
   ],
   "source": [
    "%%time\n",
    "for item in sensors_to_drop:\n",
    "    data.drop(data[data['entity_id'] == item].index, axis=0, inplace=True)"
   ]
  },
  {
   "cell_type": "code",
   "execution_count": 10,
   "metadata": {},
   "outputs": [
    {
     "data": {
      "text/plain": [
       "(928315, 5)"
      ]
     },
     "execution_count": 10,
     "metadata": {},
     "output_type": "execute_result"
    }
   ],
   "source": [
    "data.shape"
   ]
  },
  {
   "cell_type": "code",
   "execution_count": 11,
   "metadata": {},
   "outputs": [],
   "source": [
    "data.drop(['state_id'], axis=1, inplace=True)"
   ]
  },
  {
   "cell_type": "code",
   "execution_count": 12,
   "metadata": {},
   "outputs": [
    {
     "data": {
      "text/plain": [
       "(928315, 4)"
      ]
     },
     "execution_count": 12,
     "metadata": {},
     "output_type": "execute_result"
    }
   ],
   "source": [
    "data.shape"
   ]
  },
  {
   "cell_type": "markdown",
   "metadata": {},
   "source": [
    "### 2) Dropping NaNs and duplicates"
   ]
  },
  {
   "cell_type": "code",
   "execution_count": 13,
   "metadata": {},
   "outputs": [
    {
     "data": {
      "text/plain": [
       "(928287, 4)"
      ]
     },
     "execution_count": 13,
     "metadata": {},
     "output_type": "execute_result"
    }
   ],
   "source": [
    "data.dropna(inplace=True)\n",
    "data.shape"
   ]
  },
  {
   "cell_type": "code",
   "execution_count": 14,
   "metadata": {},
   "outputs": [
    {
     "data": {
      "text/plain": [
       "21075"
      ]
     },
     "execution_count": 14,
     "metadata": {},
     "output_type": "execute_result"
    }
   ],
   "source": [
    "data.duplicated().sum()"
   ]
  },
  {
   "cell_type": "code",
   "execution_count": 15,
   "metadata": {},
   "outputs": [
    {
     "data": {
      "text/plain": [
       "(891427, 4)"
      ]
     },
     "execution_count": 15,
     "metadata": {},
     "output_type": "execute_result"
    }
   ],
   "source": [
    "data.drop_duplicates(keep=False,inplace=True)\n",
    "data.shape"
   ]
  },
  {
   "cell_type": "markdown",
   "metadata": {},
   "source": [
    "### 3) Dropping '1-second-artefacts' as well as 'unavaliable' and 'unknown' values"
   ]
  },
  {
   "cell_type": "code",
   "execution_count": 16,
   "metadata": {},
   "outputs": [
    {
     "data": {
      "text/plain": [
       "(480662, 5)"
      ]
     },
     "execution_count": 16,
     "metadata": {},
     "output_type": "execute_result"
    }
   ],
   "source": [
    "data['updated_shift'] = data['last_updated'].shift()\n",
    "data.drop(data[data['last_changed'] == data['updated_shift']].index, axis=0, inplace = True)\n",
    "data.shape"
   ]
  },
  {
   "cell_type": "code",
   "execution_count": 17,
   "metadata": {},
   "outputs": [
    {
     "data": {
      "text/plain": [
       "(477838, 5)"
      ]
     },
     "execution_count": 17,
     "metadata": {},
     "output_type": "execute_result"
    }
   ],
   "source": [
    "data.drop(data[data['state'] == 'unavailable'].index, axis=0, inplace=True)\n",
    "data.drop(data[data['state'] == 'unknown'].index, axis=0, inplace=True)\n",
    "data.drop(data[data['state'] == '\\\\N'].index, axis=0, inplace=True)\n",
    "data.drop(data[data['state'] == 'None'].index, axis=0, inplace=True)\n",
    "data.drop(data[data['state'] == 'ok'].index, axis=0, inplace=True)\n",
    "\n",
    "data.shape"
   ]
  },
  {
   "cell_type": "code",
   "execution_count": 18,
   "metadata": {},
   "outputs": [
    {
     "data": {
      "text/plain": [
       "array([1], dtype=int64)"
      ]
     },
     "execution_count": 18,
     "metadata": {},
     "output_type": "execute_result"
    }
   ],
   "source": [
    "grouped_data = data[['entity_id', 'state', 'last_updated']].groupby(['entity_id', 'last_updated']).count()\n",
    "grouped_data['state'].unique()"
   ]
  },
  {
   "cell_type": "markdown",
   "metadata": {},
   "source": [
    "Perfect! No more dupicates! Now we can pivot!"
   ]
  },
  {
   "cell_type": "markdown",
   "metadata": {},
   "source": [
    "### 4) But first we have to deal with time columns!"
   ]
  },
  {
   "cell_type": "code",
   "execution_count": 19,
   "metadata": {},
   "outputs": [
    {
     "data": {
      "text/plain": [
       "(477838, 3)"
      ]
     },
     "execution_count": 19,
     "metadata": {},
     "output_type": "execute_result"
    }
   ],
   "source": [
    "data.drop(['last_changed', 'updated_shift'], axis=1, inplace=True)\n",
    "data.shape"
   ]
  },
  {
   "cell_type": "code",
   "execution_count": 20,
   "metadata": {},
   "outputs": [
    {
     "data": {
      "text/plain": [
       "(477838, 3)"
      ]
     },
     "execution_count": 20,
     "metadata": {},
     "output_type": "execute_result"
    }
   ],
   "source": [
    "data['timestamp'] = pd.to_datetime(data['last_updated'])\n",
    "data.drop(['last_updated'], axis=1, inplace=True)\n",
    "data.shape"
   ]
  },
  {
   "cell_type": "markdown",
   "metadata": {},
   "source": [
    "### 5) Let's pivot the table!"
   ]
  },
  {
   "cell_type": "code",
   "execution_count": 21,
   "metadata": {},
   "outputs": [],
   "source": [
    "df = data.pivot(index='timestamp', columns='entity_id', values='state')"
   ]
  },
  {
   "cell_type": "code",
   "execution_count": 22,
   "metadata": {},
   "outputs": [
    {
     "data": {
      "text/plain": [
       "(443739, 21)"
      ]
     },
     "execution_count": 22,
     "metadata": {},
     "output_type": "execute_result"
    }
   ],
   "source": [
    "df.shape"
   ]
  },
  {
   "cell_type": "code",
   "execution_count": 240,
   "metadata": {},
   "outputs": [
    {
     "data": {
      "text/html": [
       "<div>\n",
       "<style scoped>\n",
       "    .dataframe tbody tr th:only-of-type {\n",
       "        vertical-align: middle;\n",
       "    }\n",
       "\n",
       "    .dataframe tbody tr th {\n",
       "        vertical-align: top;\n",
       "    }\n",
       "\n",
       "    .dataframe thead th {\n",
       "        text-align: right;\n",
       "    }\n",
       "</style>\n",
       "<table border=\"1\" class=\"dataframe\">\n",
       "  <thead>\n",
       "    <tr style=\"text-align: right;\">\n",
       "      <th>entity_id</th>\n",
       "      <th>binary_sensor.balcony_door</th>\n",
       "      <th>binary_sensor.kitchen_window</th>\n",
       "      <th>binary_sensor.room_window</th>\n",
       "      <th>climate.air_conditioner</th>\n",
       "      <th>climate.air_conditioner_old</th>\n",
       "      <th>cover.balcony</th>\n",
       "      <th>cover.windows</th>\n",
       "      <th>person.one</th>\n",
       "      <th>person.two</th>\n",
       "      <th>sensor.ac_power</th>\n",
       "      <th>...</th>\n",
       "      <th>sensor.bathroom_humidity</th>\n",
       "      <th>sensor.bathroom_temperature</th>\n",
       "      <th>sensor.equipment_temperature</th>\n",
       "      <th>sensor.kitchen_humidity</th>\n",
       "      <th>sensor.kitchen_temperature</th>\n",
       "      <th>sensor.office_co2</th>\n",
       "      <th>sensor.room_humidity</th>\n",
       "      <th>sensor.room_temperature</th>\n",
       "      <th>sensor.weather_humidity</th>\n",
       "      <th>sensor.weather_temperature</th>\n",
       "    </tr>\n",
       "    <tr>\n",
       "      <th>timestamp</th>\n",
       "      <th></th>\n",
       "      <th></th>\n",
       "      <th></th>\n",
       "      <th></th>\n",
       "      <th></th>\n",
       "      <th></th>\n",
       "      <th></th>\n",
       "      <th></th>\n",
       "      <th></th>\n",
       "      <th></th>\n",
       "      <th></th>\n",
       "      <th></th>\n",
       "      <th></th>\n",
       "      <th></th>\n",
       "      <th></th>\n",
       "      <th></th>\n",
       "      <th></th>\n",
       "      <th></th>\n",
       "      <th></th>\n",
       "      <th></th>\n",
       "      <th></th>\n",
       "    </tr>\n",
       "  </thead>\n",
       "  <tbody>\n",
       "    <tr>\n",
       "      <th>2020-05-01 00:01:22</th>\n",
       "      <td>NaN</td>\n",
       "      <td>NaN</td>\n",
       "      <td>NaN</td>\n",
       "      <td>NaN</td>\n",
       "      <td>NaN</td>\n",
       "      <td>NaN</td>\n",
       "      <td>NaN</td>\n",
       "      <td>NaN</td>\n",
       "      <td>NaN</td>\n",
       "      <td>NaN</td>\n",
       "      <td>...</td>\n",
       "      <td>NaN</td>\n",
       "      <td>NaN</td>\n",
       "      <td>NaN</td>\n",
       "      <td>NaN</td>\n",
       "      <td>NaN</td>\n",
       "      <td>NaN</td>\n",
       "      <td>NaN</td>\n",
       "      <td>21.7</td>\n",
       "      <td>NaN</td>\n",
       "      <td>NaN</td>\n",
       "    </tr>\n",
       "    <tr>\n",
       "      <th>2020-05-01 00:03:23</th>\n",
       "      <td>NaN</td>\n",
       "      <td>NaN</td>\n",
       "      <td>NaN</td>\n",
       "      <td>NaN</td>\n",
       "      <td>NaN</td>\n",
       "      <td>NaN</td>\n",
       "      <td>NaN</td>\n",
       "      <td>NaN</td>\n",
       "      <td>NaN</td>\n",
       "      <td>NaN</td>\n",
       "      <td>...</td>\n",
       "      <td>NaN</td>\n",
       "      <td>NaN</td>\n",
       "      <td>NaN</td>\n",
       "      <td>NaN</td>\n",
       "      <td>NaN</td>\n",
       "      <td>NaN</td>\n",
       "      <td>NaN</td>\n",
       "      <td>21.7</td>\n",
       "      <td>NaN</td>\n",
       "      <td>NaN</td>\n",
       "    </tr>\n",
       "    <tr>\n",
       "      <th>2020-05-01 00:03:41</th>\n",
       "      <td>NaN</td>\n",
       "      <td>off</td>\n",
       "      <td>NaN</td>\n",
       "      <td>NaN</td>\n",
       "      <td>NaN</td>\n",
       "      <td>NaN</td>\n",
       "      <td>NaN</td>\n",
       "      <td>NaN</td>\n",
       "      <td>NaN</td>\n",
       "      <td>NaN</td>\n",
       "      <td>...</td>\n",
       "      <td>NaN</td>\n",
       "      <td>NaN</td>\n",
       "      <td>NaN</td>\n",
       "      <td>NaN</td>\n",
       "      <td>NaN</td>\n",
       "      <td>NaN</td>\n",
       "      <td>NaN</td>\n",
       "      <td>NaN</td>\n",
       "      <td>NaN</td>\n",
       "      <td>NaN</td>\n",
       "    </tr>\n",
       "  </tbody>\n",
       "</table>\n",
       "<p>3 rows × 21 columns</p>\n",
       "</div>"
      ],
      "text/plain": [
       "entity_id           binary_sensor.balcony_door binary_sensor.kitchen_window  \\\n",
       "timestamp                                                                     \n",
       "2020-05-01 00:01:22                        NaN                          NaN   \n",
       "2020-05-01 00:03:23                        NaN                          NaN   \n",
       "2020-05-01 00:03:41                        NaN                          off   \n",
       "\n",
       "entity_id           binary_sensor.room_window climate.air_conditioner  \\\n",
       "timestamp                                                               \n",
       "2020-05-01 00:01:22                       NaN                     NaN   \n",
       "2020-05-01 00:03:23                       NaN                     NaN   \n",
       "2020-05-01 00:03:41                       NaN                     NaN   \n",
       "\n",
       "entity_id           climate.air_conditioner_old cover.balcony cover.windows  \\\n",
       "timestamp                                                                     \n",
       "2020-05-01 00:01:22                         NaN           NaN           NaN   \n",
       "2020-05-01 00:03:23                         NaN           NaN           NaN   \n",
       "2020-05-01 00:03:41                         NaN           NaN           NaN   \n",
       "\n",
       "entity_id           person.one person.two  sensor.ac_power  ...  \\\n",
       "timestamp                                                   ...   \n",
       "2020-05-01 00:01:22        NaN        NaN              NaN  ...   \n",
       "2020-05-01 00:03:23        NaN        NaN              NaN  ...   \n",
       "2020-05-01 00:03:41        NaN        NaN              NaN  ...   \n",
       "\n",
       "entity_id            sensor.bathroom_humidity  sensor.bathroom_temperature  \\\n",
       "timestamp                                                                    \n",
       "2020-05-01 00:01:22                       NaN                          NaN   \n",
       "2020-05-01 00:03:23                       NaN                          NaN   \n",
       "2020-05-01 00:03:41                       NaN                          NaN   \n",
       "\n",
       "entity_id            sensor.equipment_temperature  sensor.kitchen_humidity  \\\n",
       "timestamp                                                                    \n",
       "2020-05-01 00:01:22                           NaN                      NaN   \n",
       "2020-05-01 00:03:23                           NaN                      NaN   \n",
       "2020-05-01 00:03:41                           NaN                      NaN   \n",
       "\n",
       "entity_id            sensor.kitchen_temperature  sensor.office_co2  \\\n",
       "timestamp                                                            \n",
       "2020-05-01 00:01:22                         NaN                NaN   \n",
       "2020-05-01 00:03:23                         NaN                NaN   \n",
       "2020-05-01 00:03:41                         NaN                NaN   \n",
       "\n",
       "entity_id            sensor.room_humidity  sensor.room_temperature  \\\n",
       "timestamp                                                            \n",
       "2020-05-01 00:01:22                   NaN                     21.7   \n",
       "2020-05-01 00:03:23                   NaN                     21.7   \n",
       "2020-05-01 00:03:41                   NaN                      NaN   \n",
       "\n",
       "entity_id            sensor.weather_humidity  sensor.weather_temperature  \n",
       "timestamp                                                                 \n",
       "2020-05-01 00:01:22                      NaN                         NaN  \n",
       "2020-05-01 00:03:23                      NaN                         NaN  \n",
       "2020-05-01 00:03:41                      NaN                         NaN  \n",
       "\n",
       "[3 rows x 21 columns]"
      ]
     },
     "execution_count": 240,
     "metadata": {},
     "output_type": "execute_result"
    }
   ],
   "source": [
    "df.head(3)"
   ]
  },
  {
   "cell_type": "markdown",
   "metadata": {},
   "source": [
    "### 6) Let's divide numeric and categorical columns"
   ]
  },
  {
   "cell_type": "code",
   "execution_count": 23,
   "metadata": {},
   "outputs": [],
   "source": [
    "numeric_columns = ['sensor.ac_power',\n",
    "       'sensor.atmospheric_pressure', 'sensor.bathroom_humidity',\n",
    "       'sensor.bathroom_temperature',\n",
    "       'sensor.equipment_temperature', 'sensor.kitchen_humidity',\n",
    "       'sensor.kitchen_temperature',\n",
    "       'sensor.office_co2', 'sensor.room_humidity', 'sensor.room_temperature', 'sensor.weather_humidity',\n",
    "       'sensor.weather_temperature']"
   ]
  },
  {
   "cell_type": "code",
   "execution_count": 24,
   "metadata": {},
   "outputs": [],
   "source": [
    "categorical_columns = ['binary_sensor.balcony_door', 'binary_sensor.kitchen_window',\n",
    "       'binary_sensor.room_window', 'climate.air_conditioner', 'climate.air_conditioner_old', 'cover.balcony',\n",
    "       'cover.windows', 'person.one', 'person.two']"
   ]
  },
  {
   "cell_type": "markdown",
   "metadata": {},
   "source": [
    "### 7) Working with numeric data "
   ]
  },
  {
   "cell_type": "code",
   "execution_count": 25,
   "metadata": {},
   "outputs": [],
   "source": [
    "for column in numeric_columns:\n",
    "    df[column] = pd.to_numeric(df[column]) "
   ]
  },
  {
   "cell_type": "code",
   "execution_count": 26,
   "metadata": {},
   "outputs": [],
   "source": [
    "numeric_df = df[numeric_columns].groupby([df.index.month, df.index.day, df.index.hour, df.index.minute]).mean()"
   ]
  },
  {
   "cell_type": "code",
   "execution_count": 27,
   "metadata": {},
   "outputs": [
    {
     "data": {
      "text/plain": [
       "(179068, 12)"
      ]
     },
     "execution_count": 27,
     "metadata": {},
     "output_type": "execute_result"
    }
   ],
   "source": [
    "numeric_df.shape"
   ]
  },
  {
   "cell_type": "code",
   "execution_count": 34,
   "metadata": {},
   "outputs": [],
   "source": [
    "numeric_df['check_time'] = numeric_df.index\n",
    "numeric_df['check_time_2'] = numeric_df['check_time'].transform(lambda x: f'2020-{x[0]}-{x[1]} {x[2]}:{x[3]}:00')\n",
    "numeric_df['time'] = pd.to_datetime(numeric_df['check_time_2'])"
   ]
  },
  {
   "cell_type": "code",
   "execution_count": 37,
   "metadata": {},
   "outputs": [],
   "source": [
    "del numeric_df['check_time']\n",
    "del numeric_df['check_time_2']"
   ]
  },
  {
   "cell_type": "code",
   "execution_count": 38,
   "metadata": {},
   "outputs": [
    {
     "data": {
      "text/plain": [
       "(179068, 13)"
      ]
     },
     "execution_count": 38,
     "metadata": {},
     "output_type": "execute_result"
    }
   ],
   "source": [
    "numeric_df.shape"
   ]
  },
  {
   "cell_type": "code",
   "execution_count": 39,
   "metadata": {},
   "outputs": [
    {
     "data": {
      "text/plain": [
       "timestamp  timestamp  timestamp  timestamp\n",
       "5          1          0          1           2020-05-01 00:01:00\n",
       "                                 3           2020-05-01 00:03:00\n",
       "                                 5           2020-05-01 00:05:00\n",
       "Name: time, dtype: datetime64[ns]"
      ]
     },
     "execution_count": 39,
     "metadata": {},
     "output_type": "execute_result"
    }
   ],
   "source": [
    "numeric_df['time'].head(3)"
   ]
  },
  {
   "cell_type": "code",
   "execution_count": 40,
   "metadata": {},
   "outputs": [
    {
     "data": {
      "text/plain": [
       "timestamp  timestamp  timestamp  timestamp\n",
       "9          30         23         57          2020-09-30 23:57:00\n",
       "                                 58          2020-09-30 23:58:00\n",
       "                                 59          2020-09-30 23:59:00\n",
       "Name: time, dtype: datetime64[ns]"
      ]
     },
     "execution_count": 40,
     "metadata": {},
     "output_type": "execute_result"
    }
   ],
   "source": [
    "numeric_df['time'].tail(3)"
   ]
  },
  {
   "cell_type": "markdown",
   "metadata": {},
   "source": [
    "### 8) Working with categorical data "
   ]
  },
  {
   "cell_type": "code",
   "execution_count": 41,
   "metadata": {},
   "outputs": [],
   "source": [
    "categorical_df = df[categorical_columns].groupby([df.index.month, df.index.day, df.index.hour, df.index.minute]).agg(lambda x: stats.mode(x)[0][0])"
   ]
  },
  {
   "cell_type": "code",
   "execution_count": 42,
   "metadata": {},
   "outputs": [],
   "source": [
    "categorical_df['check_time'] = categorical_df.index\n",
    "categorical_df['check_time_2'] = categorical_df['check_time'].transform(lambda x: f'2020-{x[0]}-{x[1]} {x[2]}:{x[3]}:00')\n",
    "categorical_df['time'] = pd.to_datetime(categorical_df['check_time_2'])\n",
    "del categorical_df['check_time']\n",
    "del categorical_df['check_time_2']"
   ]
  },
  {
   "cell_type": "code",
   "execution_count": 43,
   "metadata": {
    "scrolled": true
   },
   "outputs": [
    {
     "data": {
      "text/plain": [
       "(179068, 10)"
      ]
     },
     "execution_count": 43,
     "metadata": {},
     "output_type": "execute_result"
    }
   ],
   "source": [
    "categorical_df.shape"
   ]
  },
  {
   "cell_type": "code",
   "execution_count": 44,
   "metadata": {},
   "outputs": [
    {
     "data": {
      "text/plain": [
       "timestamp  timestamp  timestamp  timestamp\n",
       "5          1          0          1           2020-05-01 00:01:00\n",
       "                                 3           2020-05-01 00:03:00\n",
       "                                 5           2020-05-01 00:05:00\n",
       "Name: time, dtype: datetime64[ns]"
      ]
     },
     "execution_count": 44,
     "metadata": {},
     "output_type": "execute_result"
    }
   ],
   "source": [
    "categorical_df['time'].head(3)"
   ]
  },
  {
   "cell_type": "code",
   "execution_count": 45,
   "metadata": {},
   "outputs": [
    {
     "data": {
      "text/plain": [
       "timestamp  timestamp  timestamp  timestamp\n",
       "9          30         23         57          2020-09-30 23:57:00\n",
       "                                 58          2020-09-30 23:58:00\n",
       "                                 59          2020-09-30 23:59:00\n",
       "Name: time, dtype: datetime64[ns]"
      ]
     },
     "execution_count": 45,
     "metadata": {},
     "output_type": "execute_result"
    }
   ],
   "source": [
    "categorical_df['time'].tail(3)"
   ]
  },
  {
   "cell_type": "markdown",
   "metadata": {},
   "source": [
    "### 9) Creating continuous time dataframe"
   ]
  },
  {
   "cell_type": "code",
   "execution_count": 49,
   "metadata": {},
   "outputs": [],
   "source": [
    "times = pd.date_range('2020-05-01', '2020-10-01', freq='1min')"
   ]
  },
  {
   "cell_type": "code",
   "execution_count": 51,
   "metadata": {},
   "outputs": [
    {
     "data": {
      "text/plain": [
       "DatetimeIndex(['2020-05-01 00:00:00', '2020-05-01 00:01:00',\n",
       "               '2020-05-01 00:02:00', '2020-05-01 00:03:00',\n",
       "               '2020-05-01 00:04:00', '2020-05-01 00:05:00',\n",
       "               '2020-05-01 00:06:00', '2020-05-01 00:07:00',\n",
       "               '2020-05-01 00:08:00', '2020-05-01 00:09:00',\n",
       "               ...\n",
       "               '2020-09-30 23:51:00', '2020-09-30 23:52:00',\n",
       "               '2020-09-30 23:53:00', '2020-09-30 23:54:00',\n",
       "               '2020-09-30 23:55:00', '2020-09-30 23:56:00',\n",
       "               '2020-09-30 23:57:00', '2020-09-30 23:58:00',\n",
       "               '2020-09-30 23:59:00', '2020-10-01 00:00:00'],\n",
       "              dtype='datetime64[ns]', length=220321, freq='T')"
      ]
     },
     "execution_count": 51,
     "metadata": {},
     "output_type": "execute_result"
    }
   ],
   "source": [
    "times"
   ]
  },
  {
   "cell_type": "code",
   "execution_count": 50,
   "metadata": {},
   "outputs": [
    {
     "data": {
      "text/plain": [
       "(220321, 0)"
      ]
     },
     "execution_count": 50,
     "metadata": {},
     "output_type": "execute_result"
    }
   ],
   "source": [
    "dataframe = pd.DataFrame(index=times)\n",
    "dataframe.shape"
   ]
  },
  {
   "cell_type": "code",
   "execution_count": 52,
   "metadata": {},
   "outputs": [
    {
     "data": {
      "text/plain": [
       "(220321, 12)"
      ]
     },
     "execution_count": 52,
     "metadata": {},
     "output_type": "execute_result"
    }
   ],
   "source": [
    "dataframe = dataframe.join(numeric_df.set_index('time')) #joining numeric data\n",
    "dataframe.shape"
   ]
  },
  {
   "cell_type": "code",
   "execution_count": 53,
   "metadata": {},
   "outputs": [
    {
     "data": {
      "text/plain": [
       "(220321, 21)"
      ]
     },
     "execution_count": 53,
     "metadata": {},
     "output_type": "execute_result"
    }
   ],
   "source": [
    "dataframe = dataframe.join(categorical_df.set_index('time')) #joining categorical data\n",
    "dataframe.shape"
   ]
  },
  {
   "cell_type": "markdown",
   "metadata": {},
   "source": [
    "## Let's fill NaN values"
   ]
  },
  {
   "cell_type": "code",
   "execution_count": 54,
   "metadata": {},
   "outputs": [
    {
     "name": "stdout",
     "output_type": "stream",
     "text": [
      "<class 'pandas.core.frame.DataFrame'>\n",
      "DatetimeIndex: 220321 entries, 2020-05-01 00:00:00 to 2020-10-01 00:00:00\n",
      "Freq: T\n",
      "Data columns (total 21 columns):\n",
      " #   Column                        Non-Null Count   Dtype  \n",
      "---  ------                        --------------   -----  \n",
      " 0   sensor.ac_power               92133 non-null   float64\n",
      " 1   sensor.atmospheric_pressure   3585 non-null    float64\n",
      " 2   sensor.bathroom_humidity      690 non-null     float64\n",
      " 3   sensor.bathroom_temperature   18489 non-null   float64\n",
      " 4   sensor.equipment_temperature  9973 non-null    float64\n",
      " 5   sensor.kitchen_humidity       736 non-null     float64\n",
      " 6   sensor.kitchen_temperature    18058 non-null   float64\n",
      " 7   sensor.office_co2             81117 non-null   float64\n",
      " 8   sensor.room_humidity          635 non-null     float64\n",
      " 9   sensor.room_temperature       50882 non-null   float64\n",
      " 10  sensor.weather_humidity       449 non-null     float64\n",
      " 11  sensor.weather_temperature    15455 non-null   float64\n",
      " 12  binary_sensor.balcony_door    179068 non-null  object \n",
      " 13  binary_sensor.kitchen_window  179068 non-null  object \n",
      " 14  binary_sensor.room_window     179068 non-null  object \n",
      " 15  climate.air_conditioner       179068 non-null  object \n",
      " 16  climate.air_conditioner_old   179068 non-null  object \n",
      " 17  cover.balcony                 179068 non-null  object \n",
      " 18  cover.windows                 179068 non-null  object \n",
      " 19  person.one                    179068 non-null  object \n",
      " 20  person.two                    179068 non-null  object \n",
      "dtypes: float64(12), object(9)\n",
      "memory usage: 47.0+ MB\n"
     ]
    }
   ],
   "source": [
    "dataframe.info()"
   ]
  },
  {
   "cell_type": "code",
   "execution_count": 55,
   "metadata": {},
   "outputs": [
    {
     "data": {
      "text/html": [
       "<div>\n",
       "<style scoped>\n",
       "    .dataframe tbody tr th:only-of-type {\n",
       "        vertical-align: middle;\n",
       "    }\n",
       "\n",
       "    .dataframe tbody tr th {\n",
       "        vertical-align: top;\n",
       "    }\n",
       "\n",
       "    .dataframe thead th {\n",
       "        text-align: right;\n",
       "    }\n",
       "</style>\n",
       "<table border=\"1\" class=\"dataframe\">\n",
       "  <thead>\n",
       "    <tr style=\"text-align: right;\">\n",
       "      <th></th>\n",
       "      <th>sensor.ac_power</th>\n",
       "      <th>sensor.atmospheric_pressure</th>\n",
       "      <th>sensor.bathroom_humidity</th>\n",
       "      <th>sensor.bathroom_temperature</th>\n",
       "      <th>sensor.equipment_temperature</th>\n",
       "      <th>sensor.kitchen_humidity</th>\n",
       "      <th>sensor.kitchen_temperature</th>\n",
       "      <th>sensor.office_co2</th>\n",
       "      <th>sensor.room_humidity</th>\n",
       "      <th>sensor.room_temperature</th>\n",
       "      <th>...</th>\n",
       "      <th>sensor.weather_temperature</th>\n",
       "      <th>binary_sensor.balcony_door</th>\n",
       "      <th>binary_sensor.kitchen_window</th>\n",
       "      <th>binary_sensor.room_window</th>\n",
       "      <th>climate.air_conditioner</th>\n",
       "      <th>climate.air_conditioner_old</th>\n",
       "      <th>cover.balcony</th>\n",
       "      <th>cover.windows</th>\n",
       "      <th>person.one</th>\n",
       "      <th>person.two</th>\n",
       "    </tr>\n",
       "  </thead>\n",
       "  <tbody>\n",
       "    <tr>\n",
       "      <th>2020-05-01 00:00:00</th>\n",
       "      <td>NaN</td>\n",
       "      <td>NaN</td>\n",
       "      <td>NaN</td>\n",
       "      <td>NaN</td>\n",
       "      <td>NaN</td>\n",
       "      <td>NaN</td>\n",
       "      <td>NaN</td>\n",
       "      <td>NaN</td>\n",
       "      <td>NaN</td>\n",
       "      <td>NaN</td>\n",
       "      <td>...</td>\n",
       "      <td>NaN</td>\n",
       "      <td>NaN</td>\n",
       "      <td>NaN</td>\n",
       "      <td>NaN</td>\n",
       "      <td>NaN</td>\n",
       "      <td>NaN</td>\n",
       "      <td>NaN</td>\n",
       "      <td>NaN</td>\n",
       "      <td>NaN</td>\n",
       "      <td>NaN</td>\n",
       "    </tr>\n",
       "    <tr>\n",
       "      <th>2020-05-01 00:01:00</th>\n",
       "      <td>NaN</td>\n",
       "      <td>NaN</td>\n",
       "      <td>NaN</td>\n",
       "      <td>NaN</td>\n",
       "      <td>NaN</td>\n",
       "      <td>NaN</td>\n",
       "      <td>NaN</td>\n",
       "      <td>NaN</td>\n",
       "      <td>NaN</td>\n",
       "      <td>21.7</td>\n",
       "      <td>...</td>\n",
       "      <td>NaN</td>\n",
       "      <td>0</td>\n",
       "      <td>0</td>\n",
       "      <td>0</td>\n",
       "      <td>0</td>\n",
       "      <td>0</td>\n",
       "      <td>0</td>\n",
       "      <td>0</td>\n",
       "      <td>0</td>\n",
       "      <td>0</td>\n",
       "    </tr>\n",
       "    <tr>\n",
       "      <th>2020-05-01 00:02:00</th>\n",
       "      <td>NaN</td>\n",
       "      <td>NaN</td>\n",
       "      <td>NaN</td>\n",
       "      <td>NaN</td>\n",
       "      <td>NaN</td>\n",
       "      <td>NaN</td>\n",
       "      <td>NaN</td>\n",
       "      <td>NaN</td>\n",
       "      <td>NaN</td>\n",
       "      <td>NaN</td>\n",
       "      <td>...</td>\n",
       "      <td>NaN</td>\n",
       "      <td>NaN</td>\n",
       "      <td>NaN</td>\n",
       "      <td>NaN</td>\n",
       "      <td>NaN</td>\n",
       "      <td>NaN</td>\n",
       "      <td>NaN</td>\n",
       "      <td>NaN</td>\n",
       "      <td>NaN</td>\n",
       "      <td>NaN</td>\n",
       "    </tr>\n",
       "    <tr>\n",
       "      <th>2020-05-01 00:03:00</th>\n",
       "      <td>NaN</td>\n",
       "      <td>NaN</td>\n",
       "      <td>NaN</td>\n",
       "      <td>NaN</td>\n",
       "      <td>NaN</td>\n",
       "      <td>NaN</td>\n",
       "      <td>NaN</td>\n",
       "      <td>NaN</td>\n",
       "      <td>NaN</td>\n",
       "      <td>21.7</td>\n",
       "      <td>...</td>\n",
       "      <td>NaN</td>\n",
       "      <td>0</td>\n",
       "      <td>off</td>\n",
       "      <td>0</td>\n",
       "      <td>0</td>\n",
       "      <td>0</td>\n",
       "      <td>0</td>\n",
       "      <td>0</td>\n",
       "      <td>0</td>\n",
       "      <td>0</td>\n",
       "    </tr>\n",
       "    <tr>\n",
       "      <th>2020-05-01 00:04:00</th>\n",
       "      <td>NaN</td>\n",
       "      <td>NaN</td>\n",
       "      <td>NaN</td>\n",
       "      <td>NaN</td>\n",
       "      <td>NaN</td>\n",
       "      <td>NaN</td>\n",
       "      <td>NaN</td>\n",
       "      <td>NaN</td>\n",
       "      <td>NaN</td>\n",
       "      <td>NaN</td>\n",
       "      <td>...</td>\n",
       "      <td>NaN</td>\n",
       "      <td>NaN</td>\n",
       "      <td>NaN</td>\n",
       "      <td>NaN</td>\n",
       "      <td>NaN</td>\n",
       "      <td>NaN</td>\n",
       "      <td>NaN</td>\n",
       "      <td>NaN</td>\n",
       "      <td>NaN</td>\n",
       "      <td>NaN</td>\n",
       "    </tr>\n",
       "  </tbody>\n",
       "</table>\n",
       "<p>5 rows × 21 columns</p>\n",
       "</div>"
      ],
      "text/plain": [
       "                     sensor.ac_power  sensor.atmospheric_pressure  \\\n",
       "2020-05-01 00:00:00              NaN                          NaN   \n",
       "2020-05-01 00:01:00              NaN                          NaN   \n",
       "2020-05-01 00:02:00              NaN                          NaN   \n",
       "2020-05-01 00:03:00              NaN                          NaN   \n",
       "2020-05-01 00:04:00              NaN                          NaN   \n",
       "\n",
       "                     sensor.bathroom_humidity  sensor.bathroom_temperature  \\\n",
       "2020-05-01 00:00:00                       NaN                          NaN   \n",
       "2020-05-01 00:01:00                       NaN                          NaN   \n",
       "2020-05-01 00:02:00                       NaN                          NaN   \n",
       "2020-05-01 00:03:00                       NaN                          NaN   \n",
       "2020-05-01 00:04:00                       NaN                          NaN   \n",
       "\n",
       "                     sensor.equipment_temperature  sensor.kitchen_humidity  \\\n",
       "2020-05-01 00:00:00                           NaN                      NaN   \n",
       "2020-05-01 00:01:00                           NaN                      NaN   \n",
       "2020-05-01 00:02:00                           NaN                      NaN   \n",
       "2020-05-01 00:03:00                           NaN                      NaN   \n",
       "2020-05-01 00:04:00                           NaN                      NaN   \n",
       "\n",
       "                     sensor.kitchen_temperature  sensor.office_co2  \\\n",
       "2020-05-01 00:00:00                         NaN                NaN   \n",
       "2020-05-01 00:01:00                         NaN                NaN   \n",
       "2020-05-01 00:02:00                         NaN                NaN   \n",
       "2020-05-01 00:03:00                         NaN                NaN   \n",
       "2020-05-01 00:04:00                         NaN                NaN   \n",
       "\n",
       "                     sensor.room_humidity  sensor.room_temperature  ...  \\\n",
       "2020-05-01 00:00:00                   NaN                      NaN  ...   \n",
       "2020-05-01 00:01:00                   NaN                     21.7  ...   \n",
       "2020-05-01 00:02:00                   NaN                      NaN  ...   \n",
       "2020-05-01 00:03:00                   NaN                     21.7  ...   \n",
       "2020-05-01 00:04:00                   NaN                      NaN  ...   \n",
       "\n",
       "                     sensor.weather_temperature  binary_sensor.balcony_door  \\\n",
       "2020-05-01 00:00:00                         NaN                         NaN   \n",
       "2020-05-01 00:01:00                         NaN                           0   \n",
       "2020-05-01 00:02:00                         NaN                         NaN   \n",
       "2020-05-01 00:03:00                         NaN                           0   \n",
       "2020-05-01 00:04:00                         NaN                         NaN   \n",
       "\n",
       "                    binary_sensor.kitchen_window binary_sensor.room_window  \\\n",
       "2020-05-01 00:00:00                          NaN                       NaN   \n",
       "2020-05-01 00:01:00                            0                         0   \n",
       "2020-05-01 00:02:00                          NaN                       NaN   \n",
       "2020-05-01 00:03:00                          off                         0   \n",
       "2020-05-01 00:04:00                          NaN                       NaN   \n",
       "\n",
       "                    climate.air_conditioner climate.air_conditioner_old  \\\n",
       "2020-05-01 00:00:00                     NaN                         NaN   \n",
       "2020-05-01 00:01:00                       0                           0   \n",
       "2020-05-01 00:02:00                     NaN                         NaN   \n",
       "2020-05-01 00:03:00                       0                           0   \n",
       "2020-05-01 00:04:00                     NaN                         NaN   \n",
       "\n",
       "                    cover.balcony cover.windows person.one person.two  \n",
       "2020-05-01 00:00:00           NaN           NaN        NaN        NaN  \n",
       "2020-05-01 00:01:00             0             0          0          0  \n",
       "2020-05-01 00:02:00           NaN           NaN        NaN        NaN  \n",
       "2020-05-01 00:03:00             0             0          0          0  \n",
       "2020-05-01 00:04:00           NaN           NaN        NaN        NaN  \n",
       "\n",
       "[5 rows x 21 columns]"
      ]
     },
     "execution_count": 55,
     "metadata": {},
     "output_type": "execute_result"
    }
   ],
   "source": [
    "dataframe.head()"
   ]
  },
  {
   "cell_type": "code",
   "execution_count": 56,
   "metadata": {},
   "outputs": [
    {
     "data": {
      "text/html": [
       "<div>\n",
       "<style scoped>\n",
       "    .dataframe tbody tr th:only-of-type {\n",
       "        vertical-align: middle;\n",
       "    }\n",
       "\n",
       "    .dataframe tbody tr th {\n",
       "        vertical-align: top;\n",
       "    }\n",
       "\n",
       "    .dataframe thead th {\n",
       "        text-align: right;\n",
       "    }\n",
       "</style>\n",
       "<table border=\"1\" class=\"dataframe\">\n",
       "  <thead>\n",
       "    <tr style=\"text-align: right;\">\n",
       "      <th></th>\n",
       "      <th>sensor.ac_power</th>\n",
       "      <th>sensor.atmospheric_pressure</th>\n",
       "      <th>sensor.bathroom_humidity</th>\n",
       "      <th>sensor.bathroom_temperature</th>\n",
       "      <th>sensor.equipment_temperature</th>\n",
       "      <th>sensor.kitchen_humidity</th>\n",
       "      <th>sensor.kitchen_temperature</th>\n",
       "      <th>sensor.office_co2</th>\n",
       "      <th>sensor.room_humidity</th>\n",
       "      <th>sensor.room_temperature</th>\n",
       "      <th>...</th>\n",
       "      <th>sensor.weather_temperature</th>\n",
       "      <th>binary_sensor.balcony_door</th>\n",
       "      <th>binary_sensor.kitchen_window</th>\n",
       "      <th>binary_sensor.room_window</th>\n",
       "      <th>climate.air_conditioner</th>\n",
       "      <th>climate.air_conditioner_old</th>\n",
       "      <th>cover.balcony</th>\n",
       "      <th>cover.windows</th>\n",
       "      <th>person.one</th>\n",
       "      <th>person.two</th>\n",
       "    </tr>\n",
       "  </thead>\n",
       "  <tbody>\n",
       "    <tr>\n",
       "      <th>2020-09-14 06:46:00</th>\n",
       "      <td>2.150000</td>\n",
       "      <td>NaN</td>\n",
       "      <td>NaN</td>\n",
       "      <td>NaN</td>\n",
       "      <td>NaN</td>\n",
       "      <td>NaN</td>\n",
       "      <td>NaN</td>\n",
       "      <td>464.0</td>\n",
       "      <td>NaN</td>\n",
       "      <td>NaN</td>\n",
       "      <td>...</td>\n",
       "      <td>NaN</td>\n",
       "      <td>0</td>\n",
       "      <td>0</td>\n",
       "      <td>0</td>\n",
       "      <td>0</td>\n",
       "      <td>0</td>\n",
       "      <td>0</td>\n",
       "      <td>0</td>\n",
       "      <td>0</td>\n",
       "      <td>0</td>\n",
       "    </tr>\n",
       "    <tr>\n",
       "      <th>2020-05-24 05:15:00</th>\n",
       "      <td>NaN</td>\n",
       "      <td>NaN</td>\n",
       "      <td>NaN</td>\n",
       "      <td>NaN</td>\n",
       "      <td>NaN</td>\n",
       "      <td>NaN</td>\n",
       "      <td>NaN</td>\n",
       "      <td>NaN</td>\n",
       "      <td>NaN</td>\n",
       "      <td>NaN</td>\n",
       "      <td>...</td>\n",
       "      <td>NaN</td>\n",
       "      <td>NaN</td>\n",
       "      <td>NaN</td>\n",
       "      <td>NaN</td>\n",
       "      <td>NaN</td>\n",
       "      <td>NaN</td>\n",
       "      <td>NaN</td>\n",
       "      <td>NaN</td>\n",
       "      <td>NaN</td>\n",
       "      <td>NaN</td>\n",
       "    </tr>\n",
       "    <tr>\n",
       "      <th>2020-06-16 22:37:00</th>\n",
       "      <td>NaN</td>\n",
       "      <td>NaN</td>\n",
       "      <td>NaN</td>\n",
       "      <td>24.8</td>\n",
       "      <td>NaN</td>\n",
       "      <td>NaN</td>\n",
       "      <td>NaN</td>\n",
       "      <td>NaN</td>\n",
       "      <td>NaN</td>\n",
       "      <td>NaN</td>\n",
       "      <td>...</td>\n",
       "      <td>NaN</td>\n",
       "      <td>0</td>\n",
       "      <td>0</td>\n",
       "      <td>0</td>\n",
       "      <td>off</td>\n",
       "      <td>0</td>\n",
       "      <td>0</td>\n",
       "      <td>0</td>\n",
       "      <td>0</td>\n",
       "      <td>0</td>\n",
       "    </tr>\n",
       "    <tr>\n",
       "      <th>2020-06-13 04:05:00</th>\n",
       "      <td>NaN</td>\n",
       "      <td>NaN</td>\n",
       "      <td>NaN</td>\n",
       "      <td>NaN</td>\n",
       "      <td>NaN</td>\n",
       "      <td>NaN</td>\n",
       "      <td>NaN</td>\n",
       "      <td>NaN</td>\n",
       "      <td>NaN</td>\n",
       "      <td>NaN</td>\n",
       "      <td>...</td>\n",
       "      <td>NaN</td>\n",
       "      <td>NaN</td>\n",
       "      <td>NaN</td>\n",
       "      <td>NaN</td>\n",
       "      <td>NaN</td>\n",
       "      <td>NaN</td>\n",
       "      <td>NaN</td>\n",
       "      <td>NaN</td>\n",
       "      <td>NaN</td>\n",
       "      <td>NaN</td>\n",
       "    </tr>\n",
       "    <tr>\n",
       "      <th>2020-07-23 17:48:00</th>\n",
       "      <td>779.500000</td>\n",
       "      <td>NaN</td>\n",
       "      <td>NaN</td>\n",
       "      <td>NaN</td>\n",
       "      <td>NaN</td>\n",
       "      <td>NaN</td>\n",
       "      <td>NaN</td>\n",
       "      <td>402.0</td>\n",
       "      <td>NaN</td>\n",
       "      <td>22.1</td>\n",
       "      <td>...</td>\n",
       "      <td>NaN</td>\n",
       "      <td>0</td>\n",
       "      <td>0</td>\n",
       "      <td>0</td>\n",
       "      <td>cool</td>\n",
       "      <td>0</td>\n",
       "      <td>0</td>\n",
       "      <td>0</td>\n",
       "      <td>0</td>\n",
       "      <td>0</td>\n",
       "    </tr>\n",
       "    <tr>\n",
       "      <th>2020-07-27 08:46:00</th>\n",
       "      <td>740.666667</td>\n",
       "      <td>NaN</td>\n",
       "      <td>NaN</td>\n",
       "      <td>NaN</td>\n",
       "      <td>NaN</td>\n",
       "      <td>NaN</td>\n",
       "      <td>NaN</td>\n",
       "      <td>428.0</td>\n",
       "      <td>NaN</td>\n",
       "      <td>NaN</td>\n",
       "      <td>...</td>\n",
       "      <td>NaN</td>\n",
       "      <td>0</td>\n",
       "      <td>0</td>\n",
       "      <td>0</td>\n",
       "      <td>0</td>\n",
       "      <td>0</td>\n",
       "      <td>0</td>\n",
       "      <td>0</td>\n",
       "      <td>0</td>\n",
       "      <td>0</td>\n",
       "    </tr>\n",
       "    <tr>\n",
       "      <th>2020-09-14 15:14:00</th>\n",
       "      <td>1062.100000</td>\n",
       "      <td>NaN</td>\n",
       "      <td>NaN</td>\n",
       "      <td>NaN</td>\n",
       "      <td>NaN</td>\n",
       "      <td>NaN</td>\n",
       "      <td>NaN</td>\n",
       "      <td>NaN</td>\n",
       "      <td>NaN</td>\n",
       "      <td>NaN</td>\n",
       "      <td>...</td>\n",
       "      <td>NaN</td>\n",
       "      <td>0</td>\n",
       "      <td>0</td>\n",
       "      <td>0</td>\n",
       "      <td>0</td>\n",
       "      <td>0</td>\n",
       "      <td>0</td>\n",
       "      <td>0</td>\n",
       "      <td>0</td>\n",
       "      <td>0</td>\n",
       "    </tr>\n",
       "    <tr>\n",
       "      <th>2020-05-22 05:53:00</th>\n",
       "      <td>NaN</td>\n",
       "      <td>NaN</td>\n",
       "      <td>NaN</td>\n",
       "      <td>NaN</td>\n",
       "      <td>NaN</td>\n",
       "      <td>NaN</td>\n",
       "      <td>NaN</td>\n",
       "      <td>NaN</td>\n",
       "      <td>NaN</td>\n",
       "      <td>NaN</td>\n",
       "      <td>...</td>\n",
       "      <td>NaN</td>\n",
       "      <td>NaN</td>\n",
       "      <td>NaN</td>\n",
       "      <td>NaN</td>\n",
       "      <td>NaN</td>\n",
       "      <td>NaN</td>\n",
       "      <td>NaN</td>\n",
       "      <td>NaN</td>\n",
       "      <td>NaN</td>\n",
       "      <td>NaN</td>\n",
       "    </tr>\n",
       "    <tr>\n",
       "      <th>2020-05-08 19:58:00</th>\n",
       "      <td>NaN</td>\n",
       "      <td>NaN</td>\n",
       "      <td>NaN</td>\n",
       "      <td>NaN</td>\n",
       "      <td>NaN</td>\n",
       "      <td>NaN</td>\n",
       "      <td>NaN</td>\n",
       "      <td>NaN</td>\n",
       "      <td>NaN</td>\n",
       "      <td>NaN</td>\n",
       "      <td>...</td>\n",
       "      <td>NaN</td>\n",
       "      <td>NaN</td>\n",
       "      <td>NaN</td>\n",
       "      <td>NaN</td>\n",
       "      <td>NaN</td>\n",
       "      <td>NaN</td>\n",
       "      <td>NaN</td>\n",
       "      <td>NaN</td>\n",
       "      <td>NaN</td>\n",
       "      <td>NaN</td>\n",
       "    </tr>\n",
       "    <tr>\n",
       "      <th>2020-08-23 14:24:00</th>\n",
       "      <td>1057.000000</td>\n",
       "      <td>NaN</td>\n",
       "      <td>NaN</td>\n",
       "      <td>NaN</td>\n",
       "      <td>NaN</td>\n",
       "      <td>NaN</td>\n",
       "      <td>NaN</td>\n",
       "      <td>400.0</td>\n",
       "      <td>NaN</td>\n",
       "      <td>NaN</td>\n",
       "      <td>...</td>\n",
       "      <td>NaN</td>\n",
       "      <td>0</td>\n",
       "      <td>0</td>\n",
       "      <td>0</td>\n",
       "      <td>0</td>\n",
       "      <td>0</td>\n",
       "      <td>0</td>\n",
       "      <td>0</td>\n",
       "      <td>0</td>\n",
       "      <td>0</td>\n",
       "    </tr>\n",
       "  </tbody>\n",
       "</table>\n",
       "<p>10 rows × 21 columns</p>\n",
       "</div>"
      ],
      "text/plain": [
       "                     sensor.ac_power  sensor.atmospheric_pressure  \\\n",
       "2020-09-14 06:46:00         2.150000                          NaN   \n",
       "2020-05-24 05:15:00              NaN                          NaN   \n",
       "2020-06-16 22:37:00              NaN                          NaN   \n",
       "2020-06-13 04:05:00              NaN                          NaN   \n",
       "2020-07-23 17:48:00       779.500000                          NaN   \n",
       "2020-07-27 08:46:00       740.666667                          NaN   \n",
       "2020-09-14 15:14:00      1062.100000                          NaN   \n",
       "2020-05-22 05:53:00              NaN                          NaN   \n",
       "2020-05-08 19:58:00              NaN                          NaN   \n",
       "2020-08-23 14:24:00      1057.000000                          NaN   \n",
       "\n",
       "                     sensor.bathroom_humidity  sensor.bathroom_temperature  \\\n",
       "2020-09-14 06:46:00                       NaN                          NaN   \n",
       "2020-05-24 05:15:00                       NaN                          NaN   \n",
       "2020-06-16 22:37:00                       NaN                         24.8   \n",
       "2020-06-13 04:05:00                       NaN                          NaN   \n",
       "2020-07-23 17:48:00                       NaN                          NaN   \n",
       "2020-07-27 08:46:00                       NaN                          NaN   \n",
       "2020-09-14 15:14:00                       NaN                          NaN   \n",
       "2020-05-22 05:53:00                       NaN                          NaN   \n",
       "2020-05-08 19:58:00                       NaN                          NaN   \n",
       "2020-08-23 14:24:00                       NaN                          NaN   \n",
       "\n",
       "                     sensor.equipment_temperature  sensor.kitchen_humidity  \\\n",
       "2020-09-14 06:46:00                           NaN                      NaN   \n",
       "2020-05-24 05:15:00                           NaN                      NaN   \n",
       "2020-06-16 22:37:00                           NaN                      NaN   \n",
       "2020-06-13 04:05:00                           NaN                      NaN   \n",
       "2020-07-23 17:48:00                           NaN                      NaN   \n",
       "2020-07-27 08:46:00                           NaN                      NaN   \n",
       "2020-09-14 15:14:00                           NaN                      NaN   \n",
       "2020-05-22 05:53:00                           NaN                      NaN   \n",
       "2020-05-08 19:58:00                           NaN                      NaN   \n",
       "2020-08-23 14:24:00                           NaN                      NaN   \n",
       "\n",
       "                     sensor.kitchen_temperature  sensor.office_co2  \\\n",
       "2020-09-14 06:46:00                         NaN              464.0   \n",
       "2020-05-24 05:15:00                         NaN                NaN   \n",
       "2020-06-16 22:37:00                         NaN                NaN   \n",
       "2020-06-13 04:05:00                         NaN                NaN   \n",
       "2020-07-23 17:48:00                         NaN              402.0   \n",
       "2020-07-27 08:46:00                         NaN              428.0   \n",
       "2020-09-14 15:14:00                         NaN                NaN   \n",
       "2020-05-22 05:53:00                         NaN                NaN   \n",
       "2020-05-08 19:58:00                         NaN                NaN   \n",
       "2020-08-23 14:24:00                         NaN              400.0   \n",
       "\n",
       "                     sensor.room_humidity  sensor.room_temperature  ...  \\\n",
       "2020-09-14 06:46:00                   NaN                      NaN  ...   \n",
       "2020-05-24 05:15:00                   NaN                      NaN  ...   \n",
       "2020-06-16 22:37:00                   NaN                      NaN  ...   \n",
       "2020-06-13 04:05:00                   NaN                      NaN  ...   \n",
       "2020-07-23 17:48:00                   NaN                     22.1  ...   \n",
       "2020-07-27 08:46:00                   NaN                      NaN  ...   \n",
       "2020-09-14 15:14:00                   NaN                      NaN  ...   \n",
       "2020-05-22 05:53:00                   NaN                      NaN  ...   \n",
       "2020-05-08 19:58:00                   NaN                      NaN  ...   \n",
       "2020-08-23 14:24:00                   NaN                      NaN  ...   \n",
       "\n",
       "                     sensor.weather_temperature  binary_sensor.balcony_door  \\\n",
       "2020-09-14 06:46:00                         NaN                           0   \n",
       "2020-05-24 05:15:00                         NaN                         NaN   \n",
       "2020-06-16 22:37:00                         NaN                           0   \n",
       "2020-06-13 04:05:00                         NaN                         NaN   \n",
       "2020-07-23 17:48:00                         NaN                           0   \n",
       "2020-07-27 08:46:00                         NaN                           0   \n",
       "2020-09-14 15:14:00                         NaN                           0   \n",
       "2020-05-22 05:53:00                         NaN                         NaN   \n",
       "2020-05-08 19:58:00                         NaN                         NaN   \n",
       "2020-08-23 14:24:00                         NaN                           0   \n",
       "\n",
       "                    binary_sensor.kitchen_window binary_sensor.room_window  \\\n",
       "2020-09-14 06:46:00                            0                         0   \n",
       "2020-05-24 05:15:00                          NaN                       NaN   \n",
       "2020-06-16 22:37:00                            0                         0   \n",
       "2020-06-13 04:05:00                          NaN                       NaN   \n",
       "2020-07-23 17:48:00                            0                         0   \n",
       "2020-07-27 08:46:00                            0                         0   \n",
       "2020-09-14 15:14:00                            0                         0   \n",
       "2020-05-22 05:53:00                          NaN                       NaN   \n",
       "2020-05-08 19:58:00                          NaN                       NaN   \n",
       "2020-08-23 14:24:00                            0                         0   \n",
       "\n",
       "                    climate.air_conditioner climate.air_conditioner_old  \\\n",
       "2020-09-14 06:46:00                       0                           0   \n",
       "2020-05-24 05:15:00                     NaN                         NaN   \n",
       "2020-06-16 22:37:00                     off                           0   \n",
       "2020-06-13 04:05:00                     NaN                         NaN   \n",
       "2020-07-23 17:48:00                    cool                           0   \n",
       "2020-07-27 08:46:00                       0                           0   \n",
       "2020-09-14 15:14:00                       0                           0   \n",
       "2020-05-22 05:53:00                     NaN                         NaN   \n",
       "2020-05-08 19:58:00                     NaN                         NaN   \n",
       "2020-08-23 14:24:00                       0                           0   \n",
       "\n",
       "                    cover.balcony cover.windows person.one person.two  \n",
       "2020-09-14 06:46:00             0             0          0          0  \n",
       "2020-05-24 05:15:00           NaN           NaN        NaN        NaN  \n",
       "2020-06-16 22:37:00             0             0          0          0  \n",
       "2020-06-13 04:05:00           NaN           NaN        NaN        NaN  \n",
       "2020-07-23 17:48:00             0             0          0          0  \n",
       "2020-07-27 08:46:00             0             0          0          0  \n",
       "2020-09-14 15:14:00             0             0          0          0  \n",
       "2020-05-22 05:53:00           NaN           NaN        NaN        NaN  \n",
       "2020-05-08 19:58:00           NaN           NaN        NaN        NaN  \n",
       "2020-08-23 14:24:00             0             0          0          0  \n",
       "\n",
       "[10 rows x 21 columns]"
      ]
     },
     "execution_count": 56,
     "metadata": {},
     "output_type": "execute_result"
    }
   ],
   "source": [
    "dataframe.sample(10)"
   ]
  },
  {
   "cell_type": "code",
   "execution_count": 57,
   "metadata": {},
   "outputs": [],
   "source": [
    "dataframe.replace(0, np.NaN, inplace=True) #\"0\" values a actually created from 'NaN' values while using groupby method. Let's reverse it."
   ]
  },
  {
   "cell_type": "code",
   "execution_count": 58,
   "metadata": {},
   "outputs": [
    {
     "name": "stdout",
     "output_type": "stream",
     "text": [
      "<class 'pandas.core.frame.DataFrame'>\n",
      "DatetimeIndex: 220321 entries, 2020-05-01 00:00:00 to 2020-10-01 00:00:00\n",
      "Freq: T\n",
      "Data columns (total 21 columns):\n",
      " #   Column                        Non-Null Count  Dtype  \n",
      "---  ------                        --------------  -----  \n",
      " 0   sensor.ac_power               91911 non-null  float64\n",
      " 1   sensor.atmospheric_pressure   3585 non-null   float64\n",
      " 2   sensor.bathroom_humidity      690 non-null    float64\n",
      " 3   sensor.bathroom_temperature   18489 non-null  float64\n",
      " 4   sensor.equipment_temperature  9973 non-null   float64\n",
      " 5   sensor.kitchen_humidity       736 non-null    float64\n",
      " 6   sensor.kitchen_temperature    18058 non-null  float64\n",
      " 7   sensor.office_co2             81117 non-null  float64\n",
      " 8   sensor.room_humidity          635 non-null    float64\n",
      " 9   sensor.room_temperature       50882 non-null  float64\n",
      " 10  sensor.weather_humidity       449 non-null    float64\n",
      " 11  sensor.weather_temperature    15455 non-null  float64\n",
      " 12  binary_sensor.balcony_door    2559 non-null   object \n",
      " 13  binary_sensor.kitchen_window  4824 non-null   object \n",
      " 14  binary_sensor.room_window     372 non-null    object \n",
      " 15  climate.air_conditioner       27608 non-null  object \n",
      " 16  climate.air_conditioner_old   5158 non-null   object \n",
      " 17  cover.balcony                 385 non-null    object \n",
      " 18  cover.windows                 908 non-null    object \n",
      " 19  person.one                    12167 non-null  object \n",
      " 20  person.two                    407 non-null    object \n",
      "dtypes: float64(12), object(9)\n",
      "memory usage: 47.0+ MB\n"
     ]
    }
   ],
   "source": [
    "dataframe.info()"
   ]
  },
  {
   "cell_type": "code",
   "execution_count": 59,
   "metadata": {},
   "outputs": [],
   "source": [
    "dataframe.fillna(method='ffill', inplace = True)"
   ]
  },
  {
   "cell_type": "code",
   "execution_count": 60,
   "metadata": {},
   "outputs": [
    {
     "name": "stdout",
     "output_type": "stream",
     "text": [
      "<class 'pandas.core.frame.DataFrame'>\n",
      "DatetimeIndex: 220321 entries, 2020-05-01 00:00:00 to 2020-10-01 00:00:00\n",
      "Freq: T\n",
      "Data columns (total 21 columns):\n",
      " #   Column                        Non-Null Count   Dtype  \n",
      "---  ------                        --------------   -----  \n",
      " 0   sensor.ac_power               187995 non-null  float64\n",
      " 1   sensor.atmospheric_pressure   135133 non-null  float64\n",
      " 2   sensor.bathroom_humidity      217174 non-null  float64\n",
      " 3   sensor.bathroom_temperature   220310 non-null  float64\n",
      " 4   sensor.equipment_temperature  220315 non-null  float64\n",
      " 5   sensor.kitchen_humidity       177707 non-null  float64\n",
      " 6   sensor.kitchen_temperature    220278 non-null  float64\n",
      " 7   sensor.office_co2             131289 non-null  float64\n",
      " 8   sensor.room_humidity          177310 non-null  float64\n",
      " 9   sensor.room_temperature       220320 non-null  float64\n",
      " 10  sensor.weather_humidity       219735 non-null  float64\n",
      " 11  sensor.weather_temperature    220302 non-null  float64\n",
      " 12  binary_sensor.balcony_door    219711 non-null  object \n",
      " 13  binary_sensor.kitchen_window  220318 non-null  object \n",
      " 14  binary_sensor.room_window     219604 non-null  object \n",
      " 15  climate.air_conditioner       209304 non-null  object \n",
      " 16  climate.air_conditioner_old   66497 non-null   object \n",
      " 17  cover.balcony                 219698 non-null  object \n",
      " 18  cover.windows                 219698 non-null  object \n",
      " 19  person.one                    220305 non-null  object \n",
      " 20  person.two                    219604 non-null  object \n",
      "dtypes: float64(12), object(9)\n",
      "memory usage: 47.0+ MB\n"
     ]
    }
   ],
   "source": [
    "dataframe.info()"
   ]
  },
  {
   "cell_type": "code",
   "execution_count": 65,
   "metadata": {},
   "outputs": [
    {
     "data": {
      "text/html": [
       "<div>\n",
       "<style scoped>\n",
       "    .dataframe tbody tr th:only-of-type {\n",
       "        vertical-align: middle;\n",
       "    }\n",
       "\n",
       "    .dataframe tbody tr th {\n",
       "        vertical-align: top;\n",
       "    }\n",
       "\n",
       "    .dataframe thead th {\n",
       "        text-align: right;\n",
       "    }\n",
       "</style>\n",
       "<table border=\"1\" class=\"dataframe\">\n",
       "  <thead>\n",
       "    <tr style=\"text-align: right;\">\n",
       "      <th></th>\n",
       "      <th>sensor.ac_power</th>\n",
       "      <th>sensor.atmospheric_pressure</th>\n",
       "      <th>sensor.bathroom_humidity</th>\n",
       "      <th>sensor.bathroom_temperature</th>\n",
       "      <th>sensor.equipment_temperature</th>\n",
       "      <th>sensor.kitchen_humidity</th>\n",
       "      <th>sensor.kitchen_temperature</th>\n",
       "      <th>sensor.office_co2</th>\n",
       "      <th>sensor.room_humidity</th>\n",
       "      <th>sensor.room_temperature</th>\n",
       "      <th>...</th>\n",
       "      <th>sensor.weather_temperature</th>\n",
       "      <th>binary_sensor.balcony_door</th>\n",
       "      <th>binary_sensor.kitchen_window</th>\n",
       "      <th>binary_sensor.room_window</th>\n",
       "      <th>climate.air_conditioner</th>\n",
       "      <th>climate.air_conditioner_old</th>\n",
       "      <th>cover.balcony</th>\n",
       "      <th>cover.windows</th>\n",
       "      <th>person.one</th>\n",
       "      <th>person.two</th>\n",
       "    </tr>\n",
       "  </thead>\n",
       "  <tbody>\n",
       "    <tr>\n",
       "      <th>2020-07-31 23:55:00</th>\n",
       "      <td>67.0</td>\n",
       "      <td>1015.0</td>\n",
       "      <td>43.0</td>\n",
       "      <td>23.9</td>\n",
       "      <td>29.1</td>\n",
       "      <td>50.3</td>\n",
       "      <td>24.4</td>\n",
       "      <td>400.0</td>\n",
       "      <td>41.9</td>\n",
       "      <td>23.7</td>\n",
       "      <td>...</td>\n",
       "      <td>17.1</td>\n",
       "      <td>on</td>\n",
       "      <td>off</td>\n",
       "      <td>off</td>\n",
       "      <td>off</td>\n",
       "      <td>NaN</td>\n",
       "      <td>open</td>\n",
       "      <td>open</td>\n",
       "      <td>not_home</td>\n",
       "      <td>not_home</td>\n",
       "    </tr>\n",
       "    <tr>\n",
       "      <th>2020-07-31 23:56:00</th>\n",
       "      <td>67.0</td>\n",
       "      <td>1015.0</td>\n",
       "      <td>43.0</td>\n",
       "      <td>23.9</td>\n",
       "      <td>29.1</td>\n",
       "      <td>50.3</td>\n",
       "      <td>24.4</td>\n",
       "      <td>400.0</td>\n",
       "      <td>41.9</td>\n",
       "      <td>23.7</td>\n",
       "      <td>...</td>\n",
       "      <td>17.0</td>\n",
       "      <td>on</td>\n",
       "      <td>off</td>\n",
       "      <td>off</td>\n",
       "      <td>off</td>\n",
       "      <td>NaN</td>\n",
       "      <td>open</td>\n",
       "      <td>open</td>\n",
       "      <td>not_home</td>\n",
       "      <td>not_home</td>\n",
       "    </tr>\n",
       "    <tr>\n",
       "      <th>2020-07-31 23:57:00</th>\n",
       "      <td>67.0</td>\n",
       "      <td>1015.0</td>\n",
       "      <td>43.0</td>\n",
       "      <td>23.9</td>\n",
       "      <td>29.3</td>\n",
       "      <td>50.3</td>\n",
       "      <td>24.4</td>\n",
       "      <td>400.0</td>\n",
       "      <td>41.9</td>\n",
       "      <td>23.7</td>\n",
       "      <td>...</td>\n",
       "      <td>17.0</td>\n",
       "      <td>on</td>\n",
       "      <td>off</td>\n",
       "      <td>off</td>\n",
       "      <td>off</td>\n",
       "      <td>NaN</td>\n",
       "      <td>open</td>\n",
       "      <td>open</td>\n",
       "      <td>not_home</td>\n",
       "      <td>not_home</td>\n",
       "    </tr>\n",
       "    <tr>\n",
       "      <th>2020-07-31 23:58:00</th>\n",
       "      <td>67.0</td>\n",
       "      <td>1015.0</td>\n",
       "      <td>43.0</td>\n",
       "      <td>23.9</td>\n",
       "      <td>29.3</td>\n",
       "      <td>50.3</td>\n",
       "      <td>24.4</td>\n",
       "      <td>400.0</td>\n",
       "      <td>41.9</td>\n",
       "      <td>23.7</td>\n",
       "      <td>...</td>\n",
       "      <td>17.0</td>\n",
       "      <td>on</td>\n",
       "      <td>off</td>\n",
       "      <td>off</td>\n",
       "      <td>off</td>\n",
       "      <td>NaN</td>\n",
       "      <td>open</td>\n",
       "      <td>open</td>\n",
       "      <td>not_home</td>\n",
       "      <td>not_home</td>\n",
       "    </tr>\n",
       "    <tr>\n",
       "      <th>2020-07-31 23:59:00</th>\n",
       "      <td>67.0</td>\n",
       "      <td>1015.0</td>\n",
       "      <td>43.0</td>\n",
       "      <td>23.9</td>\n",
       "      <td>29.3</td>\n",
       "      <td>50.3</td>\n",
       "      <td>24.4</td>\n",
       "      <td>400.0</td>\n",
       "      <td>41.9</td>\n",
       "      <td>23.7</td>\n",
       "      <td>...</td>\n",
       "      <td>17.0</td>\n",
       "      <td>on</td>\n",
       "      <td>off</td>\n",
       "      <td>off</td>\n",
       "      <td>off</td>\n",
       "      <td>NaN</td>\n",
       "      <td>open</td>\n",
       "      <td>open</td>\n",
       "      <td>not_home</td>\n",
       "      <td>not_home</td>\n",
       "    </tr>\n",
       "  </tbody>\n",
       "</table>\n",
       "<p>5 rows × 21 columns</p>\n",
       "</div>"
      ],
      "text/plain": [
       "                     sensor.ac_power  sensor.atmospheric_pressure  \\\n",
       "2020-07-31 23:55:00             67.0                       1015.0   \n",
       "2020-07-31 23:56:00             67.0                       1015.0   \n",
       "2020-07-31 23:57:00             67.0                       1015.0   \n",
       "2020-07-31 23:58:00             67.0                       1015.0   \n",
       "2020-07-31 23:59:00             67.0                       1015.0   \n",
       "\n",
       "                     sensor.bathroom_humidity  sensor.bathroom_temperature  \\\n",
       "2020-07-31 23:55:00                      43.0                         23.9   \n",
       "2020-07-31 23:56:00                      43.0                         23.9   \n",
       "2020-07-31 23:57:00                      43.0                         23.9   \n",
       "2020-07-31 23:58:00                      43.0                         23.9   \n",
       "2020-07-31 23:59:00                      43.0                         23.9   \n",
       "\n",
       "                     sensor.equipment_temperature  sensor.kitchen_humidity  \\\n",
       "2020-07-31 23:55:00                          29.1                     50.3   \n",
       "2020-07-31 23:56:00                          29.1                     50.3   \n",
       "2020-07-31 23:57:00                          29.3                     50.3   \n",
       "2020-07-31 23:58:00                          29.3                     50.3   \n",
       "2020-07-31 23:59:00                          29.3                     50.3   \n",
       "\n",
       "                     sensor.kitchen_temperature  sensor.office_co2  \\\n",
       "2020-07-31 23:55:00                        24.4              400.0   \n",
       "2020-07-31 23:56:00                        24.4              400.0   \n",
       "2020-07-31 23:57:00                        24.4              400.0   \n",
       "2020-07-31 23:58:00                        24.4              400.0   \n",
       "2020-07-31 23:59:00                        24.4              400.0   \n",
       "\n",
       "                     sensor.room_humidity  sensor.room_temperature  ...  \\\n",
       "2020-07-31 23:55:00                  41.9                     23.7  ...   \n",
       "2020-07-31 23:56:00                  41.9                     23.7  ...   \n",
       "2020-07-31 23:57:00                  41.9                     23.7  ...   \n",
       "2020-07-31 23:58:00                  41.9                     23.7  ...   \n",
       "2020-07-31 23:59:00                  41.9                     23.7  ...   \n",
       "\n",
       "                     sensor.weather_temperature  binary_sensor.balcony_door  \\\n",
       "2020-07-31 23:55:00                        17.1                          on   \n",
       "2020-07-31 23:56:00                        17.0                          on   \n",
       "2020-07-31 23:57:00                        17.0                          on   \n",
       "2020-07-31 23:58:00                        17.0                          on   \n",
       "2020-07-31 23:59:00                        17.0                          on   \n",
       "\n",
       "                    binary_sensor.kitchen_window binary_sensor.room_window  \\\n",
       "2020-07-31 23:55:00                          off                       off   \n",
       "2020-07-31 23:56:00                          off                       off   \n",
       "2020-07-31 23:57:00                          off                       off   \n",
       "2020-07-31 23:58:00                          off                       off   \n",
       "2020-07-31 23:59:00                          off                       off   \n",
       "\n",
       "                    climate.air_conditioner climate.air_conditioner_old  \\\n",
       "2020-07-31 23:55:00                     off                         NaN   \n",
       "2020-07-31 23:56:00                     off                         NaN   \n",
       "2020-07-31 23:57:00                     off                         NaN   \n",
       "2020-07-31 23:58:00                     off                         NaN   \n",
       "2020-07-31 23:59:00                     off                         NaN   \n",
       "\n",
       "                    cover.balcony cover.windows person.one person.two  \n",
       "2020-07-31 23:55:00          open          open   not_home   not_home  \n",
       "2020-07-31 23:56:00          open          open   not_home   not_home  \n",
       "2020-07-31 23:57:00          open          open   not_home   not_home  \n",
       "2020-07-31 23:58:00          open          open   not_home   not_home  \n",
       "2020-07-31 23:59:00          open          open   not_home   not_home  \n",
       "\n",
       "[5 rows x 21 columns]"
      ]
     },
     "execution_count": 65,
     "metadata": {},
     "output_type": "execute_result"
    }
   ],
   "source": [
    "dataframe[132475:132480]"
   ]
  },
  {
   "cell_type": "code",
   "execution_count": 63,
   "metadata": {},
   "outputs": [],
   "source": [
    "dataframe.to_csv('wide_data.csv')"
   ]
  },
  {
   "cell_type": "code",
   "execution_count": 66,
   "metadata": {},
   "outputs": [],
   "source": [
    "dataframe[87840:132480].to_csv('july.csv')"
   ]
  },
  {
   "cell_type": "code",
   "execution_count": null,
   "metadata": {},
   "outputs": [],
   "source": []
  }
 ],
 "metadata": {
  "kernelspec": {
   "display_name": "Python 3",
   "language": "python",
   "name": "python3"
  },
  "language_info": {
   "codemirror_mode": {
    "name": "ipython",
    "version": 3
   },
   "file_extension": ".py",
   "mimetype": "text/x-python",
   "name": "python",
   "nbconvert_exporter": "python",
   "pygments_lexer": "ipython3",
   "version": "3.8.3"
  }
 },
 "nbformat": 4,
 "nbformat_minor": 4
}
