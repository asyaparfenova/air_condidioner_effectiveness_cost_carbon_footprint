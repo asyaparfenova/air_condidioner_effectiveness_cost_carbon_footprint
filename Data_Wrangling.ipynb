{
 "cells": [
  {
   "attachments": {},
   "cell_type": "markdown",
   "metadata": {},
   "source": [
    "# <font color='#330066'>Data Wrangling</font>\n",
    "\n",
    "In this notebook the first step of the project - Data Wrangling - is shown.\n",
    "<img src=\"https://github.com/asyaparfenova/air_condidioner_effectiveness_cost_carbon_footprint/blob/main/images/data_wrangling.png?raw=true\" alt=\"Data Wrangling Goal\" style=\"width: 600px;\"/>\n",
    "\n",
    "The row data had the form of one table with over two million rows, each of them contained sensor type and name, various timestamps, values (numerical for measurements like temperature and categorical for event-sensors) and some other attributes.\n",
    "\n",
    "The main challenge of data wrangling was to pivot this table into time-series or, more specifically, sequence of successive equally spaced points in time with values for each sensor."
   ]
  },
  {
   "cell_type": "code",
   "execution_count": 13,
   "metadata": {},
   "outputs": [],
   "source": [
    "import pandas as pd\n",
    "import numpy as np\n",
    "from scipy import stats\n",
    "import warnings"
   ]
  },
  {
   "cell_type": "code",
   "execution_count": 14,
   "metadata": {},
   "outputs": [],
   "source": [
    "warnings.simplefilter(action='ignore', category=FutureWarning)"
   ]
  },
  {
   "cell_type": "markdown",
   "metadata": {},
   "source": [
    "### <font color='#330066'>Step 1</font>\n",
    "\n",
    "First, let's have a look at our data."
   ]
  },
  {
   "cell_type": "code",
   "execution_count": 72,
   "metadata": {},
   "outputs": [],
   "source": [
    "data = pd.read_csv('data/full_data.csv', sep=',', index_col='Unnamed: 0')"
   ]
  },
  {
   "cell_type": "code",
   "execution_count": 42,
   "metadata": {
    "scrolled": false
   },
   "outputs": [
    {
     "data": {
      "text/html": [
       "<div>\n",
       "<style scoped>\n",
       "    .dataframe tbody tr th:only-of-type {\n",
       "        vertical-align: middle;\n",
       "    }\n",
       "\n",
       "    .dataframe tbody tr th {\n",
       "        vertical-align: top;\n",
       "    }\n",
       "\n",
       "    .dataframe thead th {\n",
       "        text-align: right;\n",
       "    }\n",
       "</style>\n",
       "<table border=\"1\" class=\"dataframe\">\n",
       "  <thead>\n",
       "    <tr style=\"text-align: right;\">\n",
       "      <th></th>\n",
       "      <th>state_id</th>\n",
       "      <th>entity_id</th>\n",
       "      <th>state</th>\n",
       "      <th>last_changed</th>\n",
       "      <th>last_updated</th>\n",
       "    </tr>\n",
       "  </thead>\n",
       "  <tbody>\n",
       "    <tr>\n",
       "      <th>0</th>\n",
       "      <td>1406062</td>\n",
       "      <td>sensor.room_temperature</td>\n",
       "      <td>21.7</td>\n",
       "      <td>2020-05-01 00:01:22</td>\n",
       "      <td>2020-05-01 00:01:22</td>\n",
       "    </tr>\n",
       "    <tr>\n",
       "      <th>1</th>\n",
       "      <td>1406063</td>\n",
       "      <td>sensor.room_humidity</td>\n",
       "      <td>52.6</td>\n",
       "      <td>2020-05-01 00:01:22</td>\n",
       "      <td>2020-05-01 00:01:22</td>\n",
       "    </tr>\n",
       "    <tr>\n",
       "      <th>2</th>\n",
       "      <td>1406064</td>\n",
       "      <td>sensor.bathroom_temperature</td>\n",
       "      <td>22.7</td>\n",
       "      <td>2020-05-01 00:01:22</td>\n",
       "      <td>2020-05-01 00:01:22</td>\n",
       "    </tr>\n",
       "    <tr>\n",
       "      <th>3</th>\n",
       "      <td>1406065</td>\n",
       "      <td>sensor.bathroom_humidity</td>\n",
       "      <td>56.0</td>\n",
       "      <td>2020-05-01 00:01:22</td>\n",
       "      <td>2020-05-01 00:01:22</td>\n",
       "    </tr>\n",
       "    <tr>\n",
       "      <th>4</th>\n",
       "      <td>1406066</td>\n",
       "      <td>sensor.fittonia_temperature</td>\n",
       "      <td>21.1</td>\n",
       "      <td>2020-05-01 00:01:22</td>\n",
       "      <td>2020-05-01 00:01:22</td>\n",
       "    </tr>\n",
       "  </tbody>\n",
       "</table>\n",
       "</div>"
      ],
      "text/plain": [
       "   state_id                    entity_id state         last_changed  \\\n",
       "0   1406062      sensor.room_temperature  21.7  2020-05-01 00:01:22   \n",
       "1   1406063         sensor.room_humidity  52.6  2020-05-01 00:01:22   \n",
       "2   1406064  sensor.bathroom_temperature  22.7  2020-05-01 00:01:22   \n",
       "3   1406065     sensor.bathroom_humidity  56.0  2020-05-01 00:01:22   \n",
       "4   1406066  sensor.fittonia_temperature  21.1  2020-05-01 00:01:22   \n",
       "\n",
       "          last_updated  \n",
       "0  2020-05-01 00:01:22  \n",
       "1  2020-05-01 00:01:22  \n",
       "2  2020-05-01 00:01:22  \n",
       "3  2020-05-01 00:01:22  \n",
       "4  2020-05-01 00:01:22  "
      ]
     },
     "execution_count": 42,
     "metadata": {},
     "output_type": "execute_result"
    }
   ],
   "source": [
    "data.head()"
   ]
  },
  {
   "cell_type": "code",
   "execution_count": 43,
   "metadata": {},
   "outputs": [
    {
     "data": {
      "text/plain": [
       "(2412216, 5)"
      ]
     },
     "execution_count": 43,
     "metadata": {},
     "output_type": "execute_result"
    }
   ],
   "source": [
    "data.shape"
   ]
  },
  {
   "cell_type": "code",
   "execution_count": 44,
   "metadata": {
    "scrolled": true
   },
   "outputs": [
    {
     "name": "stdout",
     "output_type": "stream",
     "text": [
      "<class 'pandas.core.frame.DataFrame'>\n",
      "Int64Index: 2412216 entries, 0 to 2412215\n",
      "Data columns (total 5 columns):\n",
      " #   Column        Dtype \n",
      "---  ------        ----- \n",
      " 0   state_id      int64 \n",
      " 1   entity_id     object\n",
      " 2   state         object\n",
      " 3   last_changed  object\n",
      " 4   last_updated  object\n",
      "dtypes: int64(1), object(4)\n",
      "memory usage: 110.4+ MB\n"
     ]
    }
   ],
   "source": [
    "data.info()"
   ]
  },
  {
   "cell_type": "code",
   "execution_count": 45,
   "metadata": {},
   "outputs": [
    {
     "data": {
      "text/plain": [
       "state_id           0\n",
       "entity_id          0\n",
       "state           3012\n",
       "last_changed       0\n",
       "last_updated       0\n",
       "dtype: int64"
      ]
     },
     "execution_count": 45,
     "metadata": {},
     "output_type": "execute_result"
    }
   ],
   "source": [
    "data.isna().sum()"
   ]
  },
  {
   "cell_type": "markdown",
   "metadata": {},
   "source": [
    "**Which and how many different sensors do we have?**"
   ]
  },
  {
   "cell_type": "code",
   "execution_count": 46,
   "metadata": {},
   "outputs": [
    {
     "data": {
      "text/plain": [
       "array(['sensor.room_temperature', 'sensor.room_humidity',\n",
       "       'sensor.bathroom_temperature', 'sensor.bathroom_humidity',\n",
       "       'sensor.fittonia_temperature', 'sensor.fittonia_moisture',\n",
       "       'sensor.fittonia_fertility', 'sensor.fittonia_lux',\n",
       "       'sensor.kitchen_temperature', 'sensor.kitchen_humidity',\n",
       "       'plant.fittonia', 'sensor.kitchen_thermostat_temperature',\n",
       "       'climate.kitchen_thermostat', 'binary_sensor.kitchen_window',\n",
       "       'sensor.equipment_temperature', 'binary_sensor.entrance_door',\n",
       "       'person.one', 'sensor.weather_temperature', 'light.balcony',\n",
       "       'sensor.weather_humidity', 'light.kitchen_rgb',\n",
       "       'sensor.bathroom_thermostat_temperature',\n",
       "       'climate.bathroom_thermostat',\n",
       "       'sensor.room_thermostat_temperature', 'climate.room_thermostat',\n",
       "       'light.hallway_rgb', 'binary_sensor.critical', 'light.bathroom',\n",
       "       'switch.raspberry_pi_fan', 'binary_sensor.balcony_door',\n",
       "       'light.bedside_lamp', 'light.hue_go', 'media_player.tv',\n",
       "       'cover.windows', 'cover.balcony', 'light.room_ceiling',\n",
       "       'light.desk_lamp', 'light.hallway_ceiling', 'light.room_corner',\n",
       "       'vacuum.roborock', 'person.two', 'light.kitchen_ceiling',\n",
       "       'switch.phone_charger', 'light.blaulicht',\n",
       "       'binary_sensor.room_window', 'climate.air_conditioner',\n",
       "       'binary_sensor.laptop', 'sensor.ac_power',\n",
       "       'binary_sensor.laptop_work', 'binary_sensor.printer',\n",
       "       'plant.calathea', 'sensor.calathea_temperature',\n",
       "       'sensor.calathea_moisture', 'sensor.calathea_lux',\n",
       "       'sensor.calathea_fertility', 'binary_sensor.warning',\n",
       "       'sensor.room_illuminance_lux', 'sensor.room_illuminance_lux_2',\n",
       "       'light.office_ceiling', 'sensor.atmospheric_pressure',\n",
       "       'sensor.room_temperature_2',\n",
       "       'sensor.fittonia_sunlight_accumulated',\n",
       "       'sensor.calathea_sunlight_accumulated',\n",
       "       'sensor.kitchen_temperature_2', 'sensor.bathroom_temperature_2',\n",
       "       'sensor.office_co2', 'sensor.kitchen_temperature_3',\n",
       "       'sensor.kitchen_illuminance_lux', 'sensor.hallway_temperature',\n",
       "       'sensor.washing_machine_vibration',\n",
       "       'sensor.washing_machine_vibration_strength', 'light.storage',\n",
       "       'sensor.sunlight_lux', 'climate.air_conditioner_old',\n",
       "       'sensor.sysmon_cpu_use', 'sensor.sysmon_cpu_temperature',\n",
       "       'fan.fan'], dtype=object)"
      ]
     },
     "execution_count": 46,
     "metadata": {},
     "output_type": "execute_result"
    }
   ],
   "source": [
    "data['entity_id'].unique()"
   ]
  },
  {
   "cell_type": "code",
   "execution_count": 47,
   "metadata": {},
   "outputs": [
    {
     "data": {
      "text/plain": [
       "77"
      ]
     },
     "execution_count": 47,
     "metadata": {},
     "output_type": "execute_result"
    }
   ],
   "source": [
    "data['entity_id'].unique().shape[0]"
   ]
  },
  {
   "cell_type": "markdown",
   "metadata": {},
   "source": [
    "### <font color='#330066'>Step 2</font>\n",
    "\n",
    "Let's drop the information, that we obviously don't need, such as information about plants, light (all light sources are LED, therefore they do not affect the temperature), devices, other than our air conditioner unit and so on."
   ]
  },
  {
   "cell_type": "code",
   "execution_count": 48,
   "metadata": {},
   "outputs": [],
   "source": [
    "sensors_to_drop = ['sensor.calathea_temperature',\n",
    "                   'plant.calathea',\n",
    "                   'sensor.fittonia_temperature',\n",
    "                   'plant.fittonia',\n",
    "                   'sensor.room_illuminance_lux',\n",
    "                   'sensor.room_illuminance_lux_2',\n",
    "                   'sensor.calathea_lux',\n",
    "                   'sensor.calathea_sunlight_accumulated',\n",
    "                   'sensor.calathea_fertility',\n",
    "                   'sensor.fittonia_fertility',\n",
    "                   'sensor.fittonia_lux',\n",
    "                   'sensor.fittonia_moisture',\n",
    "                   'sensor.fittonia_sunlight_accumulated',\n",
    "                   'binary_sensor.warning',\n",
    "                   'switch.raspberry_pi_fan',\n",
    "                   'media_player.tv',\n",
    "                   'binary_sensor.laptop_work',\n",
    "                   'binary_sensor.critical',\n",
    "                   'binary_sensor.laptop',\n",
    "                   'binary_sensor.printer',\n",
    "                   'vacuum.roborock',\n",
    "                   'switch.phone_charger',\n",
    "                   'sensor.calathea_moisture',\n",
    "                   'light.office_ceiling',\n",
    "                   'light.kitchen_rgb',\n",
    "                   'light.balcony',\n",
    "                   'light.hue_go',\n",
    "                   'light.kitchen_ceiling',\n",
    "                   'light.room_ceiling',\n",
    "                   'light.bathroom',\n",
    "                   'light.bedside_lamp',\n",
    "                   'light.desk_lamp',\n",
    "                   'light.hallway_rgb',\n",
    "                   'light.hallway_ceiling',\n",
    "                   'light.blaulicht',\n",
    "                   'binary_sensor.entrance_door',\n",
    "                   'light.room_corner',\n",
    "                   'light.storage',\n",
    "                   'sensor.washing_machine_vibration',\n",
    "                   'sensor.washing_machine_vibration_strength',\n",
    "                   'sensor.kitchen_thermostat_temperature',\n",
    "                   'climate.kitchen_thermostat',\n",
    "                   'sensor.bathroom_thermostat_temperature',\n",
    "                   'climate.bathroom_thermostat',\n",
    "                   'sensor.room_thermostat_temperature',\n",
    "                   'climate.room_thermostat',\n",
    "                   'sensor.kitchen_temperature_3',\n",
    "                   'sensor.kitchen_temperature_2',\n",
    "                   'sensor.kitchen_illuminance_lux',\n",
    "                   'sensor.hallway_temperature',\n",
    "                   'sensor.sunlight_lux',\n",
    "                   'sensor.sysmon_cpu_use',\n",
    "                   'sensor.sysmon_cpu_temperature',\n",
    "                   'fan.fan',\n",
    "                   'sensor.bathroom_temperature_2',\n",
    "                   'sensor.room_temperature_2']"
   ]
  },
  {
   "cell_type": "code",
   "execution_count": 73,
   "metadata": {},
   "outputs": [],
   "source": [
    "for item in sensors_to_drop:\n",
    "    data.drop(data[data['entity_id'] == item].index, axis=0, inplace=True)"
   ]
  },
  {
   "cell_type": "code",
   "execution_count": 74,
   "metadata": {},
   "outputs": [
    {
     "data": {
      "text/plain": [
       "(928315, 5)"
      ]
     },
     "execution_count": 74,
     "metadata": {},
     "output_type": "execute_result"
    }
   ],
   "source": [
    "data.shape"
   ]
  },
  {
   "cell_type": "markdown",
   "metadata": {},
   "source": [
    "The \"state_id\" column also doesn't carry any important for our project information"
   ]
  },
  {
   "cell_type": "code",
   "execution_count": 75,
   "metadata": {},
   "outputs": [],
   "source": [
    "data.drop(['state_id'], axis=1, inplace=True)"
   ]
  },
  {
   "cell_type": "code",
   "execution_count": 76,
   "metadata": {},
   "outputs": [
    {
     "data": {
      "text/plain": [
       "(928315, 4)"
      ]
     },
     "execution_count": 76,
     "metadata": {},
     "output_type": "execute_result"
    }
   ],
   "source": [
    "data.shape"
   ]
  },
  {
   "cell_type": "markdown",
   "metadata": {},
   "source": [
    "### <font color='#330066'>Step 3</font>\n",
    "\n",
    "Dropping NaNs and duplicates"
   ]
  },
  {
   "cell_type": "code",
   "execution_count": 77,
   "metadata": {},
   "outputs": [
    {
     "data": {
      "text/plain": [
       "(928287, 4)"
      ]
     },
     "execution_count": 77,
     "metadata": {},
     "output_type": "execute_result"
    }
   ],
   "source": [
    "data.dropna(inplace=True)\n",
    "data.shape"
   ]
  },
  {
   "cell_type": "code",
   "execution_count": 78,
   "metadata": {},
   "outputs": [
    {
     "data": {
      "text/plain": [
       "21075"
      ]
     },
     "execution_count": 78,
     "metadata": {},
     "output_type": "execute_result"
    }
   ],
   "source": [
    "data.duplicated().sum()"
   ]
  },
  {
   "cell_type": "code",
   "execution_count": 79,
   "metadata": {},
   "outputs": [
    {
     "data": {
      "text/plain": [
       "(891427, 4)"
      ]
     },
     "execution_count": 79,
     "metadata": {},
     "output_type": "execute_result"
    }
   ],
   "source": [
    "data.drop_duplicates(keep=False,inplace=True)\n",
    "data.shape"
   ]
  },
  {
   "cell_type": "markdown",
   "metadata": {},
   "source": [
    "### <font color='#330066'>Step 4</font>\n",
    "\n",
    "If we will try to pivot the table at this stage,we'll get the error message:\n",
    "\n",
    "<font color='red'>**ValueError:**</font> Index contains duplicate entries, cannot reshape\n",
    "\n",
    "The problem is in our data quality, despite we got rid of NaNs and duplicates, sometimes we have several recordings with different values from the same sensor and the same timestamp.\n",
    "\n",
    "Let's see some examples."
   ]
  },
  {
   "cell_type": "code",
   "execution_count": 80,
   "metadata": {},
   "outputs": [],
   "source": [
    "grouped_data = data[['entity_id', 'state', 'last_updated']].groupby(['entity_id', 'last_updated']).count()"
   ]
  },
  {
   "cell_type": "code",
   "execution_count": 81,
   "metadata": {},
   "outputs": [
    {
     "data": {
      "text/plain": [
       "array([1, 2, 3], dtype=int64)"
      ]
     },
     "execution_count": 81,
     "metadata": {},
     "output_type": "execute_result"
    }
   ],
   "source": [
    "grouped_data['state'].unique()"
   ]
  },
  {
   "cell_type": "code",
   "execution_count": 82,
   "metadata": {},
   "outputs": [
    {
     "data": {
      "text/html": [
       "<div>\n",
       "<style scoped>\n",
       "    .dataframe tbody tr th:only-of-type {\n",
       "        vertical-align: middle;\n",
       "    }\n",
       "\n",
       "    .dataframe tbody tr th {\n",
       "        vertical-align: top;\n",
       "    }\n",
       "\n",
       "    .dataframe thead th {\n",
       "        text-align: right;\n",
       "    }\n",
       "</style>\n",
       "<table border=\"1\" class=\"dataframe\">\n",
       "  <thead>\n",
       "    <tr style=\"text-align: right;\">\n",
       "      <th></th>\n",
       "      <th></th>\n",
       "      <th>state</th>\n",
       "    </tr>\n",
       "    <tr>\n",
       "      <th>entity_id</th>\n",
       "      <th>last_updated</th>\n",
       "      <th></th>\n",
       "    </tr>\n",
       "  </thead>\n",
       "  <tbody>\n",
       "    <tr>\n",
       "      <th>cover.balcony</th>\n",
       "      <th>2020-09-19 11:36:41</th>\n",
       "      <td>3</td>\n",
       "    </tr>\n",
       "    <tr>\n",
       "      <th>cover.windows</th>\n",
       "      <th>2020-09-19 11:36:41</th>\n",
       "      <td>3</td>\n",
       "    </tr>\n",
       "    <tr>\n",
       "      <th>sensor.equipment_temperature</th>\n",
       "      <th>2020-05-24 07:05:19</th>\n",
       "      <td>3</td>\n",
       "    </tr>\n",
       "  </tbody>\n",
       "</table>\n",
       "</div>"
      ],
      "text/plain": [
       "                                                  state\n",
       "entity_id                    last_updated              \n",
       "cover.balcony                2020-09-19 11:36:41      3\n",
       "cover.windows                2020-09-19 11:36:41      3\n",
       "sensor.equipment_temperature 2020-05-24 07:05:19      3"
      ]
     },
     "execution_count": 82,
     "metadata": {},
     "output_type": "execute_result"
    }
   ],
   "source": [
    "grouped_data[grouped_data['state'] == 3]"
   ]
  },
  {
   "cell_type": "code",
   "execution_count": 83,
   "metadata": {},
   "outputs": [
    {
     "data": {
      "text/html": [
       "<div>\n",
       "<style scoped>\n",
       "    .dataframe tbody tr th:only-of-type {\n",
       "        vertical-align: middle;\n",
       "    }\n",
       "\n",
       "    .dataframe tbody tr th {\n",
       "        vertical-align: top;\n",
       "    }\n",
       "\n",
       "    .dataframe thead th {\n",
       "        text-align: right;\n",
       "    }\n",
       "</style>\n",
       "<table border=\"1\" class=\"dataframe\">\n",
       "  <thead>\n",
       "    <tr style=\"text-align: right;\">\n",
       "      <th></th>\n",
       "      <th>entity_id</th>\n",
       "      <th>state</th>\n",
       "      <th>last_changed</th>\n",
       "      <th>last_updated</th>\n",
       "    </tr>\n",
       "  </thead>\n",
       "  <tbody>\n",
       "    <tr>\n",
       "      <th>26213</th>\n",
       "      <td>sensor.equipment_temperature</td>\n",
       "      <td>30.1</td>\n",
       "      <td>2020-05-03 10:12:40</td>\n",
       "      <td>2020-05-03 10:44:45</td>\n",
       "    </tr>\n",
       "    <tr>\n",
       "      <th>26336</th>\n",
       "      <td>sensor.equipment_temperature</td>\n",
       "      <td>30.6</td>\n",
       "      <td>2020-05-03 10:44:45</td>\n",
       "      <td>2020-05-03 11:00:17</td>\n",
       "    </tr>\n",
       "    <tr>\n",
       "      <th>26337</th>\n",
       "      <td>sensor.equipment_temperature</td>\n",
       "      <td>30.3</td>\n",
       "      <td>2020-05-03 11:00:17</td>\n",
       "      <td>2020-05-03 11:00:17</td>\n",
       "    </tr>\n",
       "    <tr>\n",
       "      <th>26464</th>\n",
       "      <td>sensor.equipment_temperature</td>\n",
       "      <td>30.3</td>\n",
       "      <td>2020-05-03 11:00:17</td>\n",
       "      <td>2020-05-03 11:18:31</td>\n",
       "    </tr>\n",
       "    <tr>\n",
       "      <th>26660</th>\n",
       "      <td>sensor.equipment_temperature</td>\n",
       "      <td>30.5</td>\n",
       "      <td>2020-05-03 11:18:31</td>\n",
       "      <td>2020-05-03 11:47:25</td>\n",
       "    </tr>\n",
       "  </tbody>\n",
       "</table>\n",
       "</div>"
      ],
      "text/plain": [
       "                          entity_id state         last_changed  \\\n",
       "26213  sensor.equipment_temperature  30.1  2020-05-03 10:12:40   \n",
       "26336  sensor.equipment_temperature  30.6  2020-05-03 10:44:45   \n",
       "26337  sensor.equipment_temperature  30.3  2020-05-03 11:00:17   \n",
       "26464  sensor.equipment_temperature  30.3  2020-05-03 11:00:17   \n",
       "26660  sensor.equipment_temperature  30.5  2020-05-03 11:18:31   \n",
       "\n",
       "              last_updated  \n",
       "26213  2020-05-03 10:44:45  \n",
       "26336  2020-05-03 11:00:17  \n",
       "26337  2020-05-03 11:00:17  \n",
       "26464  2020-05-03 11:18:31  \n",
       "26660  2020-05-03 11:47:25  "
      ]
     },
     "execution_count": 83,
     "metadata": {},
     "output_type": "execute_result"
    }
   ],
   "source": [
    "data[data['entity_id'] == 'sensor.equipment_temperature'][265:270]"
   ]
  },
  {
   "cell_type": "markdown",
   "metadata": {},
   "source": [
    "We'll drop artefacts by creating a colunm 'updated_shift' by shifting the timestamp by one row and then simply deleting the rows, where 'last_updated' and 'updated_shift' timestamps are equal."
   ]
  },
  {
   "cell_type": "code",
   "execution_count": 84,
   "metadata": {},
   "outputs": [
    {
     "data": {
      "text/plain": [
       "(480662, 5)"
      ]
     },
     "execution_count": 84,
     "metadata": {},
     "output_type": "execute_result"
    }
   ],
   "source": [
    "data['updated_shift'] = data['last_updated'].shift()\n",
    "data.drop(data[data['last_changed'] == data['updated_shift']].index, axis=0, inplace = True)\n",
    "data.shape"
   ]
  },
  {
   "cell_type": "code",
   "execution_count": 85,
   "metadata": {},
   "outputs": [
    {
     "data": {
      "text/plain": [
       "array([1], dtype=int64)"
      ]
     },
     "execution_count": 85,
     "metadata": {},
     "output_type": "execute_result"
    }
   ],
   "source": [
    "grouped_data = data[['entity_id', 'state', 'last_updated']].groupby(['entity_id', 'last_updated']).count()\n",
    "grouped_data['state'].unique()"
   ]
  },
  {
   "cell_type": "markdown",
   "metadata": {},
   "source": [
    "Now we got rid of \"timestamp-duplicates\".\n",
    "\n",
    "Another artefact: some binary sensor values ('unavailable', 'unknown', '\\\\N', 'None', 'ok') are not meaningful for our research and modelling. Let's drop them too."
   ]
  },
  {
   "cell_type": "code",
   "execution_count": 70,
   "metadata": {},
   "outputs": [
    {
     "data": {
      "text/plain": [
       "array(['off', '26.6', '26.5', 'not_home', '26.4', '26.7', 'home', '26.8',\n",
       "       'open', '27.0', '27.2', 'unknown', '27.3', '27.5', '27.4', '27.6',\n",
       "       '27.7', '27.9', '27.8', '28.0', '27.1', '26.9', '26.3', '26.2',\n",
       "       '28.4', '28.9', '29.4', '29.5', '29.9', '30.5', '31.0', '30.8',\n",
       "       '31.4', '31.3', '31.5', '32.0', '31.8', '31.7', '32.3', '32.1',\n",
       "       '32.2', '31.2', '30.9', '30.4', '29.7', '29.2', '29.0', '28.7',\n",
       "       '28.2', '28.1', '28.6', '28.5', '29.6', '29.3', '30.1', '30.6',\n",
       "       '30.3', '31.6', '32.7', '32.4', '30.7', '30.2', '31.1', '28.8',\n",
       "       '28.3', '26.1', '25.9', '25.8', '30.0', 'on', '29.8', '31.9',\n",
       "       '32.6', '32.5', '33.0', '33.1', '33.2', '33.5', '33.7', '34.2',\n",
       "       '34.3', '34.7', '34.8', '35.0', '34.9', '35.2', '34.4', '33.9',\n",
       "       '33.3', '32.8', '29.1', 'cool', '26.0', '25.6', '25.7', '25.5',\n",
       "       '25.3', '25.0', '24.5', '24.3', '24.0', '23.7', '23.6', '23.5',\n",
       "       '23.3', '23.2', '24.1', '24.4', '24.7', '24.9', '25.1', '25.4',\n",
       "       '24.8', '24.6', '23.9', '24.2', '25.2', 'fan_only', '30.23',\n",
       "       '29.18', '29.14', '28.93', '28.96', '29.08', '28.89', '29', '27',\n",
       "       '28', '30', '31', '32', '29.95', '30.13', '30.03', '30.14',\n",
       "       '29.96', '30.06', '30.02', '30.52', '30.37', '24', '25', '1010',\n",
       "       '1009', '1008', '1007', '1006', '1005', '1004', '1003', '1002',\n",
       "       '1011', '1012', '1013', '32.9', '33', '33.4', '33.8', '34.1', '34',\n",
       "       '34.5', '1014', '1015', '26', 'dry', '1016', '1017', '1018',\n",
       "       '1019', '1020', '1021', '1022', '1023', 'unavailable', '2', '33.6',\n",
       "       '34.6', 'ok', '2.2', '2.0', '1000', '999', '998', '1001', '502',\n",
       "       '997', '1024', '1025', '35.1', '35.7', '36', '36.4', '36.5', '37',\n",
       "       '37.5', '38.1', '38', '38.4', '37.9', '37.3', '37.1', '35.9',\n",
       "       '35.4', '1026', '1027', '35.6', '996', '995', '994', '993', '992',\n",
       "       '991', '990', '989', '988', '986', '985', '987', '23.4', '23.1',\n",
       "       '22.7', '22.6', '22.5', '22.4', '22.3', '22', '21.9', '21.8',\n",
       "       '21.7', '21.5', '21.2', '21.1', '21', '22.9', '23', '22.1', '22.8',\n",
       "       '23.8'], dtype=object)"
      ]
     },
     "execution_count": 70,
     "metadata": {},
     "output_type": "execute_result"
    }
   ],
   "source": [
    "data['state'].unique()"
   ]
  },
  {
   "cell_type": "code",
   "execution_count": 86,
   "metadata": {},
   "outputs": [
    {
     "data": {
      "text/plain": [
       "(477838, 5)"
      ]
     },
     "execution_count": 86,
     "metadata": {},
     "output_type": "execute_result"
    }
   ],
   "source": [
    "data.drop(data[data['state'] == 'unavailable'].index, axis=0, inplace=True)\n",
    "data.drop(data[data['state'] == 'unknown'].index, axis=0, inplace=True)\n",
    "data.drop(data[data['state'] == '\\\\N'].index, axis=0, inplace=True)\n",
    "data.drop(data[data['state'] == 'None'].index, axis=0, inplace=True)\n",
    "data.drop(data[data['state'] == 'ok'].index, axis=0, inplace=True)\n",
    "\n",
    "data.shape"
   ]
  },
  {
   "cell_type": "markdown",
   "metadata": {},
   "source": [
    "Perfect! No more dupicates! Now we can pivot!"
   ]
  },
  {
   "cell_type": "markdown",
   "metadata": {},
   "source": [
    "### <font color='#330066'>Step 5</font>\n",
    "\n",
    "Dropping excessive columns and converting timestamp into *datetime* format"
   ]
  },
  {
   "cell_type": "code",
   "execution_count": 87,
   "metadata": {},
   "outputs": [
    {
     "data": {
      "text/plain": [
       "(477838, 3)"
      ]
     },
     "execution_count": 87,
     "metadata": {},
     "output_type": "execute_result"
    }
   ],
   "source": [
    "data.drop(['last_changed', 'updated_shift'], axis=1, inplace=True)\n",
    "data.shape"
   ]
  },
  {
   "cell_type": "code",
   "execution_count": 88,
   "metadata": {},
   "outputs": [
    {
     "data": {
      "text/plain": [
       "(477838, 3)"
      ]
     },
     "execution_count": 88,
     "metadata": {},
     "output_type": "execute_result"
    }
   ],
   "source": [
    "data['timestamp'] = pd.to_datetime(data['last_updated'])\n",
    "data.drop(['last_updated'], axis=1, inplace=True)\n",
    "data.shape"
   ]
  },
  {
   "cell_type": "markdown",
   "metadata": {},
   "source": [
    "### <font color='#330066'>Step 6</font>\n",
    "\n",
    "Not table-pivot is possible"
   ]
  },
  {
   "cell_type": "code",
   "execution_count": 89,
   "metadata": {},
   "outputs": [],
   "source": [
    "df = data.pivot(index='timestamp', columns='entity_id', values='state')"
   ]
  },
  {
   "cell_type": "code",
   "execution_count": 90,
   "metadata": {},
   "outputs": [
    {
     "data": {
      "text/plain": [
       "(443739, 21)"
      ]
     },
     "execution_count": 90,
     "metadata": {},
     "output_type": "execute_result"
    }
   ],
   "source": [
    "df.shape"
   ]
  },
  {
   "cell_type": "code",
   "execution_count": 91,
   "metadata": {},
   "outputs": [
    {
     "data": {
      "text/html": [
       "<div>\n",
       "<style scoped>\n",
       "    .dataframe tbody tr th:only-of-type {\n",
       "        vertical-align: middle;\n",
       "    }\n",
       "\n",
       "    .dataframe tbody tr th {\n",
       "        vertical-align: top;\n",
       "    }\n",
       "\n",
       "    .dataframe thead th {\n",
       "        text-align: right;\n",
       "    }\n",
       "</style>\n",
       "<table border=\"1\" class=\"dataframe\">\n",
       "  <thead>\n",
       "    <tr style=\"text-align: right;\">\n",
       "      <th>entity_id</th>\n",
       "      <th>binary_sensor.balcony_door</th>\n",
       "      <th>binary_sensor.kitchen_window</th>\n",
       "      <th>binary_sensor.room_window</th>\n",
       "      <th>climate.air_conditioner</th>\n",
       "      <th>climate.air_conditioner_old</th>\n",
       "      <th>cover.balcony</th>\n",
       "      <th>cover.windows</th>\n",
       "      <th>person.one</th>\n",
       "      <th>person.two</th>\n",
       "      <th>sensor.ac_power</th>\n",
       "      <th>...</th>\n",
       "      <th>sensor.bathroom_humidity</th>\n",
       "      <th>sensor.bathroom_temperature</th>\n",
       "      <th>sensor.equipment_temperature</th>\n",
       "      <th>sensor.kitchen_humidity</th>\n",
       "      <th>sensor.kitchen_temperature</th>\n",
       "      <th>sensor.office_co2</th>\n",
       "      <th>sensor.room_humidity</th>\n",
       "      <th>sensor.room_temperature</th>\n",
       "      <th>sensor.weather_humidity</th>\n",
       "      <th>sensor.weather_temperature</th>\n",
       "    </tr>\n",
       "    <tr>\n",
       "      <th>timestamp</th>\n",
       "      <th></th>\n",
       "      <th></th>\n",
       "      <th></th>\n",
       "      <th></th>\n",
       "      <th></th>\n",
       "      <th></th>\n",
       "      <th></th>\n",
       "      <th></th>\n",
       "      <th></th>\n",
       "      <th></th>\n",
       "      <th></th>\n",
       "      <th></th>\n",
       "      <th></th>\n",
       "      <th></th>\n",
       "      <th></th>\n",
       "      <th></th>\n",
       "      <th></th>\n",
       "      <th></th>\n",
       "      <th></th>\n",
       "      <th></th>\n",
       "      <th></th>\n",
       "    </tr>\n",
       "  </thead>\n",
       "  <tbody>\n",
       "    <tr>\n",
       "      <th>2020-05-01 00:01:22</th>\n",
       "      <td>NaN</td>\n",
       "      <td>NaN</td>\n",
       "      <td>NaN</td>\n",
       "      <td>NaN</td>\n",
       "      <td>NaN</td>\n",
       "      <td>NaN</td>\n",
       "      <td>NaN</td>\n",
       "      <td>NaN</td>\n",
       "      <td>NaN</td>\n",
       "      <td>NaN</td>\n",
       "      <td>...</td>\n",
       "      <td>NaN</td>\n",
       "      <td>NaN</td>\n",
       "      <td>NaN</td>\n",
       "      <td>NaN</td>\n",
       "      <td>NaN</td>\n",
       "      <td>NaN</td>\n",
       "      <td>NaN</td>\n",
       "      <td>21.7</td>\n",
       "      <td>NaN</td>\n",
       "      <td>NaN</td>\n",
       "    </tr>\n",
       "    <tr>\n",
       "      <th>2020-05-01 00:03:23</th>\n",
       "      <td>NaN</td>\n",
       "      <td>NaN</td>\n",
       "      <td>NaN</td>\n",
       "      <td>NaN</td>\n",
       "      <td>NaN</td>\n",
       "      <td>NaN</td>\n",
       "      <td>NaN</td>\n",
       "      <td>NaN</td>\n",
       "      <td>NaN</td>\n",
       "      <td>NaN</td>\n",
       "      <td>...</td>\n",
       "      <td>NaN</td>\n",
       "      <td>NaN</td>\n",
       "      <td>NaN</td>\n",
       "      <td>NaN</td>\n",
       "      <td>NaN</td>\n",
       "      <td>NaN</td>\n",
       "      <td>NaN</td>\n",
       "      <td>21.7</td>\n",
       "      <td>NaN</td>\n",
       "      <td>NaN</td>\n",
       "    </tr>\n",
       "    <tr>\n",
       "      <th>2020-05-01 00:03:41</th>\n",
       "      <td>NaN</td>\n",
       "      <td>off</td>\n",
       "      <td>NaN</td>\n",
       "      <td>NaN</td>\n",
       "      <td>NaN</td>\n",
       "      <td>NaN</td>\n",
       "      <td>NaN</td>\n",
       "      <td>NaN</td>\n",
       "      <td>NaN</td>\n",
       "      <td>NaN</td>\n",
       "      <td>...</td>\n",
       "      <td>NaN</td>\n",
       "      <td>NaN</td>\n",
       "      <td>NaN</td>\n",
       "      <td>NaN</td>\n",
       "      <td>NaN</td>\n",
       "      <td>NaN</td>\n",
       "      <td>NaN</td>\n",
       "      <td>NaN</td>\n",
       "      <td>NaN</td>\n",
       "      <td>NaN</td>\n",
       "    </tr>\n",
       "  </tbody>\n",
       "</table>\n",
       "<p>3 rows × 21 columns</p>\n",
       "</div>"
      ],
      "text/plain": [
       "entity_id           binary_sensor.balcony_door binary_sensor.kitchen_window  \\\n",
       "timestamp                                                                     \n",
       "2020-05-01 00:01:22                        NaN                          NaN   \n",
       "2020-05-01 00:03:23                        NaN                          NaN   \n",
       "2020-05-01 00:03:41                        NaN                          off   \n",
       "\n",
       "entity_id           binary_sensor.room_window climate.air_conditioner  \\\n",
       "timestamp                                                               \n",
       "2020-05-01 00:01:22                       NaN                     NaN   \n",
       "2020-05-01 00:03:23                       NaN                     NaN   \n",
       "2020-05-01 00:03:41                       NaN                     NaN   \n",
       "\n",
       "entity_id           climate.air_conditioner_old cover.balcony cover.windows  \\\n",
       "timestamp                                                                     \n",
       "2020-05-01 00:01:22                         NaN           NaN           NaN   \n",
       "2020-05-01 00:03:23                         NaN           NaN           NaN   \n",
       "2020-05-01 00:03:41                         NaN           NaN           NaN   \n",
       "\n",
       "entity_id           person.one person.two sensor.ac_power  ...  \\\n",
       "timestamp                                                  ...   \n",
       "2020-05-01 00:01:22        NaN        NaN             NaN  ...   \n",
       "2020-05-01 00:03:23        NaN        NaN             NaN  ...   \n",
       "2020-05-01 00:03:41        NaN        NaN             NaN  ...   \n",
       "\n",
       "entity_id           sensor.bathroom_humidity sensor.bathroom_temperature  \\\n",
       "timestamp                                                                  \n",
       "2020-05-01 00:01:22                      NaN                         NaN   \n",
       "2020-05-01 00:03:23                      NaN                         NaN   \n",
       "2020-05-01 00:03:41                      NaN                         NaN   \n",
       "\n",
       "entity_id           sensor.equipment_temperature sensor.kitchen_humidity  \\\n",
       "timestamp                                                                  \n",
       "2020-05-01 00:01:22                          NaN                     NaN   \n",
       "2020-05-01 00:03:23                          NaN                     NaN   \n",
       "2020-05-01 00:03:41                          NaN                     NaN   \n",
       "\n",
       "entity_id           sensor.kitchen_temperature sensor.office_co2  \\\n",
       "timestamp                                                          \n",
       "2020-05-01 00:01:22                        NaN               NaN   \n",
       "2020-05-01 00:03:23                        NaN               NaN   \n",
       "2020-05-01 00:03:41                        NaN               NaN   \n",
       "\n",
       "entity_id           sensor.room_humidity sensor.room_temperature  \\\n",
       "timestamp                                                          \n",
       "2020-05-01 00:01:22                  NaN                    21.7   \n",
       "2020-05-01 00:03:23                  NaN                    21.7   \n",
       "2020-05-01 00:03:41                  NaN                     NaN   \n",
       "\n",
       "entity_id           sensor.weather_humidity sensor.weather_temperature  \n",
       "timestamp                                                               \n",
       "2020-05-01 00:01:22                     NaN                        NaN  \n",
       "2020-05-01 00:03:23                     NaN                        NaN  \n",
       "2020-05-01 00:03:41                     NaN                        NaN  \n",
       "\n",
       "[3 rows x 21 columns]"
      ]
     },
     "execution_count": 91,
     "metadata": {},
     "output_type": "execute_result"
    }
   ],
   "source": [
    "df.head(3)"
   ]
  },
  {
   "cell_type": "markdown",
   "metadata": {},
   "source": [
    "### <font color='#330066'>Step 7</font>\n",
    "\n",
    "For futher manipulations like grouping data by time it is handy to split the data to numerical and categorical, since procedures will be different."
   ]
  },
  {
   "cell_type": "code",
   "execution_count": 92,
   "metadata": {},
   "outputs": [],
   "source": [
    "numeric_columns = ['sensor.ac_power',\n",
    "       'sensor.atmospheric_pressure', 'sensor.bathroom_humidity',\n",
    "       'sensor.bathroom_temperature',\n",
    "       'sensor.equipment_temperature', 'sensor.kitchen_humidity',\n",
    "       'sensor.kitchen_temperature',\n",
    "       'sensor.office_co2', 'sensor.room_humidity', 'sensor.room_temperature', 'sensor.weather_humidity',\n",
    "       'sensor.weather_temperature']"
   ]
  },
  {
   "cell_type": "code",
   "execution_count": 93,
   "metadata": {},
   "outputs": [],
   "source": [
    "categorical_columns = ['binary_sensor.balcony_door', 'binary_sensor.kitchen_window',\n",
    "       'binary_sensor.room_window', 'climate.air_conditioner', 'climate.air_conditioner_old', 'cover.balcony',\n",
    "       'cover.windows', 'person.one', 'person.two']"
   ]
  },
  {
   "cell_type": "markdown",
   "metadata": {},
   "source": [
    "### <font color='#330066'>Step 8</font>\n",
    "\n",
    "**Working with numeric data**\n",
    "\n",
    "First, lets convert \"numeric\" data to actually numeric format"
   ]
  },
  {
   "cell_type": "code",
   "execution_count": 94,
   "metadata": {},
   "outputs": [],
   "source": [
    "for column in numeric_columns:\n",
    "    df[column] = pd.to_numeric(df[column]) "
   ]
  },
  {
   "cell_type": "markdown",
   "metadata": {},
   "source": [
    "Then we use a bit tricky procedure: we split the timestamp on month, day, hour and minute values. It will allow us to group data by every minute and create a properly structured time-series with successive equally spaced (by 1 minute) points in time"
   ]
  },
  {
   "cell_type": "code",
   "execution_count": 95,
   "metadata": {},
   "outputs": [
    {
     "data": {
      "text/plain": [
       "(179068, 12)"
      ]
     },
     "execution_count": 95,
     "metadata": {},
     "output_type": "execute_result"
    }
   ],
   "source": [
    "numeric_df = df[numeric_columns].groupby([df.index.month, df.index.day, df.index.hour, df.index.minute]).mean()\n",
    "numeric_df.shape"
   ]
  },
  {
   "cell_type": "code",
   "execution_count": 96,
   "metadata": {},
   "outputs": [
    {
     "data": {
      "text/plain": [
       "(179068, 13)"
      ]
     },
     "execution_count": 96,
     "metadata": {},
     "output_type": "execute_result"
    }
   ],
   "source": [
    "numeric_df['check_time'] = numeric_df.index\n",
    "numeric_df['check_time_2'] = numeric_df['check_time'].transform(lambda x: f'2020-{x[0]}-{x[1]} {x[2]}:{x[3]}:00')\n",
    "numeric_df['time'] = pd.to_datetime(numeric_df['check_time_2'])\n",
    "\n",
    "del numeric_df['check_time']\n",
    "del numeric_df['check_time_2']\n",
    "\n",
    "numeric_df.shape"
   ]
  },
  {
   "cell_type": "markdown",
   "metadata": {},
   "source": [
    "As a result we have a time column rounded to one minute"
   ]
  },
  {
   "cell_type": "code",
   "execution_count": 101,
   "metadata": {},
   "outputs": [
    {
     "name": "stdout",
     "output_type": "stream",
     "text": [
      "timestamp  timestamp  timestamp  timestamp\n",
      "5          1          0          1           2020-05-01 00:01:00\n",
      "                                 3           2020-05-01 00:03:00\n",
      "                                 5           2020-05-01 00:05:00\n",
      "Name: time, dtype: datetime64[ns] \n",
      "\n",
      " timestamp  timestamp  timestamp  timestamp\n",
      "9          30         23         57          2020-09-30 23:57:00\n",
      "                                 58          2020-09-30 23:58:00\n",
      "                                 59          2020-09-30 23:59:00\n",
      "Name: time, dtype: datetime64[ns]\n"
     ]
    }
   ],
   "source": [
    "print (numeric_df['time'].head(3),'\\n\\n',numeric_df['time'].tail(3))"
   ]
  },
  {
   "cell_type": "markdown",
   "metadata": {},
   "source": [
    "### <font color='#330066'>Step 9</font>\n",
    "\n",
    "**Working with categorical data**\n",
    "\n",
    "Let's repeat the steps with one difference, for grouping categorical data we can't use mean() function, therefore we call on mode() function (we used *stats* module of *scipy* library)"
   ]
  },
  {
   "cell_type": "code",
   "execution_count": 102,
   "metadata": {},
   "outputs": [
    {
     "data": {
      "text/plain": [
       "(179068, 9)"
      ]
     },
     "execution_count": 102,
     "metadata": {},
     "output_type": "execute_result"
    }
   ],
   "source": [
    "categorical_df = df[categorical_columns].groupby([df.index.month,\n",
    "                                                  df.index.day,\n",
    "                                                  df.index.hour,\n",
    "                                                  df.index.minute]).agg(lambda x: stats.mode(x)[0][0])\n",
    "categorical_df.shape"
   ]
  },
  {
   "cell_type": "code",
   "execution_count": 103,
   "metadata": {},
   "outputs": [
    {
     "data": {
      "text/plain": [
       "(179068, 10)"
      ]
     },
     "execution_count": 103,
     "metadata": {},
     "output_type": "execute_result"
    }
   ],
   "source": [
    "categorical_df['check_time'] = categorical_df.index\n",
    "categorical_df['check_time_2'] = categorical_df['check_time'].transform(lambda x: f'2020-{x[0]}-{x[1]} {x[2]}:{x[3]}:00')\n",
    "categorical_df['time'] = pd.to_datetime(categorical_df['check_time_2'])\n",
    "del categorical_df['check_time']\n",
    "del categorical_df['check_time_2']\n",
    "\n",
    "categorical_df.shape"
   ]
  },
  {
   "cell_type": "code",
   "execution_count": 104,
   "metadata": {},
   "outputs": [
    {
     "name": "stdout",
     "output_type": "stream",
     "text": [
      "timestamp  timestamp  timestamp  timestamp\n",
      "5          1          0          1           2020-05-01 00:01:00\n",
      "                                 3           2020-05-01 00:03:00\n",
      "                                 5           2020-05-01 00:05:00\n",
      "Name: time, dtype: datetime64[ns] \n",
      "\n",
      " timestamp  timestamp  timestamp  timestamp\n",
      "9          30         23         57          2020-09-30 23:57:00\n",
      "                                 58          2020-09-30 23:58:00\n",
      "                                 59          2020-09-30 23:59:00\n",
      "Name: time, dtype: datetime64[ns]\n"
     ]
    }
   ],
   "source": [
    "print (categorical_df['time'].head(3),'\\n\\n',categorical_df['time'].tail(3))"
   ]
  },
  {
   "cell_type": "markdown",
   "metadata": {},
   "source": [
    "### <font color='#330066'>Step 10</font>\n",
    "\n",
    "Creating continuous time dataframe "
   ]
  },
  {
   "cell_type": "code",
   "execution_count": 109,
   "metadata": {},
   "outputs": [
    {
     "data": {
      "text/plain": [
       "DatetimeIndex(['2020-05-01 00:00:00', '2020-05-01 00:01:00',\n",
       "               '2020-05-01 00:02:00', '2020-05-01 00:03:00',\n",
       "               '2020-05-01 00:04:00', '2020-05-01 00:05:00',\n",
       "               '2020-05-01 00:06:00', '2020-05-01 00:07:00',\n",
       "               '2020-05-01 00:08:00', '2020-05-01 00:09:00',\n",
       "               '2020-05-01 00:10:00', '2020-05-01 00:11:00',\n",
       "               '2020-05-01 00:12:00', '2020-05-01 00:13:00',\n",
       "               '2020-05-01 00:14:00', '2020-05-01 00:15:00',\n",
       "               '2020-05-01 00:16:00', '2020-05-01 00:17:00',\n",
       "               '2020-05-01 00:18:00', '2020-05-01 00:19:00'],\n",
       "              dtype='datetime64[ns]', freq='T')"
      ]
     },
     "execution_count": 109,
     "metadata": {},
     "output_type": "execute_result"
    }
   ],
   "source": [
    "times = pd.date_range('2020-05-01', '2020-10-01', freq='1min')\n",
    "\n",
    "times[:20]"
   ]
  },
  {
   "cell_type": "code",
   "execution_count": 111,
   "metadata": {},
   "outputs": [
    {
     "data": {
      "text/plain": [
       "(220321, 0)"
      ]
     },
     "execution_count": 111,
     "metadata": {},
     "output_type": "execute_result"
    }
   ],
   "source": [
    "dataframe = pd.DataFrame(index=times)\n",
    "dataframe.shape"
   ]
  },
  {
   "cell_type": "markdown",
   "metadata": {},
   "source": [
    "Joining our data to continuous time series"
   ]
  },
  {
   "cell_type": "code",
   "execution_count": 112,
   "metadata": {},
   "outputs": [
    {
     "data": {
      "text/plain": [
       "(220321, 21)"
      ]
     },
     "execution_count": 112,
     "metadata": {},
     "output_type": "execute_result"
    }
   ],
   "source": [
    "dataframe = dataframe.join(numeric_df.set_index('time')) #joining numeric data\n",
    "dataframe = dataframe.join(categorical_df.set_index('time')) #joining categorical data\n",
    "dataframe.shape"
   ]
  },
  {
   "cell_type": "markdown",
   "metadata": {},
   "source": [
    "Filling NaN values of our sparse dataframe, created as a result of left join"
   ]
  },
  {
   "cell_type": "code",
   "execution_count": 115,
   "metadata": {},
   "outputs": [
    {
     "name": "stdout",
     "output_type": "stream",
     "text": [
      "<class 'pandas.core.frame.DataFrame'>\n",
      "DatetimeIndex: 220321 entries, 2020-05-01 00:00:00 to 2020-10-01 00:00:00\n",
      "Freq: T\n",
      "Data columns (total 21 columns):\n",
      " #   Column                        Non-Null Count   Dtype  \n",
      "---  ------                        --------------   -----  \n",
      " 0   sensor.ac_power               92133 non-null   float64\n",
      " 1   sensor.atmospheric_pressure   3585 non-null    float64\n",
      " 2   sensor.bathroom_humidity      690 non-null     float64\n",
      " 3   sensor.bathroom_temperature   18489 non-null   float64\n",
      " 4   sensor.equipment_temperature  9973 non-null    float64\n",
      " 5   sensor.kitchen_humidity       736 non-null     float64\n",
      " 6   sensor.kitchen_temperature    18058 non-null   float64\n",
      " 7   sensor.office_co2             81117 non-null   float64\n",
      " 8   sensor.room_humidity          635 non-null     float64\n",
      " 9   sensor.room_temperature       50882 non-null   float64\n",
      " 10  sensor.weather_humidity       449 non-null     float64\n",
      " 11  sensor.weather_temperature    15455 non-null   float64\n",
      " 12  binary_sensor.balcony_door    179068 non-null  object \n",
      " 13  binary_sensor.kitchen_window  179068 non-null  object \n",
      " 14  binary_sensor.room_window     179068 non-null  object \n",
      " 15  climate.air_conditioner       179068 non-null  object \n",
      " 16  climate.air_conditioner_old   179068 non-null  object \n",
      " 17  cover.balcony                 179068 non-null  object \n",
      " 18  cover.windows                 179068 non-null  object \n",
      " 19  person.one                    179068 non-null  object \n",
      " 20  person.two                    179068 non-null  object \n",
      "dtypes: float64(12), object(9)\n",
      "memory usage: 47.0+ MB\n"
     ]
    }
   ],
   "source": [
    "dataframe.info()"
   ]
  },
  {
   "cell_type": "code",
   "execution_count": 116,
   "metadata": {},
   "outputs": [
    {
     "data": {
      "text/html": [
       "<div>\n",
       "<style scoped>\n",
       "    .dataframe tbody tr th:only-of-type {\n",
       "        vertical-align: middle;\n",
       "    }\n",
       "\n",
       "    .dataframe tbody tr th {\n",
       "        vertical-align: top;\n",
       "    }\n",
       "\n",
       "    .dataframe thead th {\n",
       "        text-align: right;\n",
       "    }\n",
       "</style>\n",
       "<table border=\"1\" class=\"dataframe\">\n",
       "  <thead>\n",
       "    <tr style=\"text-align: right;\">\n",
       "      <th></th>\n",
       "      <th>sensor.ac_power</th>\n",
       "      <th>sensor.atmospheric_pressure</th>\n",
       "      <th>sensor.bathroom_humidity</th>\n",
       "      <th>sensor.bathroom_temperature</th>\n",
       "      <th>sensor.equipment_temperature</th>\n",
       "      <th>sensor.kitchen_humidity</th>\n",
       "      <th>sensor.kitchen_temperature</th>\n",
       "      <th>sensor.office_co2</th>\n",
       "      <th>sensor.room_humidity</th>\n",
       "      <th>sensor.room_temperature</th>\n",
       "      <th>...</th>\n",
       "      <th>sensor.weather_temperature</th>\n",
       "      <th>binary_sensor.balcony_door</th>\n",
       "      <th>binary_sensor.kitchen_window</th>\n",
       "      <th>binary_sensor.room_window</th>\n",
       "      <th>climate.air_conditioner</th>\n",
       "      <th>climate.air_conditioner_old</th>\n",
       "      <th>cover.balcony</th>\n",
       "      <th>cover.windows</th>\n",
       "      <th>person.one</th>\n",
       "      <th>person.two</th>\n",
       "    </tr>\n",
       "  </thead>\n",
       "  <tbody>\n",
       "    <tr>\n",
       "      <th>2020-07-11 05:01:00</th>\n",
       "      <td>NaN</td>\n",
       "      <td>NaN</td>\n",
       "      <td>NaN</td>\n",
       "      <td>NaN</td>\n",
       "      <td>NaN</td>\n",
       "      <td>NaN</td>\n",
       "      <td>NaN</td>\n",
       "      <td>466.0</td>\n",
       "      <td>NaN</td>\n",
       "      <td>NaN</td>\n",
       "      <td>...</td>\n",
       "      <td>NaN</td>\n",
       "      <td>0</td>\n",
       "      <td>0</td>\n",
       "      <td>0</td>\n",
       "      <td>0</td>\n",
       "      <td>0</td>\n",
       "      <td>0</td>\n",
       "      <td>0</td>\n",
       "      <td>0</td>\n",
       "      <td>0</td>\n",
       "    </tr>\n",
       "    <tr>\n",
       "      <th>2020-08-08 10:36:00</th>\n",
       "      <td>1068.25</td>\n",
       "      <td>NaN</td>\n",
       "      <td>NaN</td>\n",
       "      <td>NaN</td>\n",
       "      <td>NaN</td>\n",
       "      <td>NaN</td>\n",
       "      <td>NaN</td>\n",
       "      <td>406.0</td>\n",
       "      <td>NaN</td>\n",
       "      <td>NaN</td>\n",
       "      <td>...</td>\n",
       "      <td>NaN</td>\n",
       "      <td>0</td>\n",
       "      <td>0</td>\n",
       "      <td>0</td>\n",
       "      <td>0</td>\n",
       "      <td>0</td>\n",
       "      <td>0</td>\n",
       "      <td>0</td>\n",
       "      <td>0</td>\n",
       "      <td>0</td>\n",
       "    </tr>\n",
       "    <tr>\n",
       "      <th>2020-09-30 23:05:00</th>\n",
       "      <td>NaN</td>\n",
       "      <td>NaN</td>\n",
       "      <td>NaN</td>\n",
       "      <td>NaN</td>\n",
       "      <td>NaN</td>\n",
       "      <td>NaN</td>\n",
       "      <td>NaN</td>\n",
       "      <td>NaN</td>\n",
       "      <td>NaN</td>\n",
       "      <td>NaN</td>\n",
       "      <td>...</td>\n",
       "      <td>NaN</td>\n",
       "      <td>NaN</td>\n",
       "      <td>NaN</td>\n",
       "      <td>NaN</td>\n",
       "      <td>NaN</td>\n",
       "      <td>NaN</td>\n",
       "      <td>NaN</td>\n",
       "      <td>NaN</td>\n",
       "      <td>NaN</td>\n",
       "      <td>NaN</td>\n",
       "    </tr>\n",
       "    <tr>\n",
       "      <th>2020-06-11 05:15:00</th>\n",
       "      <td>NaN</td>\n",
       "      <td>NaN</td>\n",
       "      <td>NaN</td>\n",
       "      <td>NaN</td>\n",
       "      <td>NaN</td>\n",
       "      <td>NaN</td>\n",
       "      <td>NaN</td>\n",
       "      <td>NaN</td>\n",
       "      <td>NaN</td>\n",
       "      <td>NaN</td>\n",
       "      <td>...</td>\n",
       "      <td>NaN</td>\n",
       "      <td>NaN</td>\n",
       "      <td>NaN</td>\n",
       "      <td>NaN</td>\n",
       "      <td>NaN</td>\n",
       "      <td>NaN</td>\n",
       "      <td>NaN</td>\n",
       "      <td>NaN</td>\n",
       "      <td>NaN</td>\n",
       "      <td>NaN</td>\n",
       "    </tr>\n",
       "    <tr>\n",
       "      <th>2020-06-10 06:30:00</th>\n",
       "      <td>NaN</td>\n",
       "      <td>NaN</td>\n",
       "      <td>NaN</td>\n",
       "      <td>NaN</td>\n",
       "      <td>NaN</td>\n",
       "      <td>NaN</td>\n",
       "      <td>NaN</td>\n",
       "      <td>NaN</td>\n",
       "      <td>NaN</td>\n",
       "      <td>NaN</td>\n",
       "      <td>...</td>\n",
       "      <td>NaN</td>\n",
       "      <td>NaN</td>\n",
       "      <td>NaN</td>\n",
       "      <td>NaN</td>\n",
       "      <td>NaN</td>\n",
       "      <td>NaN</td>\n",
       "      <td>NaN</td>\n",
       "      <td>NaN</td>\n",
       "      <td>NaN</td>\n",
       "      <td>NaN</td>\n",
       "    </tr>\n",
       "  </tbody>\n",
       "</table>\n",
       "<p>5 rows × 21 columns</p>\n",
       "</div>"
      ],
      "text/plain": [
       "                     sensor.ac_power  sensor.atmospheric_pressure  \\\n",
       "2020-07-11 05:01:00              NaN                          NaN   \n",
       "2020-08-08 10:36:00          1068.25                          NaN   \n",
       "2020-09-30 23:05:00              NaN                          NaN   \n",
       "2020-06-11 05:15:00              NaN                          NaN   \n",
       "2020-06-10 06:30:00              NaN                          NaN   \n",
       "\n",
       "                     sensor.bathroom_humidity  sensor.bathroom_temperature  \\\n",
       "2020-07-11 05:01:00                       NaN                          NaN   \n",
       "2020-08-08 10:36:00                       NaN                          NaN   \n",
       "2020-09-30 23:05:00                       NaN                          NaN   \n",
       "2020-06-11 05:15:00                       NaN                          NaN   \n",
       "2020-06-10 06:30:00                       NaN                          NaN   \n",
       "\n",
       "                     sensor.equipment_temperature  sensor.kitchen_humidity  \\\n",
       "2020-07-11 05:01:00                           NaN                      NaN   \n",
       "2020-08-08 10:36:00                           NaN                      NaN   \n",
       "2020-09-30 23:05:00                           NaN                      NaN   \n",
       "2020-06-11 05:15:00                           NaN                      NaN   \n",
       "2020-06-10 06:30:00                           NaN                      NaN   \n",
       "\n",
       "                     sensor.kitchen_temperature  sensor.office_co2  \\\n",
       "2020-07-11 05:01:00                         NaN              466.0   \n",
       "2020-08-08 10:36:00                         NaN              406.0   \n",
       "2020-09-30 23:05:00                         NaN                NaN   \n",
       "2020-06-11 05:15:00                         NaN                NaN   \n",
       "2020-06-10 06:30:00                         NaN                NaN   \n",
       "\n",
       "                     sensor.room_humidity  sensor.room_temperature  ...  \\\n",
       "2020-07-11 05:01:00                   NaN                      NaN  ...   \n",
       "2020-08-08 10:36:00                   NaN                      NaN  ...   \n",
       "2020-09-30 23:05:00                   NaN                      NaN  ...   \n",
       "2020-06-11 05:15:00                   NaN                      NaN  ...   \n",
       "2020-06-10 06:30:00                   NaN                      NaN  ...   \n",
       "\n",
       "                     sensor.weather_temperature  binary_sensor.balcony_door  \\\n",
       "2020-07-11 05:01:00                         NaN                           0   \n",
       "2020-08-08 10:36:00                         NaN                           0   \n",
       "2020-09-30 23:05:00                         NaN                         NaN   \n",
       "2020-06-11 05:15:00                         NaN                         NaN   \n",
       "2020-06-10 06:30:00                         NaN                         NaN   \n",
       "\n",
       "                    binary_sensor.kitchen_window binary_sensor.room_window  \\\n",
       "2020-07-11 05:01:00                            0                         0   \n",
       "2020-08-08 10:36:00                            0                         0   \n",
       "2020-09-30 23:05:00                          NaN                       NaN   \n",
       "2020-06-11 05:15:00                          NaN                       NaN   \n",
       "2020-06-10 06:30:00                          NaN                       NaN   \n",
       "\n",
       "                    climate.air_conditioner climate.air_conditioner_old  \\\n",
       "2020-07-11 05:01:00                       0                           0   \n",
       "2020-08-08 10:36:00                       0                           0   \n",
       "2020-09-30 23:05:00                     NaN                         NaN   \n",
       "2020-06-11 05:15:00                     NaN                         NaN   \n",
       "2020-06-10 06:30:00                     NaN                         NaN   \n",
       "\n",
       "                    cover.balcony cover.windows person.one person.two  \n",
       "2020-07-11 05:01:00             0             0          0          0  \n",
       "2020-08-08 10:36:00             0             0          0          0  \n",
       "2020-09-30 23:05:00           NaN           NaN        NaN        NaN  \n",
       "2020-06-11 05:15:00           NaN           NaN        NaN        NaN  \n",
       "2020-06-10 06:30:00           NaN           NaN        NaN        NaN  \n",
       "\n",
       "[5 rows x 21 columns]"
      ]
     },
     "execution_count": 116,
     "metadata": {},
     "output_type": "execute_result"
    }
   ],
   "source": [
    "dataframe.sample(5)"
   ]
  },
  {
   "cell_type": "markdown",
   "metadata": {},
   "source": [
    "First, let's reverse \"0\" values a actually created from 'NaN' values while using groupby method"
   ]
  },
  {
   "cell_type": "code",
   "execution_count": 117,
   "metadata": {},
   "outputs": [],
   "source": [
    "dataframe.replace(0, np.NaN, inplace=True)"
   ]
  },
  {
   "cell_type": "code",
   "execution_count": 118,
   "metadata": {},
   "outputs": [
    {
     "name": "stdout",
     "output_type": "stream",
     "text": [
      "<class 'pandas.core.frame.DataFrame'>\n",
      "DatetimeIndex: 220321 entries, 2020-05-01 00:00:00 to 2020-10-01 00:00:00\n",
      "Freq: T\n",
      "Data columns (total 21 columns):\n",
      " #   Column                        Non-Null Count  Dtype  \n",
      "---  ------                        --------------  -----  \n",
      " 0   sensor.ac_power               91911 non-null  float64\n",
      " 1   sensor.atmospheric_pressure   3585 non-null   float64\n",
      " 2   sensor.bathroom_humidity      690 non-null    float64\n",
      " 3   sensor.bathroom_temperature   18489 non-null  float64\n",
      " 4   sensor.equipment_temperature  9973 non-null   float64\n",
      " 5   sensor.kitchen_humidity       736 non-null    float64\n",
      " 6   sensor.kitchen_temperature    18058 non-null  float64\n",
      " 7   sensor.office_co2             81117 non-null  float64\n",
      " 8   sensor.room_humidity          635 non-null    float64\n",
      " 9   sensor.room_temperature       50882 non-null  float64\n",
      " 10  sensor.weather_humidity       449 non-null    float64\n",
      " 11  sensor.weather_temperature    15455 non-null  float64\n",
      " 12  binary_sensor.balcony_door    2559 non-null   object \n",
      " 13  binary_sensor.kitchen_window  4824 non-null   object \n",
      " 14  binary_sensor.room_window     372 non-null    object \n",
      " 15  climate.air_conditioner       27608 non-null  object \n",
      " 16  climate.air_conditioner_old   5158 non-null   object \n",
      " 17  cover.balcony                 385 non-null    object \n",
      " 18  cover.windows                 908 non-null    object \n",
      " 19  person.one                    12167 non-null  object \n",
      " 20  person.two                    407 non-null    object \n",
      "dtypes: float64(12), object(9)\n",
      "memory usage: 47.0+ MB\n"
     ]
    }
   ],
   "source": [
    "dataframe.info()"
   ]
  },
  {
   "cell_type": "code",
   "execution_count": 119,
   "metadata": {},
   "outputs": [
    {
     "name": "stdout",
     "output_type": "stream",
     "text": [
      "<class 'pandas.core.frame.DataFrame'>\n",
      "DatetimeIndex: 220321 entries, 2020-05-01 00:00:00 to 2020-10-01 00:00:00\n",
      "Freq: T\n",
      "Data columns (total 21 columns):\n",
      " #   Column                        Non-Null Count   Dtype  \n",
      "---  ------                        --------------   -----  \n",
      " 0   sensor.ac_power               187995 non-null  float64\n",
      " 1   sensor.atmospheric_pressure   135133 non-null  float64\n",
      " 2   sensor.bathroom_humidity      217174 non-null  float64\n",
      " 3   sensor.bathroom_temperature   220310 non-null  float64\n",
      " 4   sensor.equipment_temperature  220315 non-null  float64\n",
      " 5   sensor.kitchen_humidity       177707 non-null  float64\n",
      " 6   sensor.kitchen_temperature    220278 non-null  float64\n",
      " 7   sensor.office_co2             131289 non-null  float64\n",
      " 8   sensor.room_humidity          177310 non-null  float64\n",
      " 9   sensor.room_temperature       220320 non-null  float64\n",
      " 10  sensor.weather_humidity       219735 non-null  float64\n",
      " 11  sensor.weather_temperature    220302 non-null  float64\n",
      " 12  binary_sensor.balcony_door    219711 non-null  object \n",
      " 13  binary_sensor.kitchen_window  220318 non-null  object \n",
      " 14  binary_sensor.room_window     219604 non-null  object \n",
      " 15  climate.air_conditioner       209304 non-null  object \n",
      " 16  climate.air_conditioner_old   66497 non-null   object \n",
      " 17  cover.balcony                 219698 non-null  object \n",
      " 18  cover.windows                 219698 non-null  object \n",
      " 19  person.one                    220305 non-null  object \n",
      " 20  person.two                    219604 non-null  object \n",
      "dtypes: float64(12), object(9)\n",
      "memory usage: 47.0+ MB\n"
     ]
    }
   ],
   "source": [
    "dataframe.fillna(method='ffill', inplace = True)\n",
    "\n",
    "dataframe.info()"
   ]
  },
  {
   "cell_type": "markdown",
   "metadata": {},
   "source": [
    "We still have quite a few NaN values - they are natural to our data and caused by hcanging sensors' names and introducing new sensors during our observation period. We'll leave them fot the moment.\n",
    "\n",
    "As we can see, in the \"middle\" of our observation time data is clean and has desired format."
   ]
  },
  {
   "cell_type": "code",
   "execution_count": 120,
   "metadata": {},
   "outputs": [
    {
     "data": {
      "text/html": [
       "<div>\n",
       "<style scoped>\n",
       "    .dataframe tbody tr th:only-of-type {\n",
       "        vertical-align: middle;\n",
       "    }\n",
       "\n",
       "    .dataframe tbody tr th {\n",
       "        vertical-align: top;\n",
       "    }\n",
       "\n",
       "    .dataframe thead th {\n",
       "        text-align: right;\n",
       "    }\n",
       "</style>\n",
       "<table border=\"1\" class=\"dataframe\">\n",
       "  <thead>\n",
       "    <tr style=\"text-align: right;\">\n",
       "      <th></th>\n",
       "      <th>sensor.ac_power</th>\n",
       "      <th>sensor.atmospheric_pressure</th>\n",
       "      <th>sensor.bathroom_humidity</th>\n",
       "      <th>sensor.bathroom_temperature</th>\n",
       "      <th>sensor.equipment_temperature</th>\n",
       "      <th>sensor.kitchen_humidity</th>\n",
       "      <th>sensor.kitchen_temperature</th>\n",
       "      <th>sensor.office_co2</th>\n",
       "      <th>sensor.room_humidity</th>\n",
       "      <th>sensor.room_temperature</th>\n",
       "      <th>...</th>\n",
       "      <th>sensor.weather_temperature</th>\n",
       "      <th>binary_sensor.balcony_door</th>\n",
       "      <th>binary_sensor.kitchen_window</th>\n",
       "      <th>binary_sensor.room_window</th>\n",
       "      <th>climate.air_conditioner</th>\n",
       "      <th>climate.air_conditioner_old</th>\n",
       "      <th>cover.balcony</th>\n",
       "      <th>cover.windows</th>\n",
       "      <th>person.one</th>\n",
       "      <th>person.two</th>\n",
       "    </tr>\n",
       "  </thead>\n",
       "  <tbody>\n",
       "    <tr>\n",
       "      <th>2020-07-31 23:55:00</th>\n",
       "      <td>67.0</td>\n",
       "      <td>1015.0</td>\n",
       "      <td>43.0</td>\n",
       "      <td>23.9</td>\n",
       "      <td>29.1</td>\n",
       "      <td>50.3</td>\n",
       "      <td>24.4</td>\n",
       "      <td>400.0</td>\n",
       "      <td>41.9</td>\n",
       "      <td>23.7</td>\n",
       "      <td>...</td>\n",
       "      <td>17.1</td>\n",
       "      <td>on</td>\n",
       "      <td>off</td>\n",
       "      <td>off</td>\n",
       "      <td>off</td>\n",
       "      <td>NaN</td>\n",
       "      <td>open</td>\n",
       "      <td>open</td>\n",
       "      <td>not_home</td>\n",
       "      <td>not_home</td>\n",
       "    </tr>\n",
       "    <tr>\n",
       "      <th>2020-07-31 23:56:00</th>\n",
       "      <td>67.0</td>\n",
       "      <td>1015.0</td>\n",
       "      <td>43.0</td>\n",
       "      <td>23.9</td>\n",
       "      <td>29.1</td>\n",
       "      <td>50.3</td>\n",
       "      <td>24.4</td>\n",
       "      <td>400.0</td>\n",
       "      <td>41.9</td>\n",
       "      <td>23.7</td>\n",
       "      <td>...</td>\n",
       "      <td>17.0</td>\n",
       "      <td>on</td>\n",
       "      <td>off</td>\n",
       "      <td>off</td>\n",
       "      <td>off</td>\n",
       "      <td>NaN</td>\n",
       "      <td>open</td>\n",
       "      <td>open</td>\n",
       "      <td>not_home</td>\n",
       "      <td>not_home</td>\n",
       "    </tr>\n",
       "    <tr>\n",
       "      <th>2020-07-31 23:57:00</th>\n",
       "      <td>67.0</td>\n",
       "      <td>1015.0</td>\n",
       "      <td>43.0</td>\n",
       "      <td>23.9</td>\n",
       "      <td>29.3</td>\n",
       "      <td>50.3</td>\n",
       "      <td>24.4</td>\n",
       "      <td>400.0</td>\n",
       "      <td>41.9</td>\n",
       "      <td>23.7</td>\n",
       "      <td>...</td>\n",
       "      <td>17.0</td>\n",
       "      <td>on</td>\n",
       "      <td>off</td>\n",
       "      <td>off</td>\n",
       "      <td>off</td>\n",
       "      <td>NaN</td>\n",
       "      <td>open</td>\n",
       "      <td>open</td>\n",
       "      <td>not_home</td>\n",
       "      <td>not_home</td>\n",
       "    </tr>\n",
       "    <tr>\n",
       "      <th>2020-07-31 23:58:00</th>\n",
       "      <td>67.0</td>\n",
       "      <td>1015.0</td>\n",
       "      <td>43.0</td>\n",
       "      <td>23.9</td>\n",
       "      <td>29.3</td>\n",
       "      <td>50.3</td>\n",
       "      <td>24.4</td>\n",
       "      <td>400.0</td>\n",
       "      <td>41.9</td>\n",
       "      <td>23.7</td>\n",
       "      <td>...</td>\n",
       "      <td>17.0</td>\n",
       "      <td>on</td>\n",
       "      <td>off</td>\n",
       "      <td>off</td>\n",
       "      <td>off</td>\n",
       "      <td>NaN</td>\n",
       "      <td>open</td>\n",
       "      <td>open</td>\n",
       "      <td>not_home</td>\n",
       "      <td>not_home</td>\n",
       "    </tr>\n",
       "    <tr>\n",
       "      <th>2020-07-31 23:59:00</th>\n",
       "      <td>67.0</td>\n",
       "      <td>1015.0</td>\n",
       "      <td>43.0</td>\n",
       "      <td>23.9</td>\n",
       "      <td>29.3</td>\n",
       "      <td>50.3</td>\n",
       "      <td>24.4</td>\n",
       "      <td>400.0</td>\n",
       "      <td>41.9</td>\n",
       "      <td>23.7</td>\n",
       "      <td>...</td>\n",
       "      <td>17.0</td>\n",
       "      <td>on</td>\n",
       "      <td>off</td>\n",
       "      <td>off</td>\n",
       "      <td>off</td>\n",
       "      <td>NaN</td>\n",
       "      <td>open</td>\n",
       "      <td>open</td>\n",
       "      <td>not_home</td>\n",
       "      <td>not_home</td>\n",
       "    </tr>\n",
       "  </tbody>\n",
       "</table>\n",
       "<p>5 rows × 21 columns</p>\n",
       "</div>"
      ],
      "text/plain": [
       "                     sensor.ac_power  sensor.atmospheric_pressure  \\\n",
       "2020-07-31 23:55:00             67.0                       1015.0   \n",
       "2020-07-31 23:56:00             67.0                       1015.0   \n",
       "2020-07-31 23:57:00             67.0                       1015.0   \n",
       "2020-07-31 23:58:00             67.0                       1015.0   \n",
       "2020-07-31 23:59:00             67.0                       1015.0   \n",
       "\n",
       "                     sensor.bathroom_humidity  sensor.bathroom_temperature  \\\n",
       "2020-07-31 23:55:00                      43.0                         23.9   \n",
       "2020-07-31 23:56:00                      43.0                         23.9   \n",
       "2020-07-31 23:57:00                      43.0                         23.9   \n",
       "2020-07-31 23:58:00                      43.0                         23.9   \n",
       "2020-07-31 23:59:00                      43.0                         23.9   \n",
       "\n",
       "                     sensor.equipment_temperature  sensor.kitchen_humidity  \\\n",
       "2020-07-31 23:55:00                          29.1                     50.3   \n",
       "2020-07-31 23:56:00                          29.1                     50.3   \n",
       "2020-07-31 23:57:00                          29.3                     50.3   \n",
       "2020-07-31 23:58:00                          29.3                     50.3   \n",
       "2020-07-31 23:59:00                          29.3                     50.3   \n",
       "\n",
       "                     sensor.kitchen_temperature  sensor.office_co2  \\\n",
       "2020-07-31 23:55:00                        24.4              400.0   \n",
       "2020-07-31 23:56:00                        24.4              400.0   \n",
       "2020-07-31 23:57:00                        24.4              400.0   \n",
       "2020-07-31 23:58:00                        24.4              400.0   \n",
       "2020-07-31 23:59:00                        24.4              400.0   \n",
       "\n",
       "                     sensor.room_humidity  sensor.room_temperature  ...  \\\n",
       "2020-07-31 23:55:00                  41.9                     23.7  ...   \n",
       "2020-07-31 23:56:00                  41.9                     23.7  ...   \n",
       "2020-07-31 23:57:00                  41.9                     23.7  ...   \n",
       "2020-07-31 23:58:00                  41.9                     23.7  ...   \n",
       "2020-07-31 23:59:00                  41.9                     23.7  ...   \n",
       "\n",
       "                     sensor.weather_temperature  binary_sensor.balcony_door  \\\n",
       "2020-07-31 23:55:00                        17.1                          on   \n",
       "2020-07-31 23:56:00                        17.0                          on   \n",
       "2020-07-31 23:57:00                        17.0                          on   \n",
       "2020-07-31 23:58:00                        17.0                          on   \n",
       "2020-07-31 23:59:00                        17.0                          on   \n",
       "\n",
       "                    binary_sensor.kitchen_window binary_sensor.room_window  \\\n",
       "2020-07-31 23:55:00                          off                       off   \n",
       "2020-07-31 23:56:00                          off                       off   \n",
       "2020-07-31 23:57:00                          off                       off   \n",
       "2020-07-31 23:58:00                          off                       off   \n",
       "2020-07-31 23:59:00                          off                       off   \n",
       "\n",
       "                    climate.air_conditioner climate.air_conditioner_old  \\\n",
       "2020-07-31 23:55:00                     off                         NaN   \n",
       "2020-07-31 23:56:00                     off                         NaN   \n",
       "2020-07-31 23:57:00                     off                         NaN   \n",
       "2020-07-31 23:58:00                     off                         NaN   \n",
       "2020-07-31 23:59:00                     off                         NaN   \n",
       "\n",
       "                    cover.balcony cover.windows person.one person.two  \n",
       "2020-07-31 23:55:00          open          open   not_home   not_home  \n",
       "2020-07-31 23:56:00          open          open   not_home   not_home  \n",
       "2020-07-31 23:57:00          open          open   not_home   not_home  \n",
       "2020-07-31 23:58:00          open          open   not_home   not_home  \n",
       "2020-07-31 23:59:00          open          open   not_home   not_home  \n",
       "\n",
       "[5 rows x 21 columns]"
      ]
     },
     "execution_count": 120,
     "metadata": {},
     "output_type": "execute_result"
    }
   ],
   "source": [
    "dataframe[132475:132480]"
   ]
  },
  {
   "cell_type": "markdown",
   "metadata": {},
   "source": [
    "We'll saved the transformed clean data for further EDA and ML"
   ]
  },
  {
   "cell_type": "code",
   "execution_count": 121,
   "metadata": {},
   "outputs": [],
   "source": [
    "dataframe.to_csv('data/data.csv')\n",
    "dataframe[87840:132480].to_csv('data/july.csv')"
   ]
  }
 ],
 "metadata": {
  "kernelspec": {
   "display_name": "Python 3",
   "language": "python",
   "name": "python3"
  },
  "language_info": {
   "codemirror_mode": {
    "name": "ipython",
    "version": 3
   },
   "file_extension": ".py",
   "mimetype": "text/x-python",
   "name": "python",
   "nbconvert_exporter": "python",
   "pygments_lexer": "ipython3",
   "version": "3.8.3"
  }
 },
 "nbformat": 4,
 "nbformat_minor": 4
}
