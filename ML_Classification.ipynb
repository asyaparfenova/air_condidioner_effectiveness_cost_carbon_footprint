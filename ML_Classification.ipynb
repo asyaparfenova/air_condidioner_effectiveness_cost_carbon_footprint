{
 "cells": [
  {
   "attachments": {},
   "cell_type": "markdown",
   "metadata": {},
   "source": [
    "# Machine Learning\n",
    "## Classification Problem\n",
    "\n",
    "**Unexpected challenge emerged when it came to splitting the data to train+test and evaluation sets**\n",
    "\n",
    "![Hysteresis](https://github.com/asyaparfenova/air_condidioner_effectiveness_cost_carbon_footprint/blob/main/images/hysteresis.png?raw=true)\n",
    "\n",
    "The initial idea was to train the model on the temperature data for the time periods, when the air conditioner was “off” and then to re-construct the “uncooled” temperature, when it was on. But here comes the hysteresis problem: it takes time to cool down the room and, more importantly, the room stays cooler for some time after switching off the cooling and that\n",
    "time can not be used for training.\n",
    "\n",
    "![Cutting Tail](https://github.com/asyaparfenova/air_condidioner_effectiveness_cost_carbon_footprint/blob/main/images/classification.png?raw=truee)\n",
    "\n",
    "To estimate hysteresis lag regression machine learning was used, as the time after changing the state the air conditioner, when our model can not properly predict the right state or, in\u000b",
    "other worlds, to recognize that the state was changed."
   ]
  },
  {
   "cell_type": "code",
   "execution_count": 47,
   "metadata": {},
   "outputs": [],
   "source": [
    "import pandas as pd\n",
    "\n",
    "import matplotlib.pyplot as plt\n",
    "import seaborn as sns\n",
    "\n",
    "from sklearn.model_selection import train_test_split\n",
    "from sklearn.compose import ColumnTransformer\n",
    "from sklearn.preprocessing import MinMaxScaler, OneHotEncoder, FunctionTransformer, PolynomialFeatures, KBinsDiscretizer\n",
    "from sklearn.pipeline import make_pipeline\n",
    "\n",
    "from sklearn.linear_model import LogisticRegression\n",
    "from sklearn.tree import DecisionTreeClassifier\n",
    "from sklearn.ensemble import RandomForestClassifier, GradientBoostingClassifier\n",
    "from sklearn.svm import SVC\n",
    "\n",
    "from sklearn.model_selection import cross_val_score\n",
    "from sklearn.utils import resample\n",
    "\n",
    "import statsmodels.discrete.discrete_model as sm"
   ]
  },
  {
   "cell_type": "markdown",
   "metadata": {},
   "source": [
    "We will be working with july subset for speed and simplicity"
   ]
  },
  {
   "cell_type": "code",
   "execution_count": 29,
   "metadata": {},
   "outputs": [],
   "source": [
    "df = pd.read_csv('data/july.csv', index_col='Unnamed: 0')"
   ]
  },
  {
   "cell_type": "markdown",
   "metadata": {},
   "source": [
    "**Let's start with the splitting**"
   ]
  },
  {
   "cell_type": "code",
   "execution_count": 30,
   "metadata": {
    "scrolled": true
   },
   "outputs": [
    {
     "data": {
      "text/plain": [
       "Index(['sensor.ac_power', 'sensor.atmospheric_pressure',\n",
       "       'sensor.bathroom_humidity', 'sensor.bathroom_temperature',\n",
       "       'sensor.equipment_temperature', 'sensor.kitchen_humidity',\n",
       "       'sensor.kitchen_temperature', 'sensor.office_co2',\n",
       "       'sensor.room_humidity', 'sensor.room_temperature',\n",
       "       'sensor.weather_humidity', 'sensor.weather_temperature',\n",
       "       'binary_sensor.balcony_door', 'binary_sensor.kitchen_window',\n",
       "       'binary_sensor.room_window', 'climate.air_conditioner',\n",
       "       'climate.air_conditioner_old', 'cover.balcony', 'cover.windows',\n",
       "       'person.one', 'person.two'],\n",
       "      dtype='object')"
      ]
     },
     "execution_count": 30,
     "metadata": {},
     "output_type": "execute_result"
    }
   ],
   "source": [
    "df.columns"
   ]
  },
  {
   "cell_type": "code",
   "execution_count": 31,
   "metadata": {},
   "outputs": [
    {
     "data": {
      "text/plain": [
       "sensor.ac_power                     0\n",
       "sensor.atmospheric_pressure         0\n",
       "sensor.bathroom_humidity            0\n",
       "sensor.bathroom_temperature         0\n",
       "sensor.equipment_temperature        0\n",
       "sensor.kitchen_humidity             0\n",
       "sensor.kitchen_temperature          0\n",
       "sensor.office_co2                1192\n",
       "sensor.room_humidity                0\n",
       "sensor.room_temperature             0\n",
       "sensor.weather_humidity             0\n",
       "sensor.weather_temperature          0\n",
       "binary_sensor.balcony_door          0\n",
       "binary_sensor.kitchen_window        0\n",
       "binary_sensor.room_window           0\n",
       "climate.air_conditioner             0\n",
       "climate.air_conditioner_old     44640\n",
       "cover.balcony                       0\n",
       "cover.windows                       0\n",
       "person.one                          0\n",
       "person.two                          0\n",
       "dtype: int64"
      ]
     },
     "execution_count": 31,
     "metadata": {},
     "output_type": "execute_result"
    }
   ],
   "source": [
    "df.isnull().sum()"
   ]
  },
  {
   "cell_type": "markdown",
   "metadata": {},
   "source": [
    "- We can drop *'climate.air_conditioner_old'* and *'sensor.office_co2'* columns, because CO2 level is not important for our modelling and old air conditioner dataset is empty for July.\n",
    "- Also 'sensor.ac_power' is not important for our nearest goals."
   ]
  },
  {
   "cell_type": "code",
   "execution_count": 32,
   "metadata": {},
   "outputs": [],
   "source": [
    "df.drop(['sensor.office_co2'], axis=1, inplace=True)\n",
    "df.drop(['climate.air_conditioner_old'], axis=1, inplace=True)\n",
    "df.drop(['sensor.ac_power'], axis=1, inplace=True)"
   ]
  },
  {
   "cell_type": "code",
   "execution_count": 33,
   "metadata": {},
   "outputs": [
    {
     "data": {
      "text/plain": [
       "(44640, 18)"
      ]
     },
     "execution_count": 33,
     "metadata": {},
     "output_type": "execute_result"
    }
   ],
   "source": [
    "df.shape"
   ]
  },
  {
   "cell_type": "markdown",
   "metadata": {},
   "source": [
    "Let's also redefine our air conditioner state into binary values"
   ]
  },
  {
   "cell_type": "code",
   "execution_count": 34,
   "metadata": {},
   "outputs": [],
   "source": [
    "df['climate.air_conditioner'].unique()\n",
    "df['climate.air_conditioner'].replace({'cool':1, 'dry':0, 'fan_only':0, 'off':0}, inplace=True)"
   ]
  },
  {
   "cell_type": "markdown",
   "metadata": {},
   "source": [
    "And create a feature for time"
   ]
  },
  {
   "cell_type": "code",
   "execution_count": 35,
   "metadata": {},
   "outputs": [],
   "source": [
    "df['time_hour'] = pd.to_datetime(df.index).hour"
   ]
  },
  {
   "cell_type": "markdown",
   "metadata": {},
   "source": [
    "**Let's define our X and y**"
   ]
  },
  {
   "cell_type": "code",
   "execution_count": 36,
   "metadata": {},
   "outputs": [],
   "source": [
    "X = df.drop('climate.air_conditioner', axis=1)"
   ]
  },
  {
   "cell_type": "code",
   "execution_count": 37,
   "metadata": {},
   "outputs": [],
   "source": [
    "y = df['climate.air_conditioner']"
   ]
  },
  {
   "cell_type": "code",
   "execution_count": 38,
   "metadata": {},
   "outputs": [
    {
     "data": {
      "text/plain": [
       "((44640, 18), (44640,))"
      ]
     },
     "execution_count": 38,
     "metadata": {},
     "output_type": "execute_result"
    }
   ],
   "source": [
    "X.shape, y.shape"
   ]
  },
  {
   "cell_type": "markdown",
   "metadata": {},
   "source": [
    "**Train/Test split**"
   ]
  },
  {
   "cell_type": "code",
   "execution_count": 39,
   "metadata": {},
   "outputs": [],
   "source": [
    "X_train, X_test, y_train, y_test = train_test_split(X, y, test_size=0.2, random_state=42)"
   ]
  },
  {
   "cell_type": "code",
   "execution_count": 40,
   "metadata": {},
   "outputs": [
    {
     "data": {
      "text/plain": [
       "((35712, 18), (35712,))"
      ]
     },
     "execution_count": 40,
     "metadata": {},
     "output_type": "execute_result"
    }
   ],
   "source": [
    "X_train.shape, y_train.shape"
   ]
  },
  {
   "cell_type": "markdown",
   "metadata": {},
   "source": [
    "**X_train:** Feature Engineering"
   ]
  },
  {
   "cell_type": "code",
   "execution_count": 41,
   "metadata": {
    "scrolled": true
   },
   "outputs": [
    {
     "data": {
      "text/html": [
       "<div>\n",
       "<style scoped>\n",
       "    .dataframe tbody tr th:only-of-type {\n",
       "        vertical-align: middle;\n",
       "    }\n",
       "\n",
       "    .dataframe tbody tr th {\n",
       "        vertical-align: top;\n",
       "    }\n",
       "\n",
       "    .dataframe thead th {\n",
       "        text-align: right;\n",
       "    }\n",
       "</style>\n",
       "<table border=\"1\" class=\"dataframe\">\n",
       "  <thead>\n",
       "    <tr style=\"text-align: right;\">\n",
       "      <th></th>\n",
       "      <th>sensor.atmospheric_pressure</th>\n",
       "      <th>sensor.bathroom_humidity</th>\n",
       "      <th>sensor.bathroom_temperature</th>\n",
       "      <th>sensor.equipment_temperature</th>\n",
       "      <th>sensor.kitchen_humidity</th>\n",
       "      <th>sensor.kitchen_temperature</th>\n",
       "      <th>sensor.room_humidity</th>\n",
       "      <th>sensor.room_temperature</th>\n",
       "      <th>sensor.weather_humidity</th>\n",
       "      <th>sensor.weather_temperature</th>\n",
       "      <th>binary_sensor.balcony_door</th>\n",
       "      <th>binary_sensor.kitchen_window</th>\n",
       "      <th>binary_sensor.room_window</th>\n",
       "      <th>cover.balcony</th>\n",
       "      <th>cover.windows</th>\n",
       "      <th>person.one</th>\n",
       "      <th>person.two</th>\n",
       "      <th>time_hour</th>\n",
       "    </tr>\n",
       "  </thead>\n",
       "  <tbody>\n",
       "    <tr>\n",
       "      <th>2020-07-31 19:31:00</th>\n",
       "      <td>1014.0</td>\n",
       "      <td>43.0</td>\n",
       "      <td>23.7</td>\n",
       "      <td>28.1</td>\n",
       "      <td>50.3</td>\n",
       "      <td>24.2</td>\n",
       "      <td>38.6</td>\n",
       "      <td>22.1</td>\n",
       "      <td>36.0</td>\n",
       "      <td>22.9</td>\n",
       "      <td>on</td>\n",
       "      <td>off</td>\n",
       "      <td>off</td>\n",
       "      <td>open</td>\n",
       "      <td>open</td>\n",
       "      <td>not_home</td>\n",
       "      <td>not_home</td>\n",
       "      <td>19</td>\n",
       "    </tr>\n",
       "    <tr>\n",
       "      <th>2020-07-29 18:56:00</th>\n",
       "      <td>1014.0</td>\n",
       "      <td>44.0</td>\n",
       "      <td>23.8</td>\n",
       "      <td>28.5</td>\n",
       "      <td>44.7</td>\n",
       "      <td>23.2</td>\n",
       "      <td>43.7</td>\n",
       "      <td>22.9</td>\n",
       "      <td>38.0</td>\n",
       "      <td>20.2</td>\n",
       "      <td>on</td>\n",
       "      <td>off</td>\n",
       "      <td>off</td>\n",
       "      <td>open</td>\n",
       "      <td>open</td>\n",
       "      <td>home</td>\n",
       "      <td>not_home</td>\n",
       "      <td>18</td>\n",
       "    </tr>\n",
       "    <tr>\n",
       "      <th>2020-07-30 08:10:00</th>\n",
       "      <td>1018.0</td>\n",
       "      <td>46.0</td>\n",
       "      <td>23.8</td>\n",
       "      <td>28.9</td>\n",
       "      <td>44.7</td>\n",
       "      <td>22.9</td>\n",
       "      <td>39.9</td>\n",
       "      <td>23.0</td>\n",
       "      <td>67.0</td>\n",
       "      <td>18.7</td>\n",
       "      <td>on</td>\n",
       "      <td>off</td>\n",
       "      <td>off</td>\n",
       "      <td>open</td>\n",
       "      <td>open</td>\n",
       "      <td>not_home</td>\n",
       "      <td>not_home</td>\n",
       "      <td>8</td>\n",
       "    </tr>\n",
       "  </tbody>\n",
       "</table>\n",
       "</div>"
      ],
      "text/plain": [
       "                     sensor.atmospheric_pressure  sensor.bathroom_humidity  \\\n",
       "2020-07-31 19:31:00                       1014.0                      43.0   \n",
       "2020-07-29 18:56:00                       1014.0                      44.0   \n",
       "2020-07-30 08:10:00                       1018.0                      46.0   \n",
       "\n",
       "                     sensor.bathroom_temperature  \\\n",
       "2020-07-31 19:31:00                         23.7   \n",
       "2020-07-29 18:56:00                         23.8   \n",
       "2020-07-30 08:10:00                         23.8   \n",
       "\n",
       "                     sensor.equipment_temperature  sensor.kitchen_humidity  \\\n",
       "2020-07-31 19:31:00                          28.1                     50.3   \n",
       "2020-07-29 18:56:00                          28.5                     44.7   \n",
       "2020-07-30 08:10:00                          28.9                     44.7   \n",
       "\n",
       "                     sensor.kitchen_temperature  sensor.room_humidity  \\\n",
       "2020-07-31 19:31:00                        24.2                  38.6   \n",
       "2020-07-29 18:56:00                        23.2                  43.7   \n",
       "2020-07-30 08:10:00                        22.9                  39.9   \n",
       "\n",
       "                     sensor.room_temperature  sensor.weather_humidity  \\\n",
       "2020-07-31 19:31:00                     22.1                     36.0   \n",
       "2020-07-29 18:56:00                     22.9                     38.0   \n",
       "2020-07-30 08:10:00                     23.0                     67.0   \n",
       "\n",
       "                     sensor.weather_temperature binary_sensor.balcony_door  \\\n",
       "2020-07-31 19:31:00                        22.9                         on   \n",
       "2020-07-29 18:56:00                        20.2                         on   \n",
       "2020-07-30 08:10:00                        18.7                         on   \n",
       "\n",
       "                    binary_sensor.kitchen_window binary_sensor.room_window  \\\n",
       "2020-07-31 19:31:00                          off                       off   \n",
       "2020-07-29 18:56:00                          off                       off   \n",
       "2020-07-30 08:10:00                          off                       off   \n",
       "\n",
       "                    cover.balcony cover.windows person.one person.two  \\\n",
       "2020-07-31 19:31:00          open          open   not_home   not_home   \n",
       "2020-07-29 18:56:00          open          open       home   not_home   \n",
       "2020-07-30 08:10:00          open          open   not_home   not_home   \n",
       "\n",
       "                     time_hour  \n",
       "2020-07-31 19:31:00         19  \n",
       "2020-07-29 18:56:00         18  \n",
       "2020-07-30 08:10:00          8  "
      ]
     },
     "execution_count": 41,
     "metadata": {},
     "output_type": "execute_result"
    }
   ],
   "source": [
    "X_train.head(3)"
   ]
  },
  {
   "cell_type": "markdown",
   "metadata": {},
   "source": [
    "Let's define a function for creating a \"outside and inside temperature difference\" feature and normalize it to the range 0.0 - 1.0"
   ]
  },
  {
   "cell_type": "code",
   "execution_count": 42,
   "metadata": {},
   "outputs": [],
   "source": [
    "def temp_diff(data):\n",
    "    new_data = data['sensor.room_temperature'] - data['sensor.weather_temperature']\n",
    "    return pd.DataFrame(new_data)\n",
    "\n",
    "temp_diff_scaled = make_pipeline(\n",
    "    FunctionTransformer(temp_diff),\n",
    "    MinMaxScaler(),\n",
    "    )"
   ]
  },
  {
   "cell_type": "markdown",
   "metadata": {},
   "source": [
    "Let's define a function for creating a \"outside and inside humidity difference\" feature and normalize it to the range 0.0 - 1.0"
   ]
  },
  {
   "cell_type": "code",
   "execution_count": 43,
   "metadata": {},
   "outputs": [],
   "source": [
    "def hum_diff(data):\n",
    "    new_data = data['sensor.room_humidity'] - data['sensor.weather_humidity']\n",
    "    return pd.DataFrame(new_data)\n",
    "\n",
    "hum_diff_scaled = make_pipeline(\n",
    "    FunctionTransformer(hum_diff),\n",
    "    MinMaxScaler(),\n",
    "    )"
   ]
  },
  {
   "cell_type": "markdown",
   "metadata": {},
   "source": [
    "Let's make pipelines for creating \"binned time\" and \"polynomial time\" features and normalize them to the range 0.0 - 1.0"
   ]
  },
  {
   "cell_type": "code",
   "execution_count": 46,
   "metadata": {},
   "outputs": [],
   "source": [
    "bin_then_encode = make_pipeline(\n",
    "    KBinsDiscretizer(n_bins=5, encode='onehot-dense', strategy='uniform'),\n",
    "    OneHotEncoder(sparse=False, handle_unknown='ignore')\n",
    ")\n",
    "\n",
    "poly_then_scale = make_pipeline(\n",
    "    PolynomialFeatures(degree=3, include_bias=False),\n",
    "    MinMaxScaler()\n",
    ")"
   ]
  },
  {
   "cell_type": "code",
   "execution_count": 49,
   "metadata": {},
   "outputs": [],
   "source": [
    "fe = ColumnTransformer([('label_encoder', OneHotEncoder(drop='if_binary'), ['binary_sensor.balcony_door',\n",
    "                                                                            'binary_sensor.room_window',\n",
    "                                                                            'cover.balcony',\n",
    "                                                                            'cover.windows',\n",
    "                                                                            'person.one',\n",
    "                                                                            'person.two']),\n",
    "                        ('scaler', MinMaxScaler(), ['sensor.atmospheric_pressure',\n",
    "                                                    'sensor.room_humidity',\n",
    "                                                    'sensor.room_temperature',\n",
    "                                                    'sensor.weather_humidity',\n",
    "                                                    'sensor.weather_temperature']),\n",
    "                        ('temp_diff_scaled', temp_diff_scaled, ['sensor.room_temperature',\n",
    "                                                                'sensor.weather_temperature']),\n",
    "                        ('hum_diff_scaled', hum_diff_scaled, ['sensor.room_humidity',\n",
    "                                                              'sensor.weather_humidity']),\n",
    "                        ('polynomial_time', poly_then_scale, ['time_hour']),\n",
    "                        ('binned_time', bin_then_encode, ['time_hour']),\n",
    "])"
   ]
  },
  {
   "cell_type": "markdown",
   "metadata": {},
   "source": [
    "We intentionaly made some collinear and excessive features - will pick up the right working combination later."
   ]
  },
  {
   "cell_type": "code",
   "execution_count": 50,
   "metadata": {},
   "outputs": [],
   "source": [
    "fe.fit(X_train)\n",
    "X_train_trans = fe.transform(X_train)"
   ]
  },
  {
   "cell_type": "code",
   "execution_count": 51,
   "metadata": {},
   "outputs": [
    {
     "data": {
      "text/plain": [
       "array([[1.        , 0.        , 1.        , 1.        , 1.        ,\n",
       "        1.        , 0.57142857, 0.00911854, 0.42647059, 0.03030303,\n",
       "        0.625     , 0.28804348, 0.6200495 , 0.82608696, 0.68241966,\n",
       "        0.56373798, 1.        , 0.        , 1.        , 0.        ,\n",
       "        1.        , 0.        , 1.        , 0.        , 0.        ,\n",
       "        1.        ],\n",
       "       [1.        , 0.        , 1.        , 1.        , 0.        ,\n",
       "        1.        , 0.57142857, 0.16413374, 0.54411765, 0.06060606,\n",
       "        0.484375  , 0.47826087, 0.65841584, 0.7826087 , 0.61247637,\n",
       "        0.47932933, 1.        , 0.        , 1.        , 0.        ,\n",
       "        1.        , 0.        , 0.        , 1.        , 1.        ,\n",
       "        0.        ],\n",
       "       [1.        , 0.        , 1.        , 1.        , 1.        ,\n",
       "        1.        , 0.76190476, 0.04863222, 0.55882353, 0.5       ,\n",
       "        0.40625   , 0.56521739, 0.25247525, 0.34782609, 0.12098299,\n",
       "        0.04208104, 1.        , 0.        , 0.        , 1.        ,\n",
       "        1.        , 0.        , 1.        , 0.        , 1.        ,\n",
       "        0.        ],\n",
       "       [1.        , 0.        , 1.        , 1.        , 1.        ,\n",
       "        1.        , 0.19047619, 0.27659574, 0.44117647, 0.1969697 ,\n",
       "        0.72395833, 0.19021739, 0.59282178, 0.56521739, 0.3194707 ,\n",
       "        0.1805704 , 1.        , 0.        , 1.        , 0.        ,\n",
       "        0.        , 1.        , 1.        , 0.        , 1.        ,\n",
       "        0.        ],\n",
       "       [1.        , 0.        , 1.        , 0.        , 0.        ,\n",
       "        0.        , 0.38095238, 0.9118541 , 0.66176471, 0.01515152,\n",
       "        0.42708333, 0.58152174, 1.        , 0.2173913 , 0.04725898,\n",
       "        0.01027369, 1.        , 0.        , 0.        , 1.        ,\n",
       "        1.        , 0.        , 1.        , 0.        , 1.        ,\n",
       "        0.        ]])"
      ]
     },
     "execution_count": 51,
     "metadata": {},
     "output_type": "execute_result"
    }
   ],
   "source": [
    "X_train_trans[:5]"
   ]
  },
  {
   "cell_type": "markdown",
   "metadata": {},
   "source": [
    "### Modelling!"
   ]
  },
  {
   "cell_type": "markdown",
   "metadata": {},
   "source": [
    "**Baseline Model**\n",
    "\n",
    "As the baseline model we would choose the \"always off\" prediction (since AC was much more often off).\n",
    "\n",
    "Let's check what would be it's accuracy:"
   ]
  },
  {
   "cell_type": "code",
   "execution_count": 52,
   "metadata": {},
   "outputs": [
    {
     "data": {
      "text/plain": [
       "0.7225582437275986"
      ]
     },
     "execution_count": 52,
     "metadata": {},
     "output_type": "execute_result"
    }
   ],
   "source": [
    "baseline_accuracy = 1 - y_train.sum() / y_train.count()\n",
    "baseline_accuracy"
   ]
  },
  {
   "cell_type": "markdown",
   "metadata": {},
   "source": [
    "# PROCEED EDITING FROM HERE"
   ]
  },
  {
   "cell_type": "markdown",
   "metadata": {},
   "source": [
    "#### LogReg"
   ]
  },
  {
   "cell_type": "code",
   "execution_count": 27,
   "metadata": {},
   "outputs": [
    {
     "data": {
      "text/plain": [
       "LogisticRegression(max_iter=1000)"
      ]
     },
     "execution_count": 27,
     "metadata": {},
     "output_type": "execute_result"
    }
   ],
   "source": [
    "model_lr = LogisticRegression(max_iter=1000)\n",
    "model_lr.fit(X_train_trans, y_train)"
   ]
  },
  {
   "cell_type": "code",
   "execution_count": 28,
   "metadata": {},
   "outputs": [
    {
     "data": {
      "text/plain": [
       "0.9036458333333334"
      ]
     },
     "execution_count": 28,
     "metadata": {},
     "output_type": "execute_result"
    }
   ],
   "source": [
    "model_lr.score(X_train_trans, y_train)"
   ]
  },
  {
   "cell_type": "markdown",
   "metadata": {},
   "source": [
    "#### LogReg/Cross-Validation"
   ]
  },
  {
   "cell_type": "code",
   "execution_count": 23,
   "metadata": {
    "scrolled": true
   },
   "outputs": [
    {
     "name": "stdout",
     "output_type": "stream",
     "text": [
      "Cross-validation scores: [0.90774185 0.90032199 0.90660879 0.89988799 0.90716886]\n"
     ]
    }
   ],
   "source": [
    "accuracy = cross_val_score(model_lr, X_train_trans, y_train, cv=5, scoring='accuracy')\n",
    "print(\"Cross-validation scores:\", accuracy)"
   ]
  },
  {
   "cell_type": "markdown",
   "metadata": {},
   "source": [
    "#### LogReg from Statsmodels"
   ]
  },
  {
   "cell_type": "code",
   "execution_count": 34,
   "metadata": {},
   "outputs": [
    {
     "name": "stdout",
     "output_type": "stream",
     "text": [
      "Optimization terminated successfully.\n",
      "         Current function value: 0.234141\n",
      "         Iterations 9\n",
      "x1     5.813031\n",
      "x2     0.351322\n",
      "x3     1.005942\n",
      "x4     0.001750\n",
      "x5   -14.333595\n",
      "x6    -1.188940\n",
      "dtype: float64\n",
      "                              Logit Regression Results                             \n",
      "===================================================================================\n",
      "Dep. Variable:     climate.air_conditioner   No. Observations:                35712\n",
      "Model:                               Logit   Df Residuals:                    35706\n",
      "Method:                                MLE   Df Model:                            5\n",
      "Date:                     Tue, 15 Dec 2020   Pseudo R-squ.:                  0.6038\n",
      "Time:                             20:55:56   Log-Likelihood:                -8361.7\n",
      "converged:                            True   LL-Null:                       -21103.\n",
      "Covariance Type:                 nonrobust   LLR p-value:                     0.000\n",
      "==============================================================================\n",
      "                 coef    std err          z      P>|z|      [0.025      0.975]\n",
      "------------------------------------------------------------------------------\n",
      "x1             5.8130      0.121     47.895      0.000       5.575       6.051\n",
      "x2             0.3513      0.064      5.511      0.000       0.226       0.476\n",
      "x3             1.0059      0.047     21.258      0.000       0.913       1.099\n",
      "x4             0.0017      0.096      0.018      0.986      -0.187       0.191\n",
      "x5           -14.3336      0.166    -86.338      0.000     -14.659     -14.008\n",
      "x6            -1.1889      0.087    -13.620      0.000      -1.360      -1.018\n",
      "==============================================================================\n"
     ]
    }
   ],
   "source": [
    "logit = sm.Logit(y_train, X_train_trans)\n",
    "f = logit.fit()\n",
    "print(f.params)\n",
    "print(f.summary())"
   ]
  },
  {
   "cell_type": "markdown",
   "metadata": {},
   "source": [
    "According to statsmodel.Logit the appearance of second person is absolutely irrelevant (it complies with what we noticed before). Let'sexclude it from our further models.\n",
    "\n",
    "Also, let's actually check other features we excluded before!"
   ]
  },
  {
   "cell_type": "code",
   "execution_count": 29,
   "metadata": {},
   "outputs": [
    {
     "data": {
      "text/plain": [
       "Index(['sensor.atmospheric_pressure', 'sensor.bathroom_humidity',\n",
       "       'sensor.bathroom_temperature', 'sensor.equipment_temperature',\n",
       "       'sensor.kitchen_humidity', 'sensor.kitchen_temperature',\n",
       "       'sensor.office_co2', 'sensor.room_humidity', 'sensor.room_temperature',\n",
       "       'sensor.weather_humidity', 'sensor.weather_temperature',\n",
       "       'binary_sensor.balcony_door', 'binary_sensor.kitchen_window',\n",
       "       'binary_sensor.room_window', 'cover.balcony', 'cover.windows',\n",
       "       'person.one', 'person.two'],\n",
       "      dtype='object')"
      ]
     },
     "execution_count": 29,
     "metadata": {},
     "output_type": "execute_result"
    }
   ],
   "source": [
    "X_train.columns"
   ]
  },
  {
   "cell_type": "code",
   "execution_count": 30,
   "metadata": {},
   "outputs": [],
   "source": [
    "fe_experimental = ColumnTransformer([\n",
    "    ('label_encoder', OneHotEncoder(drop='if_binary'), ['binary_sensor.balcony_door',\n",
    "                                                        'binary_sensor.kitchen_window',\n",
    "                                                        #'binary_sensor.room_window',\n",
    "                                                        #'cover.balcony',\n",
    "                                                        'cover.windows',\n",
    "                                                        'person.one']),\n",
    "                                                        #'person.two']),\n",
    "    ('scaler', MinMaxScaler(), [#'sensor.atmospheric_pressure',\n",
    "                                #'sensor.bathroom_temperature',\n",
    "                                #'sensor.equipment_temperature',\n",
    "                                #'sensor.kitchen_humidity',\n",
    "                                #'sensor.kitchen_temperature',\n",
    "                                #'sensor.room_humidity',\n",
    "                                'sensor.room_temperature',\n",
    "                                'sensor.weather_humidity',\n",
    "                                'sensor.weather_temperature']),\n",
    "    ('temp_diff_scaled', temp_diff_scaled, ['sensor.room_temperature', 'sensor.weather_temperature']),\n",
    "    ('hum_diff_scaled', hum_diff_scaled, ['sensor.room_humidity', 'sensor.weather_humidity']),    \n",
    "])"
   ]
  },
  {
   "cell_type": "code",
   "execution_count": 31,
   "metadata": {},
   "outputs": [],
   "source": [
    "fe_experimental.fit(X_train)\n",
    "X_train_experimental = fe_experimental.transform(X_train)"
   ]
  },
  {
   "cell_type": "code",
   "execution_count": 32,
   "metadata": {},
   "outputs": [
    {
     "data": {
      "text/plain": [
       "array([[1.        , 0.        , 1.        , 1.        , 0.42647059,\n",
       "        0.03030303, 0.625     , 0.28804348, 0.6200495 ],\n",
       "       [1.        , 0.        , 1.        , 0.        , 0.54411765,\n",
       "        0.06060606, 0.484375  , 0.47826087, 0.65841584],\n",
       "       [1.        , 0.        , 1.        , 1.        , 0.55882353,\n",
       "        0.5       , 0.40625   , 0.56521739, 0.25247525]])"
      ]
     },
     "execution_count": 32,
     "metadata": {},
     "output_type": "execute_result"
    }
   ],
   "source": [
    "X_train_experimental[:3]"
   ]
  },
  {
   "cell_type": "code",
   "execution_count": 33,
   "metadata": {},
   "outputs": [
    {
     "name": "stdout",
     "output_type": "stream",
     "text": [
      "Optimization terminated successfully.\n",
      "         Current function value: 0.188624\n",
      "         Iterations 11\n",
      "x1    7.195148\n",
      "x2   -3.473214\n",
      "x3    0.275201\n",
      "x4    0.579393\n",
      "x5   -7.684101\n",
      "x6   -4.182794\n",
      "x7    7.355507\n",
      "x8   -6.835355\n",
      "x9   -5.553464\n",
      "dtype: float64\n",
      "                              Logit Regression Results                             \n",
      "===================================================================================\n",
      "Dep. Variable:     climate.air_conditioner   No. Observations:                35712\n",
      "Model:                               Logit   Df Residuals:                    35703\n",
      "Method:                                MLE   Df Model:                            8\n",
      "Date:                     Mon, 11 Jan 2021   Pseudo R-squ.:                  0.6808\n",
      "Time:                             22:50:21   Log-Likelihood:                -6736.1\n",
      "converged:                            True   LL-Null:                       -21103.\n",
      "Covariance Type:                 nonrobust   LLR p-value:                     0.000\n",
      "==============================================================================\n",
      "                 coef    std err          z      P>|z|      [0.025      0.975]\n",
      "------------------------------------------------------------------------------\n",
      "x1             7.1951      0.341     21.127      0.000       6.528       7.863\n",
      "x2            -3.4732      0.123    -28.226      0.000      -3.714      -3.232\n",
      "x3             0.2752      0.070      3.953      0.000       0.139       0.412\n",
      "x4             0.5794      0.053     10.870      0.000       0.475       0.684\n",
      "x5            -7.6841      0.290    -26.467      0.000      -8.253      -7.115\n",
      "x6            -4.1828      0.161    -25.922      0.000      -4.499      -3.867\n",
      "x7             7.3555      0.558     13.178      0.000       6.262       8.450\n",
      "x8            -6.8354      0.516    -13.254      0.000      -7.846      -5.825\n",
      "x9            -5.5535      0.203    -27.416      0.000      -5.950      -5.156\n",
      "==============================================================================\n",
      "\n",
      "Possibly complete quasi-separation: A fraction 0.15 of observations can be\n",
      "perfectly predicted. This might indicate that there is complete\n",
      "quasi-separation. In this case some parameters will not be identified.\n"
     ]
    }
   ],
   "source": [
    "logit_experimental = sm.Logit(y_train, X_train_experimental)\n",
    "f_exp = logit_experimental.fit()\n",
    "print(f_exp.params)\n",
    "print(f_exp.summary())"
   ]
  },
  {
   "cell_type": "markdown",
   "metadata": {},
   "source": [
    "The meaning of features:\n",
    "- x1: 'binary_sensor.balcony_door',\n",
    "- x2: 'binary_sensor.kitchen_window',\n",
    "- x3: 'binary_sensor.room_window',\n",
    "- x4: 'cover.balcony',\n",
    "- x5: 'cover.windows',\n",
    "- x6: 'person.one',\n",
    "- x7: 'person.two',\n",
    "- x8: 'sensor.atmospheric_pressure'\n",
    "- x9: 'sensor.bathroom_humidity',\n",
    "- x10: 'sensor.bathroom_temperature',\n",
    "- x11: 'sensor.equipment_temperature',\n",
    "- x12: 'sensor.kitchen_humidity',\n",
    "- x13: 'sensor.kitchen_temperature',\n",
    "- x14: 'sensor.room_humidity',\n",
    "- x15: 'sensor.room_temperature',\n",
    "- x16: 'sensor.weather_humidity',\n",
    "- x17: 'sensor.weather_temperature',\n",
    "- x18: 'temp_diff_scaled',\n",
    "- x19: 'hum_diff_scaled'"
   ]
  },
  {
   "cell_type": "markdown",
   "metadata": {},
   "source": [
    "#### Let's try scikit-logreg again"
   ]
  },
  {
   "cell_type": "code",
   "execution_count": 104,
   "metadata": {},
   "outputs": [
    {
     "data": {
      "text/plain": [
       "0.91"
      ]
     },
     "execution_count": 104,
     "metadata": {},
     "output_type": "execute_result"
    }
   ],
   "source": [
    "model_lr = LogisticRegression(max_iter=1000) #, class_weight='balanced')\n",
    "model_lr.fit(X_train_experimental, y_train)\n",
    "round(model_lr.score(X_train_experimental, y_train), 3)"
   ]
  },
  {
   "cell_type": "code",
   "execution_count": 35,
   "metadata": {},
   "outputs": [
    {
     "name": "stdout",
     "output_type": "stream",
     "text": [
      "Cross-validation scores: [0.91558169 0.9052219  0.91150938 0.90380846 0.91192943]\n"
     ]
    }
   ],
   "source": [
    "#Cross-Validation?\n",
    "accuracy = cross_val_score(model_lr, X_train_experimental, y_train, cv=5, scoring='accuracy')\n",
    "print(\"Cross-validation scores:\", accuracy)"
   ]
  },
  {
   "cell_type": "markdown",
   "metadata": {},
   "source": [
    "#### Let's check how we can extract probabilities"
   ]
  },
  {
   "cell_type": "code",
   "execution_count": 105,
   "metadata": {},
   "outputs": [],
   "source": [
    "probs = model_lr.predict_proba(X_train_experimental)"
   ]
  },
  {
   "cell_type": "code",
   "execution_count": 88,
   "metadata": {},
   "outputs": [
    {
     "data": {
      "text/plain": [
       "(35712, 35712)"
      ]
     },
     "execution_count": 88,
     "metadata": {},
     "output_type": "execute_result"
    }
   ],
   "source": [
    "len(y_train), len(probs)"
   ]
  },
  {
   "cell_type": "code",
   "execution_count": 89,
   "metadata": {},
   "outputs": [
    {
     "data": {
      "text/plain": [
       "0.010662189661812538"
      ]
     },
     "execution_count": 89,
     "metadata": {},
     "output_type": "execute_result"
    }
   ],
   "source": [
    "probs[0][0]"
   ]
  },
  {
   "cell_type": "markdown",
   "metadata": {},
   "source": [
    "Ok, ok. Not only results are slightly better, that's all also make sence. So let's use \"experimental\" transformation for other models."
   ]
  },
  {
   "cell_type": "markdown",
   "metadata": {},
   "source": [
    "#### Decision Tree"
   ]
  },
  {
   "cell_type": "code",
   "execution_count": 114,
   "metadata": {},
   "outputs": [
    {
     "data": {
      "text/plain": [
       "0.967"
      ]
     },
     "execution_count": 114,
     "metadata": {},
     "output_type": "execute_result"
    }
   ],
   "source": [
    "model_ds = DecisionTreeClassifier(max_depth=8) #depth should be increased with amount of features increased\n",
    "model_ds.fit(X_train_experimental, y_train)\n",
    "round(model_ds.score(X_train_experimental, y_train), 3)"
   ]
  },
  {
   "cell_type": "code",
   "execution_count": 115,
   "metadata": {},
   "outputs": [
    {
     "name": "stdout",
     "output_type": "stream",
     "text": [
      "Cross-validation scores: [0.96598068 0.96472071 0.96513582 0.95701484 0.96261551]\n"
     ]
    }
   ],
   "source": [
    "accuracy = cross_val_score(model_ds, X_train_experimental, y_train, cv=5, scoring='accuracy')\n",
    "print(\"Cross-validation scores:\", accuracy)"
   ]
  },
  {
   "cell_type": "markdown",
   "metadata": {},
   "source": [
    "#### Random Forest"
   ]
  },
  {
   "cell_type": "code",
   "execution_count": 128,
   "metadata": {},
   "outputs": [
    {
     "data": {
      "text/plain": [
       "0.995"
      ]
     },
     "execution_count": 128,
     "metadata": {},
     "output_type": "execute_result"
    }
   ],
   "source": [
    "model_rf = RandomForestClassifier(max_depth=15, n_estimators=50, random_state=42)\n",
    "model_rf.fit(X_train_experimental, y_train)\n",
    "round(model_rf.score(X_train_experimental, y_train), 3)"
   ]
  },
  {
   "cell_type": "code",
   "execution_count": 129,
   "metadata": {},
   "outputs": [
    {
     "name": "stdout",
     "output_type": "stream",
     "text": [
      "Cross-validation scores: [0.99272015 0.99160017 0.99313918 0.99187903 0.99355923]\n"
     ]
    }
   ],
   "source": [
    "accuracy = cross_val_score(model_rf, X_train_experimental, y_train, cv=5, scoring='accuracy')\n",
    "print(\"Cross-validation scores:\", accuracy)"
   ]
  },
  {
   "cell_type": "markdown",
   "metadata": {},
   "source": [
    "#### SVC - support vector classificator"
   ]
  },
  {
   "cell_type": "code",
   "execution_count": 131,
   "metadata": {},
   "outputs": [
    {
     "data": {
      "text/plain": [
       "0.951"
      ]
     },
     "execution_count": 131,
     "metadata": {},
     "output_type": "execute_result"
    }
   ],
   "source": [
    "model_svc = SVC()\n",
    "model_svc.fit(X_train_experimental, y_train)\n",
    "round(model_svc.score(X_train_experimental, y_train), 3)"
   ]
  },
  {
   "cell_type": "code",
   "execution_count": 132,
   "metadata": {},
   "outputs": [
    {
     "name": "stdout",
     "output_type": "stream",
     "text": [
      "Cross-validation scores: [0.95086098 0.94876102 0.95309437 0.94679362 0.95057407]\n"
     ]
    }
   ],
   "source": [
    "accuracy = cross_val_score(model_svc, X_train_experimental, y_train, cv=5, scoring='accuracy')\n",
    "print(\"Cross-validation scores:\", accuracy)"
   ]
  },
  {
   "cell_type": "markdown",
   "metadata": {},
   "source": [
    "#### Gradient Boosting Classifier"
   ]
  },
  {
   "cell_type": "code",
   "execution_count": 155,
   "metadata": {},
   "outputs": [
    {
     "data": {
      "text/plain": [
       "0.994"
      ]
     },
     "execution_count": 155,
     "metadata": {},
     "output_type": "execute_result"
    }
   ],
   "source": [
    "model_gb = GradientBoostingClassifier(max_depth=4, learning_rate=0.6)\n",
    "model_gb.fit(X_train_experimental, y_train)\n",
    "round(model_gb.score(X_train_experimental, y_train), 3)"
   ]
  },
  {
   "cell_type": "code",
   "execution_count": 156,
   "metadata": {},
   "outputs": [
    {
     "name": "stdout",
     "output_type": "stream",
     "text": [
      "Cross-validation scores: [0.99174017 0.99048019 0.99075889 0.99103892 0.99271913]\n"
     ]
    }
   ],
   "source": [
    "accuracy = cross_val_score(model_gb, X_train_experimental, y_train, cv=5, scoring='accuracy')\n",
    "print(\"Cross-validation scores:\", accuracy)"
   ]
  },
  {
   "cell_type": "markdown",
   "metadata": {},
   "source": [
    "As expected, RandomForest shown the best results (GradientBoosting is also promising, but need more hyperparameters optimisations).\n",
    "\n",
    "Let's say we chosen RandomForest"
   ]
  },
  {
   "cell_type": "markdown",
   "metadata": {},
   "source": [
    "### Testing!!!"
   ]
  },
  {
   "cell_type": "code",
   "execution_count": 136,
   "metadata": {},
   "outputs": [],
   "source": [
    "#transforming y_test\n",
    "y_test_trans = y_test.replace({'cool':1, 'dry':0, 'fan_only':0, 'off':0}, inplace=True)"
   ]
  },
  {
   "cell_type": "code",
   "execution_count": 137,
   "metadata": {},
   "outputs": [],
   "source": [
    "#transforming X_test\n",
    "X_test_trans = fe_experimental.transform(X_test)"
   ]
  },
  {
   "cell_type": "code",
   "execution_count": 138,
   "metadata": {
    "scrolled": true
   },
   "outputs": [
    {
     "data": {
      "text/plain": [
       "0.993"
      ]
     },
     "execution_count": 138,
     "metadata": {},
     "output_type": "execute_result"
    }
   ],
   "source": [
    "round(model_rf.score(X_test_trans, y_test), 3)"
   ]
  },
  {
   "cell_type": "markdown",
   "metadata": {},
   "source": [
    "# WHAT'S NEXT?\n",
    "\n",
    "- build a column with the data about how long ago AC was turned on/off\n",
    "- look on dependancy of prediction probability (LogReg) on this delay\n",
    "- use this information on Regression problem\n",
    "- split the data for Regression model\n",
    "- build and train Regression model"
   ]
  },
  {
   "cell_type": "markdown",
   "metadata": {},
   "source": [
    "# <font color='orange'>Let's catch the tail</font>"
   ]
  },
  {
   "cell_type": "code",
   "execution_count": 37,
   "metadata": {},
   "outputs": [
    {
     "data": {
      "text/html": [
       "<div>\n",
       "<style scoped>\n",
       "    .dataframe tbody tr th:only-of-type {\n",
       "        vertical-align: middle;\n",
       "    }\n",
       "\n",
       "    .dataframe tbody tr th {\n",
       "        vertical-align: top;\n",
       "    }\n",
       "\n",
       "    .dataframe thead th {\n",
       "        text-align: right;\n",
       "    }\n",
       "</style>\n",
       "<table border=\"1\" class=\"dataframe\">\n",
       "  <thead>\n",
       "    <tr style=\"text-align: right;\">\n",
       "      <th></th>\n",
       "      <th>sensor.ac_power</th>\n",
       "      <th>sensor.atmospheric_pressure</th>\n",
       "      <th>sensor.bathroom_humidity</th>\n",
       "      <th>sensor.bathroom_temperature</th>\n",
       "      <th>sensor.equipment_temperature</th>\n",
       "      <th>sensor.kitchen_humidity</th>\n",
       "      <th>sensor.kitchen_temperature</th>\n",
       "      <th>sensor.office_co2</th>\n",
       "      <th>sensor.room_humidity</th>\n",
       "      <th>sensor.room_temperature</th>\n",
       "      <th>sensor.weather_humidity</th>\n",
       "      <th>sensor.weather_temperature</th>\n",
       "      <th>binary_sensor.balcony_door</th>\n",
       "      <th>binary_sensor.kitchen_window</th>\n",
       "      <th>binary_sensor.room_window</th>\n",
       "      <th>climate.air_conditioner</th>\n",
       "      <th>cover.balcony</th>\n",
       "      <th>cover.windows</th>\n",
       "      <th>person.one</th>\n",
       "      <th>person.two</th>\n",
       "    </tr>\n",
       "  </thead>\n",
       "  <tbody>\n",
       "    <tr>\n",
       "      <th>2020-07-01 00:00:00</th>\n",
       "      <td>1.0</td>\n",
       "      <td>1004.0</td>\n",
       "      <td>42.0</td>\n",
       "      <td>24.5</td>\n",
       "      <td>29.7</td>\n",
       "      <td>39.5</td>\n",
       "      <td>23.8</td>\n",
       "      <td>NaN</td>\n",
       "      <td>38.3</td>\n",
       "      <td>22.6</td>\n",
       "      <td>52.0</td>\n",
       "      <td>18.7</td>\n",
       "      <td>on</td>\n",
       "      <td>off</td>\n",
       "      <td>off</td>\n",
       "      <td>off</td>\n",
       "      <td>open</td>\n",
       "      <td>open</td>\n",
       "      <td>not_home</td>\n",
       "      <td>not_home</td>\n",
       "    </tr>\n",
       "    <tr>\n",
       "      <th>2020-07-01 00:01:00</th>\n",
       "      <td>1.0</td>\n",
       "      <td>1004.0</td>\n",
       "      <td>42.0</td>\n",
       "      <td>24.5</td>\n",
       "      <td>29.7</td>\n",
       "      <td>39.5</td>\n",
       "      <td>23.8</td>\n",
       "      <td>NaN</td>\n",
       "      <td>38.3</td>\n",
       "      <td>22.6</td>\n",
       "      <td>52.0</td>\n",
       "      <td>18.7</td>\n",
       "      <td>on</td>\n",
       "      <td>off</td>\n",
       "      <td>off</td>\n",
       "      <td>off</td>\n",
       "      <td>open</td>\n",
       "      <td>open</td>\n",
       "      <td>not_home</td>\n",
       "      <td>not_home</td>\n",
       "    </tr>\n",
       "    <tr>\n",
       "      <th>2020-07-01 00:02:00</th>\n",
       "      <td>1.0</td>\n",
       "      <td>1004.0</td>\n",
       "      <td>42.0</td>\n",
       "      <td>24.5</td>\n",
       "      <td>29.7</td>\n",
       "      <td>39.5</td>\n",
       "      <td>23.8</td>\n",
       "      <td>NaN</td>\n",
       "      <td>38.3</td>\n",
       "      <td>22.6</td>\n",
       "      <td>52.0</td>\n",
       "      <td>18.7</td>\n",
       "      <td>on</td>\n",
       "      <td>off</td>\n",
       "      <td>off</td>\n",
       "      <td>off</td>\n",
       "      <td>open</td>\n",
       "      <td>open</td>\n",
       "      <td>not_home</td>\n",
       "      <td>not_home</td>\n",
       "    </tr>\n",
       "    <tr>\n",
       "      <th>2020-07-01 00:03:00</th>\n",
       "      <td>1.0</td>\n",
       "      <td>1004.0</td>\n",
       "      <td>42.0</td>\n",
       "      <td>24.5</td>\n",
       "      <td>29.7</td>\n",
       "      <td>39.5</td>\n",
       "      <td>23.8</td>\n",
       "      <td>NaN</td>\n",
       "      <td>38.3</td>\n",
       "      <td>22.6</td>\n",
       "      <td>52.0</td>\n",
       "      <td>18.9</td>\n",
       "      <td>on</td>\n",
       "      <td>off</td>\n",
       "      <td>off</td>\n",
       "      <td>off</td>\n",
       "      <td>open</td>\n",
       "      <td>open</td>\n",
       "      <td>not_home</td>\n",
       "      <td>not_home</td>\n",
       "    </tr>\n",
       "    <tr>\n",
       "      <th>2020-07-01 00:04:00</th>\n",
       "      <td>1.0</td>\n",
       "      <td>1004.0</td>\n",
       "      <td>42.0</td>\n",
       "      <td>24.5</td>\n",
       "      <td>29.7</td>\n",
       "      <td>39.5</td>\n",
       "      <td>23.8</td>\n",
       "      <td>NaN</td>\n",
       "      <td>38.3</td>\n",
       "      <td>22.6</td>\n",
       "      <td>52.0</td>\n",
       "      <td>18.9</td>\n",
       "      <td>on</td>\n",
       "      <td>off</td>\n",
       "      <td>off</td>\n",
       "      <td>off</td>\n",
       "      <td>open</td>\n",
       "      <td>open</td>\n",
       "      <td>not_home</td>\n",
       "      <td>not_home</td>\n",
       "    </tr>\n",
       "  </tbody>\n",
       "</table>\n",
       "</div>"
      ],
      "text/plain": [
       "                     sensor.ac_power  sensor.atmospheric_pressure  \\\n",
       "2020-07-01 00:00:00              1.0                       1004.0   \n",
       "2020-07-01 00:01:00              1.0                       1004.0   \n",
       "2020-07-01 00:02:00              1.0                       1004.0   \n",
       "2020-07-01 00:03:00              1.0                       1004.0   \n",
       "2020-07-01 00:04:00              1.0                       1004.0   \n",
       "\n",
       "                     sensor.bathroom_humidity  sensor.bathroom_temperature  \\\n",
       "2020-07-01 00:00:00                      42.0                         24.5   \n",
       "2020-07-01 00:01:00                      42.0                         24.5   \n",
       "2020-07-01 00:02:00                      42.0                         24.5   \n",
       "2020-07-01 00:03:00                      42.0                         24.5   \n",
       "2020-07-01 00:04:00                      42.0                         24.5   \n",
       "\n",
       "                     sensor.equipment_temperature  sensor.kitchen_humidity  \\\n",
       "2020-07-01 00:00:00                          29.7                     39.5   \n",
       "2020-07-01 00:01:00                          29.7                     39.5   \n",
       "2020-07-01 00:02:00                          29.7                     39.5   \n",
       "2020-07-01 00:03:00                          29.7                     39.5   \n",
       "2020-07-01 00:04:00                          29.7                     39.5   \n",
       "\n",
       "                     sensor.kitchen_temperature  sensor.office_co2  \\\n",
       "2020-07-01 00:00:00                        23.8                NaN   \n",
       "2020-07-01 00:01:00                        23.8                NaN   \n",
       "2020-07-01 00:02:00                        23.8                NaN   \n",
       "2020-07-01 00:03:00                        23.8                NaN   \n",
       "2020-07-01 00:04:00                        23.8                NaN   \n",
       "\n",
       "                     sensor.room_humidity  sensor.room_temperature  \\\n",
       "2020-07-01 00:00:00                  38.3                     22.6   \n",
       "2020-07-01 00:01:00                  38.3                     22.6   \n",
       "2020-07-01 00:02:00                  38.3                     22.6   \n",
       "2020-07-01 00:03:00                  38.3                     22.6   \n",
       "2020-07-01 00:04:00                  38.3                     22.6   \n",
       "\n",
       "                     sensor.weather_humidity  sensor.weather_temperature  \\\n",
       "2020-07-01 00:00:00                     52.0                        18.7   \n",
       "2020-07-01 00:01:00                     52.0                        18.7   \n",
       "2020-07-01 00:02:00                     52.0                        18.7   \n",
       "2020-07-01 00:03:00                     52.0                        18.9   \n",
       "2020-07-01 00:04:00                     52.0                        18.9   \n",
       "\n",
       "                    binary_sensor.balcony_door binary_sensor.kitchen_window  \\\n",
       "2020-07-01 00:00:00                         on                          off   \n",
       "2020-07-01 00:01:00                         on                          off   \n",
       "2020-07-01 00:02:00                         on                          off   \n",
       "2020-07-01 00:03:00                         on                          off   \n",
       "2020-07-01 00:04:00                         on                          off   \n",
       "\n",
       "                    binary_sensor.room_window climate.air_conditioner  \\\n",
       "2020-07-01 00:00:00                       off                     off   \n",
       "2020-07-01 00:01:00                       off                     off   \n",
       "2020-07-01 00:02:00                       off                     off   \n",
       "2020-07-01 00:03:00                       off                     off   \n",
       "2020-07-01 00:04:00                       off                     off   \n",
       "\n",
       "                    cover.balcony cover.windows person.one person.two  \n",
       "2020-07-01 00:00:00          open          open   not_home   not_home  \n",
       "2020-07-01 00:01:00          open          open   not_home   not_home  \n",
       "2020-07-01 00:02:00          open          open   not_home   not_home  \n",
       "2020-07-01 00:03:00          open          open   not_home   not_home  \n",
       "2020-07-01 00:04:00          open          open   not_home   not_home  "
      ]
     },
     "execution_count": 37,
     "metadata": {},
     "output_type": "execute_result"
    }
   ],
   "source": [
    "df.head()"
   ]
  },
  {
   "cell_type": "code",
   "execution_count": 38,
   "metadata": {},
   "outputs": [
    {
     "data": {
      "text/plain": [
       "array(['off', 'cool', 'fan_only', 'dry'], dtype=object)"
      ]
     },
     "execution_count": 38,
     "metadata": {},
     "output_type": "execute_result"
    }
   ],
   "source": [
    "df['climate.air_conditioner'].unique()"
   ]
  },
  {
   "cell_type": "code",
   "execution_count": 39,
   "metadata": {},
   "outputs": [],
   "source": [
    "df['ac_on'] = df['climate.air_conditioner'].replace({'cool':1, 'dry':0, 'fan_only':0, 'off':0})"
   ]
  },
  {
   "cell_type": "code",
   "execution_count": 40,
   "metadata": {},
   "outputs": [
    {
     "data": {
      "text/html": [
       "<div>\n",
       "<style scoped>\n",
       "    .dataframe tbody tr th:only-of-type {\n",
       "        vertical-align: middle;\n",
       "    }\n",
       "\n",
       "    .dataframe tbody tr th {\n",
       "        vertical-align: top;\n",
       "    }\n",
       "\n",
       "    .dataframe thead th {\n",
       "        text-align: right;\n",
       "    }\n",
       "</style>\n",
       "<table border=\"1\" class=\"dataframe\">\n",
       "  <thead>\n",
       "    <tr style=\"text-align: right;\">\n",
       "      <th></th>\n",
       "      <th>sensor.ac_power</th>\n",
       "      <th>sensor.atmospheric_pressure</th>\n",
       "      <th>sensor.bathroom_humidity</th>\n",
       "      <th>sensor.bathroom_temperature</th>\n",
       "      <th>sensor.equipment_temperature</th>\n",
       "      <th>sensor.kitchen_humidity</th>\n",
       "      <th>sensor.kitchen_temperature</th>\n",
       "      <th>sensor.office_co2</th>\n",
       "      <th>sensor.room_humidity</th>\n",
       "      <th>sensor.room_temperature</th>\n",
       "      <th>...</th>\n",
       "      <th>sensor.weather_temperature</th>\n",
       "      <th>binary_sensor.balcony_door</th>\n",
       "      <th>binary_sensor.kitchen_window</th>\n",
       "      <th>binary_sensor.room_window</th>\n",
       "      <th>climate.air_conditioner</th>\n",
       "      <th>cover.balcony</th>\n",
       "      <th>cover.windows</th>\n",
       "      <th>person.one</th>\n",
       "      <th>person.two</th>\n",
       "      <th>ac_on</th>\n",
       "    </tr>\n",
       "  </thead>\n",
       "  <tbody>\n",
       "    <tr>\n",
       "      <th>2020-07-01 00:00:00</th>\n",
       "      <td>1.0</td>\n",
       "      <td>1004.0</td>\n",
       "      <td>42.0</td>\n",
       "      <td>24.5</td>\n",
       "      <td>29.7</td>\n",
       "      <td>39.5</td>\n",
       "      <td>23.8</td>\n",
       "      <td>NaN</td>\n",
       "      <td>38.3</td>\n",
       "      <td>22.6</td>\n",
       "      <td>...</td>\n",
       "      <td>18.7</td>\n",
       "      <td>on</td>\n",
       "      <td>off</td>\n",
       "      <td>off</td>\n",
       "      <td>off</td>\n",
       "      <td>open</td>\n",
       "      <td>open</td>\n",
       "      <td>not_home</td>\n",
       "      <td>not_home</td>\n",
       "      <td>0</td>\n",
       "    </tr>\n",
       "    <tr>\n",
       "      <th>2020-07-01 00:01:00</th>\n",
       "      <td>1.0</td>\n",
       "      <td>1004.0</td>\n",
       "      <td>42.0</td>\n",
       "      <td>24.5</td>\n",
       "      <td>29.7</td>\n",
       "      <td>39.5</td>\n",
       "      <td>23.8</td>\n",
       "      <td>NaN</td>\n",
       "      <td>38.3</td>\n",
       "      <td>22.6</td>\n",
       "      <td>...</td>\n",
       "      <td>18.7</td>\n",
       "      <td>on</td>\n",
       "      <td>off</td>\n",
       "      <td>off</td>\n",
       "      <td>off</td>\n",
       "      <td>open</td>\n",
       "      <td>open</td>\n",
       "      <td>not_home</td>\n",
       "      <td>not_home</td>\n",
       "      <td>0</td>\n",
       "    </tr>\n",
       "    <tr>\n",
       "      <th>2020-07-01 00:02:00</th>\n",
       "      <td>1.0</td>\n",
       "      <td>1004.0</td>\n",
       "      <td>42.0</td>\n",
       "      <td>24.5</td>\n",
       "      <td>29.7</td>\n",
       "      <td>39.5</td>\n",
       "      <td>23.8</td>\n",
       "      <td>NaN</td>\n",
       "      <td>38.3</td>\n",
       "      <td>22.6</td>\n",
       "      <td>...</td>\n",
       "      <td>18.7</td>\n",
       "      <td>on</td>\n",
       "      <td>off</td>\n",
       "      <td>off</td>\n",
       "      <td>off</td>\n",
       "      <td>open</td>\n",
       "      <td>open</td>\n",
       "      <td>not_home</td>\n",
       "      <td>not_home</td>\n",
       "      <td>0</td>\n",
       "    </tr>\n",
       "    <tr>\n",
       "      <th>2020-07-01 00:03:00</th>\n",
       "      <td>1.0</td>\n",
       "      <td>1004.0</td>\n",
       "      <td>42.0</td>\n",
       "      <td>24.5</td>\n",
       "      <td>29.7</td>\n",
       "      <td>39.5</td>\n",
       "      <td>23.8</td>\n",
       "      <td>NaN</td>\n",
       "      <td>38.3</td>\n",
       "      <td>22.6</td>\n",
       "      <td>...</td>\n",
       "      <td>18.9</td>\n",
       "      <td>on</td>\n",
       "      <td>off</td>\n",
       "      <td>off</td>\n",
       "      <td>off</td>\n",
       "      <td>open</td>\n",
       "      <td>open</td>\n",
       "      <td>not_home</td>\n",
       "      <td>not_home</td>\n",
       "      <td>0</td>\n",
       "    </tr>\n",
       "    <tr>\n",
       "      <th>2020-07-01 00:04:00</th>\n",
       "      <td>1.0</td>\n",
       "      <td>1004.0</td>\n",
       "      <td>42.0</td>\n",
       "      <td>24.5</td>\n",
       "      <td>29.7</td>\n",
       "      <td>39.5</td>\n",
       "      <td>23.8</td>\n",
       "      <td>NaN</td>\n",
       "      <td>38.3</td>\n",
       "      <td>22.6</td>\n",
       "      <td>...</td>\n",
       "      <td>18.9</td>\n",
       "      <td>on</td>\n",
       "      <td>off</td>\n",
       "      <td>off</td>\n",
       "      <td>off</td>\n",
       "      <td>open</td>\n",
       "      <td>open</td>\n",
       "      <td>not_home</td>\n",
       "      <td>not_home</td>\n",
       "      <td>0</td>\n",
       "    </tr>\n",
       "  </tbody>\n",
       "</table>\n",
       "<p>5 rows × 21 columns</p>\n",
       "</div>"
      ],
      "text/plain": [
       "                     sensor.ac_power  sensor.atmospheric_pressure  \\\n",
       "2020-07-01 00:00:00              1.0                       1004.0   \n",
       "2020-07-01 00:01:00              1.0                       1004.0   \n",
       "2020-07-01 00:02:00              1.0                       1004.0   \n",
       "2020-07-01 00:03:00              1.0                       1004.0   \n",
       "2020-07-01 00:04:00              1.0                       1004.0   \n",
       "\n",
       "                     sensor.bathroom_humidity  sensor.bathroom_temperature  \\\n",
       "2020-07-01 00:00:00                      42.0                         24.5   \n",
       "2020-07-01 00:01:00                      42.0                         24.5   \n",
       "2020-07-01 00:02:00                      42.0                         24.5   \n",
       "2020-07-01 00:03:00                      42.0                         24.5   \n",
       "2020-07-01 00:04:00                      42.0                         24.5   \n",
       "\n",
       "                     sensor.equipment_temperature  sensor.kitchen_humidity  \\\n",
       "2020-07-01 00:00:00                          29.7                     39.5   \n",
       "2020-07-01 00:01:00                          29.7                     39.5   \n",
       "2020-07-01 00:02:00                          29.7                     39.5   \n",
       "2020-07-01 00:03:00                          29.7                     39.5   \n",
       "2020-07-01 00:04:00                          29.7                     39.5   \n",
       "\n",
       "                     sensor.kitchen_temperature  sensor.office_co2  \\\n",
       "2020-07-01 00:00:00                        23.8                NaN   \n",
       "2020-07-01 00:01:00                        23.8                NaN   \n",
       "2020-07-01 00:02:00                        23.8                NaN   \n",
       "2020-07-01 00:03:00                        23.8                NaN   \n",
       "2020-07-01 00:04:00                        23.8                NaN   \n",
       "\n",
       "                     sensor.room_humidity  sensor.room_temperature  ...  \\\n",
       "2020-07-01 00:00:00                  38.3                     22.6  ...   \n",
       "2020-07-01 00:01:00                  38.3                     22.6  ...   \n",
       "2020-07-01 00:02:00                  38.3                     22.6  ...   \n",
       "2020-07-01 00:03:00                  38.3                     22.6  ...   \n",
       "2020-07-01 00:04:00                  38.3                     22.6  ...   \n",
       "\n",
       "                     sensor.weather_temperature  binary_sensor.balcony_door  \\\n",
       "2020-07-01 00:00:00                        18.7                          on   \n",
       "2020-07-01 00:01:00                        18.7                          on   \n",
       "2020-07-01 00:02:00                        18.7                          on   \n",
       "2020-07-01 00:03:00                        18.9                          on   \n",
       "2020-07-01 00:04:00                        18.9                          on   \n",
       "\n",
       "                    binary_sensor.kitchen_window binary_sensor.room_window  \\\n",
       "2020-07-01 00:00:00                          off                       off   \n",
       "2020-07-01 00:01:00                          off                       off   \n",
       "2020-07-01 00:02:00                          off                       off   \n",
       "2020-07-01 00:03:00                          off                       off   \n",
       "2020-07-01 00:04:00                          off                       off   \n",
       "\n",
       "                    climate.air_conditioner cover.balcony cover.windows  \\\n",
       "2020-07-01 00:00:00                     off          open          open   \n",
       "2020-07-01 00:01:00                     off          open          open   \n",
       "2020-07-01 00:02:00                     off          open          open   \n",
       "2020-07-01 00:03:00                     off          open          open   \n",
       "2020-07-01 00:04:00                     off          open          open   \n",
       "\n",
       "                    person.one person.two ac_on  \n",
       "2020-07-01 00:00:00   not_home   not_home     0  \n",
       "2020-07-01 00:01:00   not_home   not_home     0  \n",
       "2020-07-01 00:02:00   not_home   not_home     0  \n",
       "2020-07-01 00:03:00   not_home   not_home     0  \n",
       "2020-07-01 00:04:00   not_home   not_home     0  \n",
       "\n",
       "[5 rows x 21 columns]"
      ]
     },
     "execution_count": 40,
     "metadata": {},
     "output_type": "execute_result"
    }
   ],
   "source": [
    "df.head()"
   ]
  },
  {
   "cell_type": "code",
   "execution_count": 41,
   "metadata": {},
   "outputs": [
    {
     "data": {
      "text/plain": [
       "44640"
      ]
     },
     "execution_count": 41,
     "metadata": {},
     "output_type": "execute_result"
    }
   ],
   "source": [
    "len(df['ac_on'])"
   ]
  },
  {
   "cell_type": "code",
   "execution_count": 42,
   "metadata": {},
   "outputs": [],
   "source": [
    "df['ac_on_time'] = 0"
   ]
  },
  {
   "cell_type": "code",
   "execution_count": 43,
   "metadata": {},
   "outputs": [
    {
     "name": "stderr",
     "output_type": "stream",
     "text": [
      "<ipython-input-43-3956d6b6bca5>:7: SettingWithCopyWarning: \n",
      "A value is trying to be set on a copy of a slice from a DataFrame\n",
      "\n",
      "See the caveats in the documentation: https://pandas.pydata.org/pandas-docs/stable/user_guide/indexing.html#returning-a-view-versus-a-copy\n",
      "  df['ac_on_time'][row] = time_on\n"
     ]
    }
   ],
   "source": [
    "time_on = 0\n",
    "for row in range(len(df['ac_on'])):\n",
    "    if df['ac_on'][row] == 0:\n",
    "        time_on = 0\n",
    "    else:\n",
    "        time_on += 1\n",
    "        df['ac_on_time'][row] = time_on\n",
    "        "
   ]
  },
  {
   "cell_type": "code",
   "execution_count": 44,
   "metadata": {},
   "outputs": [
    {
     "data": {
      "text/html": [
       "<div>\n",
       "<style scoped>\n",
       "    .dataframe tbody tr th:only-of-type {\n",
       "        vertical-align: middle;\n",
       "    }\n",
       "\n",
       "    .dataframe tbody tr th {\n",
       "        vertical-align: top;\n",
       "    }\n",
       "\n",
       "    .dataframe thead th {\n",
       "        text-align: right;\n",
       "    }\n",
       "</style>\n",
       "<table border=\"1\" class=\"dataframe\">\n",
       "  <thead>\n",
       "    <tr style=\"text-align: right;\">\n",
       "      <th></th>\n",
       "      <th>ac_on</th>\n",
       "      <th>ac_on_time</th>\n",
       "    </tr>\n",
       "  </thead>\n",
       "  <tbody>\n",
       "    <tr>\n",
       "      <th>2020-07-01 05:20:00</th>\n",
       "      <td>0</td>\n",
       "      <td>0</td>\n",
       "    </tr>\n",
       "    <tr>\n",
       "      <th>2020-07-01 05:21:00</th>\n",
       "      <td>0</td>\n",
       "      <td>0</td>\n",
       "    </tr>\n",
       "    <tr>\n",
       "      <th>2020-07-01 05:22:00</th>\n",
       "      <td>0</td>\n",
       "      <td>0</td>\n",
       "    </tr>\n",
       "    <tr>\n",
       "      <th>2020-07-01 05:23:00</th>\n",
       "      <td>0</td>\n",
       "      <td>0</td>\n",
       "    </tr>\n",
       "    <tr>\n",
       "      <th>2020-07-01 05:24:00</th>\n",
       "      <td>0</td>\n",
       "      <td>0</td>\n",
       "    </tr>\n",
       "    <tr>\n",
       "      <th>2020-07-01 05:25:00</th>\n",
       "      <td>0</td>\n",
       "      <td>0</td>\n",
       "    </tr>\n",
       "    <tr>\n",
       "      <th>2020-07-01 05:26:00</th>\n",
       "      <td>0</td>\n",
       "      <td>0</td>\n",
       "    </tr>\n",
       "    <tr>\n",
       "      <th>2020-07-01 05:27:00</th>\n",
       "      <td>0</td>\n",
       "      <td>0</td>\n",
       "    </tr>\n",
       "    <tr>\n",
       "      <th>2020-07-01 05:28:00</th>\n",
       "      <td>0</td>\n",
       "      <td>0</td>\n",
       "    </tr>\n",
       "    <tr>\n",
       "      <th>2020-07-01 05:29:00</th>\n",
       "      <td>0</td>\n",
       "      <td>0</td>\n",
       "    </tr>\n",
       "    <tr>\n",
       "      <th>2020-07-01 05:30:00</th>\n",
       "      <td>0</td>\n",
       "      <td>0</td>\n",
       "    </tr>\n",
       "    <tr>\n",
       "      <th>2020-07-01 05:31:00</th>\n",
       "      <td>0</td>\n",
       "      <td>0</td>\n",
       "    </tr>\n",
       "    <tr>\n",
       "      <th>2020-07-01 05:32:00</th>\n",
       "      <td>0</td>\n",
       "      <td>0</td>\n",
       "    </tr>\n",
       "    <tr>\n",
       "      <th>2020-07-01 05:33:00</th>\n",
       "      <td>0</td>\n",
       "      <td>0</td>\n",
       "    </tr>\n",
       "    <tr>\n",
       "      <th>2020-07-01 05:34:00</th>\n",
       "      <td>0</td>\n",
       "      <td>0</td>\n",
       "    </tr>\n",
       "    <tr>\n",
       "      <th>2020-07-01 05:35:00</th>\n",
       "      <td>0</td>\n",
       "      <td>0</td>\n",
       "    </tr>\n",
       "    <tr>\n",
       "      <th>2020-07-01 05:36:00</th>\n",
       "      <td>1</td>\n",
       "      <td>1</td>\n",
       "    </tr>\n",
       "    <tr>\n",
       "      <th>2020-07-01 05:37:00</th>\n",
       "      <td>1</td>\n",
       "      <td>2</td>\n",
       "    </tr>\n",
       "    <tr>\n",
       "      <th>2020-07-01 05:38:00</th>\n",
       "      <td>1</td>\n",
       "      <td>3</td>\n",
       "    </tr>\n",
       "    <tr>\n",
       "      <th>2020-07-01 05:39:00</th>\n",
       "      <td>1</td>\n",
       "      <td>4</td>\n",
       "    </tr>\n",
       "  </tbody>\n",
       "</table>\n",
       "</div>"
      ],
      "text/plain": [
       "                     ac_on  ac_on_time\n",
       "2020-07-01 05:20:00      0           0\n",
       "2020-07-01 05:21:00      0           0\n",
       "2020-07-01 05:22:00      0           0\n",
       "2020-07-01 05:23:00      0           0\n",
       "2020-07-01 05:24:00      0           0\n",
       "2020-07-01 05:25:00      0           0\n",
       "2020-07-01 05:26:00      0           0\n",
       "2020-07-01 05:27:00      0           0\n",
       "2020-07-01 05:28:00      0           0\n",
       "2020-07-01 05:29:00      0           0\n",
       "2020-07-01 05:30:00      0           0\n",
       "2020-07-01 05:31:00      0           0\n",
       "2020-07-01 05:32:00      0           0\n",
       "2020-07-01 05:33:00      0           0\n",
       "2020-07-01 05:34:00      0           0\n",
       "2020-07-01 05:35:00      0           0\n",
       "2020-07-01 05:36:00      1           1\n",
       "2020-07-01 05:37:00      1           2\n",
       "2020-07-01 05:38:00      1           3\n",
       "2020-07-01 05:39:00      1           4"
      ]
     },
     "execution_count": 44,
     "metadata": {},
     "output_type": "execute_result"
    }
   ],
   "source": [
    "df[['ac_on', 'ac_on_time']][320:340]"
   ]
  },
  {
   "cell_type": "markdown",
   "metadata": {},
   "source": [
    "#### Repeat for 'ac_off'"
   ]
  },
  {
   "cell_type": "code",
   "execution_count": 45,
   "metadata": {},
   "outputs": [
    {
     "name": "stderr",
     "output_type": "stream",
     "text": [
      "<ipython-input-45-c1596258e8ed>:9: SettingWithCopyWarning: \n",
      "A value is trying to be set on a copy of a slice from a DataFrame\n",
      "\n",
      "See the caveats in the documentation: https://pandas.pydata.org/pandas-docs/stable/user_guide/indexing.html#returning-a-view-versus-a-copy\n",
      "  df['ac_off_time'][row] = time_off\n"
     ]
    }
   ],
   "source": [
    "df['ac_off'] = df['climate.air_conditioner'].replace({'cool':0, 'dry':1, 'fan_only':1, 'off':1})\n",
    "df['ac_off_time'] = 0\n",
    "time_off = 0\n",
    "for row in range(len(df['ac_off'])):\n",
    "    if df['ac_off'][row] == 0:\n",
    "        time_off = 0\n",
    "    else:\n",
    "        time_off += 1\n",
    "        df['ac_off_time'][row] = time_off"
   ]
  },
  {
   "cell_type": "code",
   "execution_count": 46,
   "metadata": {},
   "outputs": [
    {
     "data": {
      "text/html": [
       "<div>\n",
       "<style scoped>\n",
       "    .dataframe tbody tr th:only-of-type {\n",
       "        vertical-align: middle;\n",
       "    }\n",
       "\n",
       "    .dataframe tbody tr th {\n",
       "        vertical-align: top;\n",
       "    }\n",
       "\n",
       "    .dataframe thead th {\n",
       "        text-align: right;\n",
       "    }\n",
       "</style>\n",
       "<table border=\"1\" class=\"dataframe\">\n",
       "  <thead>\n",
       "    <tr style=\"text-align: right;\">\n",
       "      <th></th>\n",
       "      <th>ac_on</th>\n",
       "      <th>ac_on_time</th>\n",
       "      <th>ac_off</th>\n",
       "      <th>ac_off_time</th>\n",
       "    </tr>\n",
       "  </thead>\n",
       "  <tbody>\n",
       "    <tr>\n",
       "      <th>2020-07-01 05:20:00</th>\n",
       "      <td>0</td>\n",
       "      <td>0</td>\n",
       "      <td>1</td>\n",
       "      <td>321</td>\n",
       "    </tr>\n",
       "    <tr>\n",
       "      <th>2020-07-01 05:21:00</th>\n",
       "      <td>0</td>\n",
       "      <td>0</td>\n",
       "      <td>1</td>\n",
       "      <td>322</td>\n",
       "    </tr>\n",
       "    <tr>\n",
       "      <th>2020-07-01 05:22:00</th>\n",
       "      <td>0</td>\n",
       "      <td>0</td>\n",
       "      <td>1</td>\n",
       "      <td>323</td>\n",
       "    </tr>\n",
       "    <tr>\n",
       "      <th>2020-07-01 05:23:00</th>\n",
       "      <td>0</td>\n",
       "      <td>0</td>\n",
       "      <td>1</td>\n",
       "      <td>324</td>\n",
       "    </tr>\n",
       "    <tr>\n",
       "      <th>2020-07-01 05:24:00</th>\n",
       "      <td>0</td>\n",
       "      <td>0</td>\n",
       "      <td>1</td>\n",
       "      <td>325</td>\n",
       "    </tr>\n",
       "    <tr>\n",
       "      <th>2020-07-01 05:25:00</th>\n",
       "      <td>0</td>\n",
       "      <td>0</td>\n",
       "      <td>1</td>\n",
       "      <td>326</td>\n",
       "    </tr>\n",
       "    <tr>\n",
       "      <th>2020-07-01 05:26:00</th>\n",
       "      <td>0</td>\n",
       "      <td>0</td>\n",
       "      <td>1</td>\n",
       "      <td>327</td>\n",
       "    </tr>\n",
       "    <tr>\n",
       "      <th>2020-07-01 05:27:00</th>\n",
       "      <td>0</td>\n",
       "      <td>0</td>\n",
       "      <td>1</td>\n",
       "      <td>328</td>\n",
       "    </tr>\n",
       "    <tr>\n",
       "      <th>2020-07-01 05:28:00</th>\n",
       "      <td>0</td>\n",
       "      <td>0</td>\n",
       "      <td>1</td>\n",
       "      <td>329</td>\n",
       "    </tr>\n",
       "    <tr>\n",
       "      <th>2020-07-01 05:29:00</th>\n",
       "      <td>0</td>\n",
       "      <td>0</td>\n",
       "      <td>1</td>\n",
       "      <td>330</td>\n",
       "    </tr>\n",
       "    <tr>\n",
       "      <th>2020-07-01 05:30:00</th>\n",
       "      <td>0</td>\n",
       "      <td>0</td>\n",
       "      <td>1</td>\n",
       "      <td>331</td>\n",
       "    </tr>\n",
       "    <tr>\n",
       "      <th>2020-07-01 05:31:00</th>\n",
       "      <td>0</td>\n",
       "      <td>0</td>\n",
       "      <td>1</td>\n",
       "      <td>332</td>\n",
       "    </tr>\n",
       "    <tr>\n",
       "      <th>2020-07-01 05:32:00</th>\n",
       "      <td>0</td>\n",
       "      <td>0</td>\n",
       "      <td>1</td>\n",
       "      <td>333</td>\n",
       "    </tr>\n",
       "    <tr>\n",
       "      <th>2020-07-01 05:33:00</th>\n",
       "      <td>0</td>\n",
       "      <td>0</td>\n",
       "      <td>1</td>\n",
       "      <td>334</td>\n",
       "    </tr>\n",
       "    <tr>\n",
       "      <th>2020-07-01 05:34:00</th>\n",
       "      <td>0</td>\n",
       "      <td>0</td>\n",
       "      <td>1</td>\n",
       "      <td>335</td>\n",
       "    </tr>\n",
       "    <tr>\n",
       "      <th>2020-07-01 05:35:00</th>\n",
       "      <td>0</td>\n",
       "      <td>0</td>\n",
       "      <td>1</td>\n",
       "      <td>336</td>\n",
       "    </tr>\n",
       "    <tr>\n",
       "      <th>2020-07-01 05:36:00</th>\n",
       "      <td>1</td>\n",
       "      <td>1</td>\n",
       "      <td>0</td>\n",
       "      <td>0</td>\n",
       "    </tr>\n",
       "    <tr>\n",
       "      <th>2020-07-01 05:37:00</th>\n",
       "      <td>1</td>\n",
       "      <td>2</td>\n",
       "      <td>0</td>\n",
       "      <td>0</td>\n",
       "    </tr>\n",
       "    <tr>\n",
       "      <th>2020-07-01 05:38:00</th>\n",
       "      <td>1</td>\n",
       "      <td>3</td>\n",
       "      <td>0</td>\n",
       "      <td>0</td>\n",
       "    </tr>\n",
       "    <tr>\n",
       "      <th>2020-07-01 05:39:00</th>\n",
       "      <td>1</td>\n",
       "      <td>4</td>\n",
       "      <td>0</td>\n",
       "      <td>0</td>\n",
       "    </tr>\n",
       "  </tbody>\n",
       "</table>\n",
       "</div>"
      ],
      "text/plain": [
       "                     ac_on  ac_on_time  ac_off  ac_off_time\n",
       "2020-07-01 05:20:00      0           0       1          321\n",
       "2020-07-01 05:21:00      0           0       1          322\n",
       "2020-07-01 05:22:00      0           0       1          323\n",
       "2020-07-01 05:23:00      0           0       1          324\n",
       "2020-07-01 05:24:00      0           0       1          325\n",
       "2020-07-01 05:25:00      0           0       1          326\n",
       "2020-07-01 05:26:00      0           0       1          327\n",
       "2020-07-01 05:27:00      0           0       1          328\n",
       "2020-07-01 05:28:00      0           0       1          329\n",
       "2020-07-01 05:29:00      0           0       1          330\n",
       "2020-07-01 05:30:00      0           0       1          331\n",
       "2020-07-01 05:31:00      0           0       1          332\n",
       "2020-07-01 05:32:00      0           0       1          333\n",
       "2020-07-01 05:33:00      0           0       1          334\n",
       "2020-07-01 05:34:00      0           0       1          335\n",
       "2020-07-01 05:35:00      0           0       1          336\n",
       "2020-07-01 05:36:00      1           1       0            0\n",
       "2020-07-01 05:37:00      1           2       0            0\n",
       "2020-07-01 05:38:00      1           3       0            0\n",
       "2020-07-01 05:39:00      1           4       0            0"
      ]
     },
     "execution_count": 46,
     "metadata": {},
     "output_type": "execute_result"
    }
   ],
   "source": [
    "df[['ac_on', 'ac_on_time', 'ac_off', 'ac_off_time']][320:340]"
   ]
  },
  {
   "cell_type": "code",
   "execution_count": 106,
   "metadata": {},
   "outputs": [],
   "source": [
    "fe_experimental.fit(df)\n",
    "X_total = fe_experimental.transform(df)"
   ]
  },
  {
   "cell_type": "code",
   "execution_count": 107,
   "metadata": {},
   "outputs": [],
   "source": [
    "probs = model_lr.predict_proba(X_total)"
   ]
  },
  {
   "cell_type": "code",
   "execution_count": 108,
   "metadata": {},
   "outputs": [
    {
     "data": {
      "text/plain": [
       "((44640, 26), (44640, 2))"
      ]
     },
     "execution_count": 108,
     "metadata": {},
     "output_type": "execute_result"
    }
   ],
   "source": [
    "df.shape, probs.shape"
   ]
  },
  {
   "cell_type": "code",
   "execution_count": 109,
   "metadata": {},
   "outputs": [],
   "source": [
    "probs_on = []\n",
    "probs_off = []\n",
    "for row in range(len(probs)):\n",
    "    probs_on.append(probs[row][1])\n",
    "    probs_off.append(probs[row][0])\n",
    "    #df['probs_on'][row].replace(probs[row][0], inplace=True)\n",
    "    #df['probs_off'][row] = probs[row][1]"
   ]
  },
  {
   "cell_type": "code",
   "execution_count": 110,
   "metadata": {},
   "outputs": [],
   "source": [
    "df['probs_on'] = probs_on\n",
    "df['probs_off'] = probs_off"
   ]
  },
  {
   "cell_type": "code",
   "execution_count": 111,
   "metadata": {},
   "outputs": [
    {
     "data": {
      "text/html": [
       "<div>\n",
       "<style scoped>\n",
       "    .dataframe tbody tr th:only-of-type {\n",
       "        vertical-align: middle;\n",
       "    }\n",
       "\n",
       "    .dataframe tbody tr th {\n",
       "        vertical-align: top;\n",
       "    }\n",
       "\n",
       "    .dataframe thead th {\n",
       "        text-align: right;\n",
       "    }\n",
       "</style>\n",
       "<table border=\"1\" class=\"dataframe\">\n",
       "  <thead>\n",
       "    <tr style=\"text-align: right;\">\n",
       "      <th></th>\n",
       "      <th>sensor.ac_power</th>\n",
       "      <th>sensor.atmospheric_pressure</th>\n",
       "      <th>sensor.bathroom_humidity</th>\n",
       "      <th>sensor.bathroom_temperature</th>\n",
       "      <th>sensor.equipment_temperature</th>\n",
       "      <th>sensor.kitchen_humidity</th>\n",
       "      <th>sensor.kitchen_temperature</th>\n",
       "      <th>sensor.office_co2</th>\n",
       "      <th>sensor.room_humidity</th>\n",
       "      <th>sensor.room_temperature</th>\n",
       "      <th>...</th>\n",
       "      <th>cover.balcony</th>\n",
       "      <th>cover.windows</th>\n",
       "      <th>person.one</th>\n",
       "      <th>person.two</th>\n",
       "      <th>ac_on</th>\n",
       "      <th>ac_on_time</th>\n",
       "      <th>ac_off</th>\n",
       "      <th>ac_off_time</th>\n",
       "      <th>probs_on</th>\n",
       "      <th>probs_off</th>\n",
       "    </tr>\n",
       "  </thead>\n",
       "  <tbody>\n",
       "    <tr>\n",
       "      <th>2020-07-01 00:00:00</th>\n",
       "      <td>1.0</td>\n",
       "      <td>1004.0</td>\n",
       "      <td>42.0</td>\n",
       "      <td>24.5</td>\n",
       "      <td>29.7</td>\n",
       "      <td>39.5</td>\n",
       "      <td>23.8</td>\n",
       "      <td>NaN</td>\n",
       "      <td>38.3</td>\n",
       "      <td>22.6</td>\n",
       "      <td>...</td>\n",
       "      <td>open</td>\n",
       "      <td>open</td>\n",
       "      <td>not_home</td>\n",
       "      <td>not_home</td>\n",
       "      <td>0</td>\n",
       "      <td>0</td>\n",
       "      <td>1</td>\n",
       "      <td>1</td>\n",
       "      <td>0.491696</td>\n",
       "      <td>0.508304</td>\n",
       "    </tr>\n",
       "    <tr>\n",
       "      <th>2020-07-01 00:01:00</th>\n",
       "      <td>1.0</td>\n",
       "      <td>1004.0</td>\n",
       "      <td>42.0</td>\n",
       "      <td>24.5</td>\n",
       "      <td>29.7</td>\n",
       "      <td>39.5</td>\n",
       "      <td>23.8</td>\n",
       "      <td>NaN</td>\n",
       "      <td>38.3</td>\n",
       "      <td>22.6</td>\n",
       "      <td>...</td>\n",
       "      <td>open</td>\n",
       "      <td>open</td>\n",
       "      <td>not_home</td>\n",
       "      <td>not_home</td>\n",
       "      <td>0</td>\n",
       "      <td>0</td>\n",
       "      <td>1</td>\n",
       "      <td>2</td>\n",
       "      <td>0.491696</td>\n",
       "      <td>0.508304</td>\n",
       "    </tr>\n",
       "    <tr>\n",
       "      <th>2020-07-01 00:02:00</th>\n",
       "      <td>1.0</td>\n",
       "      <td>1004.0</td>\n",
       "      <td>42.0</td>\n",
       "      <td>24.5</td>\n",
       "      <td>29.7</td>\n",
       "      <td>39.5</td>\n",
       "      <td>23.8</td>\n",
       "      <td>NaN</td>\n",
       "      <td>38.3</td>\n",
       "      <td>22.6</td>\n",
       "      <td>...</td>\n",
       "      <td>open</td>\n",
       "      <td>open</td>\n",
       "      <td>not_home</td>\n",
       "      <td>not_home</td>\n",
       "      <td>0</td>\n",
       "      <td>0</td>\n",
       "      <td>1</td>\n",
       "      <td>3</td>\n",
       "      <td>0.491696</td>\n",
       "      <td>0.508304</td>\n",
       "    </tr>\n",
       "    <tr>\n",
       "      <th>2020-07-01 00:03:00</th>\n",
       "      <td>1.0</td>\n",
       "      <td>1004.0</td>\n",
       "      <td>42.0</td>\n",
       "      <td>24.5</td>\n",
       "      <td>29.7</td>\n",
       "      <td>39.5</td>\n",
       "      <td>23.8</td>\n",
       "      <td>NaN</td>\n",
       "      <td>38.3</td>\n",
       "      <td>22.6</td>\n",
       "      <td>...</td>\n",
       "      <td>open</td>\n",
       "      <td>open</td>\n",
       "      <td>not_home</td>\n",
       "      <td>not_home</td>\n",
       "      <td>0</td>\n",
       "      <td>0</td>\n",
       "      <td>1</td>\n",
       "      <td>4</td>\n",
       "      <td>0.528091</td>\n",
       "      <td>0.471909</td>\n",
       "    </tr>\n",
       "    <tr>\n",
       "      <th>2020-07-01 00:04:00</th>\n",
       "      <td>1.0</td>\n",
       "      <td>1004.0</td>\n",
       "      <td>42.0</td>\n",
       "      <td>24.5</td>\n",
       "      <td>29.7</td>\n",
       "      <td>39.5</td>\n",
       "      <td>23.8</td>\n",
       "      <td>NaN</td>\n",
       "      <td>38.3</td>\n",
       "      <td>22.6</td>\n",
       "      <td>...</td>\n",
       "      <td>open</td>\n",
       "      <td>open</td>\n",
       "      <td>not_home</td>\n",
       "      <td>not_home</td>\n",
       "      <td>0</td>\n",
       "      <td>0</td>\n",
       "      <td>1</td>\n",
       "      <td>5</td>\n",
       "      <td>0.528091</td>\n",
       "      <td>0.471909</td>\n",
       "    </tr>\n",
       "  </tbody>\n",
       "</table>\n",
       "<p>5 rows × 26 columns</p>\n",
       "</div>"
      ],
      "text/plain": [
       "                     sensor.ac_power  sensor.atmospheric_pressure  \\\n",
       "2020-07-01 00:00:00              1.0                       1004.0   \n",
       "2020-07-01 00:01:00              1.0                       1004.0   \n",
       "2020-07-01 00:02:00              1.0                       1004.0   \n",
       "2020-07-01 00:03:00              1.0                       1004.0   \n",
       "2020-07-01 00:04:00              1.0                       1004.0   \n",
       "\n",
       "                     sensor.bathroom_humidity  sensor.bathroom_temperature  \\\n",
       "2020-07-01 00:00:00                      42.0                         24.5   \n",
       "2020-07-01 00:01:00                      42.0                         24.5   \n",
       "2020-07-01 00:02:00                      42.0                         24.5   \n",
       "2020-07-01 00:03:00                      42.0                         24.5   \n",
       "2020-07-01 00:04:00                      42.0                         24.5   \n",
       "\n",
       "                     sensor.equipment_temperature  sensor.kitchen_humidity  \\\n",
       "2020-07-01 00:00:00                          29.7                     39.5   \n",
       "2020-07-01 00:01:00                          29.7                     39.5   \n",
       "2020-07-01 00:02:00                          29.7                     39.5   \n",
       "2020-07-01 00:03:00                          29.7                     39.5   \n",
       "2020-07-01 00:04:00                          29.7                     39.5   \n",
       "\n",
       "                     sensor.kitchen_temperature  sensor.office_co2  \\\n",
       "2020-07-01 00:00:00                        23.8                NaN   \n",
       "2020-07-01 00:01:00                        23.8                NaN   \n",
       "2020-07-01 00:02:00                        23.8                NaN   \n",
       "2020-07-01 00:03:00                        23.8                NaN   \n",
       "2020-07-01 00:04:00                        23.8                NaN   \n",
       "\n",
       "                     sensor.room_humidity  sensor.room_temperature  ...  \\\n",
       "2020-07-01 00:00:00                  38.3                     22.6  ...   \n",
       "2020-07-01 00:01:00                  38.3                     22.6  ...   \n",
       "2020-07-01 00:02:00                  38.3                     22.6  ...   \n",
       "2020-07-01 00:03:00                  38.3                     22.6  ...   \n",
       "2020-07-01 00:04:00                  38.3                     22.6  ...   \n",
       "\n",
       "                     cover.balcony  cover.windows person.one person.two ac_on  \\\n",
       "2020-07-01 00:00:00           open           open   not_home   not_home     0   \n",
       "2020-07-01 00:01:00           open           open   not_home   not_home     0   \n",
       "2020-07-01 00:02:00           open           open   not_home   not_home     0   \n",
       "2020-07-01 00:03:00           open           open   not_home   not_home     0   \n",
       "2020-07-01 00:04:00           open           open   not_home   not_home     0   \n",
       "\n",
       "                    ac_on_time ac_off ac_off_time  probs_on probs_off  \n",
       "2020-07-01 00:00:00          0      1           1  0.491696  0.508304  \n",
       "2020-07-01 00:01:00          0      1           2  0.491696  0.508304  \n",
       "2020-07-01 00:02:00          0      1           3  0.491696  0.508304  \n",
       "2020-07-01 00:03:00          0      1           4  0.528091  0.471909  \n",
       "2020-07-01 00:04:00          0      1           5  0.528091  0.471909  \n",
       "\n",
       "[5 rows x 26 columns]"
      ]
     },
     "execution_count": 111,
     "metadata": {},
     "output_type": "execute_result"
    }
   ],
   "source": [
    "df.head()"
   ]
  },
  {
   "cell_type": "code",
   "execution_count": 112,
   "metadata": {},
   "outputs": [],
   "source": [
    "probs_on = df.groupby('ac_on_time')['probs_on'].mean()[:240]"
   ]
  },
  {
   "cell_type": "code",
   "execution_count": 113,
   "metadata": {
    "scrolled": true
   },
   "outputs": [
    {
     "data": {
      "text/plain": [
       "ac_on_time\n",
       "0    0.082312\n",
       "1    0.409684\n",
       "2    0.426038\n",
       "3    0.420536\n",
       "4    0.422022\n",
       "Name: probs_on, dtype: float64"
      ]
     },
     "execution_count": 113,
     "metadata": {},
     "output_type": "execute_result"
    }
   ],
   "source": [
    "probs_on.head()"
   ]
  },
  {
   "cell_type": "code",
   "execution_count": 114,
   "metadata": {},
   "outputs": [],
   "source": [
    "probs_off = df.groupby('ac_off_time')['probs_off'].mean()[:240]"
   ]
  },
  {
   "cell_type": "code",
   "execution_count": 115,
   "metadata": {},
   "outputs": [
    {
     "data": {
      "text/plain": [
       "(240, 240)"
      ]
     },
     "execution_count": 115,
     "metadata": {},
     "output_type": "execute_result"
    }
   ],
   "source": [
    "len(probs_on), len(probs_off)"
   ]
  },
  {
   "cell_type": "code",
   "execution_count": 116,
   "metadata": {
    "scrolled": true
   },
   "outputs": [
    {
     "data": {
      "text/html": [
       "<div>\n",
       "<style scoped>\n",
       "    .dataframe tbody tr th:only-of-type {\n",
       "        vertical-align: middle;\n",
       "    }\n",
       "\n",
       "    .dataframe tbody tr th {\n",
       "        vertical-align: top;\n",
       "    }\n",
       "\n",
       "    .dataframe thead th {\n",
       "        text-align: right;\n",
       "    }\n",
       "</style>\n",
       "<table border=\"1\" class=\"dataframe\">\n",
       "  <thead>\n",
       "    <tr style=\"text-align: right;\">\n",
       "      <th></th>\n",
       "      <th>Time</th>\n",
       "      <th>On</th>\n",
       "      <th>Off</th>\n",
       "    </tr>\n",
       "  </thead>\n",
       "  <tbody>\n",
       "    <tr>\n",
       "      <th>0</th>\n",
       "      <td>0</td>\n",
       "      <td>0.082312</td>\n",
       "      <td>0.211339</td>\n",
       "    </tr>\n",
       "    <tr>\n",
       "      <th>1</th>\n",
       "      <td>1</td>\n",
       "      <td>0.409684</td>\n",
       "      <td>0.403675</td>\n",
       "    </tr>\n",
       "    <tr>\n",
       "      <th>2</th>\n",
       "      <td>2</td>\n",
       "      <td>0.426038</td>\n",
       "      <td>0.432142</td>\n",
       "    </tr>\n",
       "    <tr>\n",
       "      <th>3</th>\n",
       "      <td>3</td>\n",
       "      <td>0.420536</td>\n",
       "      <td>0.461828</td>\n",
       "    </tr>\n",
       "    <tr>\n",
       "      <th>4</th>\n",
       "      <td>4</td>\n",
       "      <td>0.422022</td>\n",
       "      <td>0.460740</td>\n",
       "    </tr>\n",
       "    <tr>\n",
       "      <th>...</th>\n",
       "      <td>...</td>\n",
       "      <td>...</td>\n",
       "      <td>...</td>\n",
       "    </tr>\n",
       "    <tr>\n",
       "      <th>235</th>\n",
       "      <td>235</td>\n",
       "      <td>0.844975</td>\n",
       "      <td>0.965330</td>\n",
       "    </tr>\n",
       "    <tr>\n",
       "      <th>236</th>\n",
       "      <td>236</td>\n",
       "      <td>0.845878</td>\n",
       "      <td>0.964896</td>\n",
       "    </tr>\n",
       "    <tr>\n",
       "      <th>237</th>\n",
       "      <td>237</td>\n",
       "      <td>0.846419</td>\n",
       "      <td>0.960558</td>\n",
       "    </tr>\n",
       "    <tr>\n",
       "      <th>238</th>\n",
       "      <td>238</td>\n",
       "      <td>0.846419</td>\n",
       "      <td>0.960325</td>\n",
       "    </tr>\n",
       "    <tr>\n",
       "      <th>239</th>\n",
       "      <td>239</td>\n",
       "      <td>0.840088</td>\n",
       "      <td>0.960324</td>\n",
       "    </tr>\n",
       "  </tbody>\n",
       "</table>\n",
       "<p>240 rows × 3 columns</p>\n",
       "</div>"
      ],
      "text/plain": [
       "     Time        On       Off\n",
       "0       0  0.082312  0.211339\n",
       "1       1  0.409684  0.403675\n",
       "2       2  0.426038  0.432142\n",
       "3       3  0.420536  0.461828\n",
       "4       4  0.422022  0.460740\n",
       "..    ...       ...       ...\n",
       "235   235  0.844975  0.965330\n",
       "236   236  0.845878  0.964896\n",
       "237   237  0.846419  0.960558\n",
       "238   238  0.846419  0.960325\n",
       "239   239  0.840088  0.960324\n",
       "\n",
       "[240 rows x 3 columns]"
      ]
     },
     "execution_count": 116,
     "metadata": {},
     "output_type": "execute_result"
    }
   ],
   "source": [
    "probs = pd.DataFrame({'Time': probs_on.index, \"On\":probs_on, \"Off\":probs_off})\n",
    "probs"
   ]
  },
  {
   "cell_type": "code",
   "execution_count": 117,
   "metadata": {},
   "outputs": [
    {
     "data": {
      "text/html": [
       "<div>\n",
       "<style scoped>\n",
       "    .dataframe tbody tr th:only-of-type {\n",
       "        vertical-align: middle;\n",
       "    }\n",
       "\n",
       "    .dataframe tbody tr th {\n",
       "        vertical-align: top;\n",
       "    }\n",
       "\n",
       "    .dataframe thead th {\n",
       "        text-align: right;\n",
       "    }\n",
       "</style>\n",
       "<table border=\"1\" class=\"dataframe\">\n",
       "  <thead>\n",
       "    <tr style=\"text-align: right;\">\n",
       "      <th></th>\n",
       "      <th>Time</th>\n",
       "      <th>State</th>\n",
       "      <th>Probability</th>\n",
       "    </tr>\n",
       "  </thead>\n",
       "  <tbody>\n",
       "    <tr>\n",
       "      <th>0</th>\n",
       "      <td>0</td>\n",
       "      <td>On</td>\n",
       "      <td>0.082312</td>\n",
       "    </tr>\n",
       "    <tr>\n",
       "      <th>1</th>\n",
       "      <td>1</td>\n",
       "      <td>On</td>\n",
       "      <td>0.409684</td>\n",
       "    </tr>\n",
       "    <tr>\n",
       "      <th>2</th>\n",
       "      <td>2</td>\n",
       "      <td>On</td>\n",
       "      <td>0.426038</td>\n",
       "    </tr>\n",
       "    <tr>\n",
       "      <th>3</th>\n",
       "      <td>3</td>\n",
       "      <td>On</td>\n",
       "      <td>0.420536</td>\n",
       "    </tr>\n",
       "    <tr>\n",
       "      <th>4</th>\n",
       "      <td>4</td>\n",
       "      <td>On</td>\n",
       "      <td>0.422022</td>\n",
       "    </tr>\n",
       "    <tr>\n",
       "      <th>...</th>\n",
       "      <td>...</td>\n",
       "      <td>...</td>\n",
       "      <td>...</td>\n",
       "    </tr>\n",
       "    <tr>\n",
       "      <th>475</th>\n",
       "      <td>235</td>\n",
       "      <td>Off</td>\n",
       "      <td>0.965330</td>\n",
       "    </tr>\n",
       "    <tr>\n",
       "      <th>476</th>\n",
       "      <td>236</td>\n",
       "      <td>Off</td>\n",
       "      <td>0.964896</td>\n",
       "    </tr>\n",
       "    <tr>\n",
       "      <th>477</th>\n",
       "      <td>237</td>\n",
       "      <td>Off</td>\n",
       "      <td>0.960558</td>\n",
       "    </tr>\n",
       "    <tr>\n",
       "      <th>478</th>\n",
       "      <td>238</td>\n",
       "      <td>Off</td>\n",
       "      <td>0.960325</td>\n",
       "    </tr>\n",
       "    <tr>\n",
       "      <th>479</th>\n",
       "      <td>239</td>\n",
       "      <td>Off</td>\n",
       "      <td>0.960324</td>\n",
       "    </tr>\n",
       "  </tbody>\n",
       "</table>\n",
       "<p>480 rows × 3 columns</p>\n",
       "</div>"
      ],
      "text/plain": [
       "     Time State  Probability\n",
       "0       0    On     0.082312\n",
       "1       1    On     0.409684\n",
       "2       2    On     0.426038\n",
       "3       3    On     0.420536\n",
       "4       4    On     0.422022\n",
       "..    ...   ...          ...\n",
       "475   235   Off     0.965330\n",
       "476   236   Off     0.964896\n",
       "477   237   Off     0.960558\n",
       "478   238   Off     0.960325\n",
       "479   239   Off     0.960324\n",
       "\n",
       "[480 rows x 3 columns]"
      ]
     },
     "execution_count": 117,
     "metadata": {},
     "output_type": "execute_result"
    }
   ],
   "source": [
    "probs = probs.melt('Time', var_name='State', value_name='Probability')\n",
    "probs"
   ]
  },
  {
   "cell_type": "code",
   "execution_count": 118,
   "metadata": {},
   "outputs": [
    {
     "data": {
      "image/png": "[encoded data removed]",
      "text/plain": [
       "<Figure size 720x360 with 1 Axes>"
      ]
     },
     "metadata": {},
     "output_type": "display_data"
    }
   ],
   "source": [
    "plt.rcParams['figure.figsize'] = (10,5)\n",
    "sns.lineplot(data=probs, x='Time', y='Probability', hue='State', palette=\"Set2\", linewidth = 2)\n",
    "plt.title(\"Without class balancing\")\n",
    "sns.set(font_scale = 1.5)\n",
    "plt.savefig(os.path.join('./images', 'class_not_balanced_probs.png'))"
   ]
  },
  {
   "cell_type": "code",
   "execution_count": null,
   "metadata": {},
   "outputs": [],
   "source": []
  }
 ],
 "metadata": {
  "kernelspec": {
   "display_name": "Python 3",
   "language": "python",
   "name": "python3"
  },
  "language_info": {
   "codemirror_mode": {
    "name": "ipython",
    "version": 3
   },
   "file_extension": ".py",
   "mimetype": "text/x-python",
   "name": "python",
   "nbconvert_exporter": "python",
   "pygments_lexer": "ipython3",
   "version": "3.8.3"
  }
 },
 "nbformat": 4,
 "nbformat_minor": 4
}
